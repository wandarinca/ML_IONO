{
 "cells": [
  {
   "cell_type": "code",
   "execution_count": 1,
   "metadata": {
    "collapsed": true
   },
   "outputs": [],
   "source": [
    "import time\n",
    "import pandas as pd\n",
    "from pandas import scatter_matrix\n",
    "import numpy as np\n",
    "import sklearn\n",
    "import matplotlib.pyplot as plt\n",
    "#import seaborn as sns\n",
    "\n",
    "from sklearn.model_selection import StratifiedKFold, GridSearchCV\n",
    "\n",
    "from sklearn.metrics import fbeta_score, make_scorer\n",
    "from sklearn.metrics import accuracy_score, recall_score, f1_score, precision_score\n",
    "from sklearn.metrics import confusion_matrix\n",
    "from sklearn.model_selection import train_test_split\n",
    "\n",
    "from sklearn.decomposition import PCA, FastICA\n",
    "\n",
    "from sklearn.naive_bayes import GaussianNB #naive bayes\n",
    "#from sklearn.gaussian_process import GaussianProcessClassifier\n",
    "from imblearn.over_sampling import SMOTE, ADASYN\n",
    "\n",
    "from random import randint\n",
    "\n",
    "%matplotlib inline"
   ]
  },
  {
   "cell_type": "markdown",
   "metadata": {},
   "source": [
    "### Original data"
   ]
  },
  {
   "cell_type": "code",
   "execution_count": 2,
   "metadata": {
    "collapsed": false
   },
   "outputs": [
    {
     "name": "stdout",
     "output_type": "stream",
     "text": [
      "(430, 41)\n"
     ]
    }
   ],
   "source": [
    "data_iono = pd.read_csv(\"/home/wanda/master_project/Data/spain_balance_data.csv\",index_col=0)\n",
    "print data_iono.shape"
   ]
  },
  {
   "cell_type": "code",
   "execution_count": 6,
   "metadata": {
    "collapsed": false
   },
   "outputs": [
    {
     "name": "stdout",
     "output_type": "stream",
     "text": [
      "(257, 41)\n",
      "(173, 41)\n"
     ]
    }
   ],
   "source": [
    "print data_iono[data_iono.BIN_LABEL==0].shape\n",
    "print data_iono[data_iono.BIN_LABEL==1].shape"
   ]
  },
  {
   "cell_type": "code",
   "execution_count": 3,
   "metadata": {
    "collapsed": false
   },
   "outputs": [
    {
     "data": {
      "text/plain": [
       "Index([u'A_index', u'C_flare', u'K_index', u'N_PAIRS', u'N_STATIONS',\n",
       "       u'kurtosis_delay', u'kurtosis_grad', u'max_elevation', u'max_grad',\n",
       "       u'max_phase_delay', u'mean_code_delay', u'mean_elevation', u'mean_grad',\n",
       "       u'mean_phase_delay', u'min_elevation', u'min_grad', u'min_phase_delay',\n",
       "       u'mse', u'new_regions', u'radio_flux', u'std_grad', u'std_phase',\n",
       "       u'sunsplot_number', u'sunspot_area', u'bucket_grad',\n",
       "       u'bucket_grad_mean', u'k_index_bucket', u'elev_min_bucket',\n",
       "       u'elev_mean_bucket', u'elev_max_bucket', u'grad_elev', u'BIN_LABEL',\n",
       "       u'LABEL', u'prn', u'network', u'STATIONS', u'PAIRS', u'ID', u'YEAR',\n",
       "       u'DAY', u'TIME'],\n",
       "      dtype='object')"
      ]
     },
     "execution_count": 3,
     "metadata": {},
     "output_type": "execute_result"
    }
   ],
   "source": [
    "data_iono.columns"
   ]
  },
  {
   "cell_type": "code",
   "execution_count": 4,
   "metadata": {
    "collapsed": false
   },
   "outputs": [
    {
     "data": {
      "text/plain": [
       "<matplotlib.axes._subplots.AxesSubplot at 0x7fbd96a44ad0>"
      ]
     },
     "execution_count": 4,
     "metadata": {},
     "output_type": "execute_result"
    },
    {
     "data": {
      "image/png": "[encoded data removed]",
      "text/plain": [
       "<matplotlib.figure.Figure at 0x7fbdd4321950>"
      ]
     },
     "metadata": {},
     "output_type": "display_data"
    }
   ],
   "source": [
    "purp = \"#b366ff\"\n",
    "blue = \"#9999ff\"\n",
    "cool_grey = \"#a3a3c2\"\n",
    "other_gray = \"#808080\"\n",
    "plt.figure(figsize=(5,5))\n",
    "plt.figtext(.5,.9,\"Classes  Proportion\", fontsize=15, ha='center')\n",
    "data_iono.BIN_LABEL.value_counts().plot(kind='pie',autopct='%1.1f%%', fontsize=15, colors=[other_gray,blue]) "
   ]
  },
  {
   "cell_type": "markdown",
   "metadata": {},
   "source": [
    "In our study data is splitted in four parts. 3  Folds or 75% of the data are used to train the algorithms, and will be oversampled since data of class \"1\" or \"True ionospheric event\" is less common. The other part is conserved original to test."
   ]
  },
  {
   "cell_type": "code",
   "execution_count": 5,
   "metadata": {
    "collapsed": false
   },
   "outputs": [
    {
     "name": "stdout",
     "output_type": "stream",
     "text": [
      "Each fold has  111.5  elements.\n",
      "Elements of class 1 or True Event:  47.25\n",
      "Elements of class 0 or False Event:  64.25\n"
     ]
    }
   ],
   "source": [
    "print \"Each fold has \",data_iono.shape[0]/4.,\" elements.\"\n",
    "print \"Elements of class 1 or True Event: \",data_iono[data_iono.BIN_LABEL==1].shape[0]/4.\n",
    "print \"Elements of class 0 or False Event: \",data_iono[data_iono.BIN_LABEL==0].shape[0]/4."
   ]
  },
  {
   "cell_type": "code",
   "execution_count": 6,
   "metadata": {
    "collapsed": false
   },
   "outputs": [
    {
     "name": "stdout",
     "output_type": "stream",
     "text": [
      "Dataset shape:  (430, 31)\n",
      "Dataset (Spain) shape:  (16, 31)\n"
     ]
    }
   ],
   "source": [
    "data_spain = data_iono[data_iono.network=='rap']\n",
    "data_iono = data_iono[data_iono.network!='rap']\n",
    "\n",
    "metadata = ['prn','network','STATIONS','PAIRS', 'ID','YEAR', 'DAY','TIME' ]\n",
    "labels = ['BIN_LABEL' 'LABEL']\n",
    "columns = ['A_index', 'C_flare', 'K_index', 'N_PAIRS', 'N_STATIONS',\n",
    "       'kurtosis_delay', 'kurtosis_grad', 'max_elevation', 'max_grad',\n",
    "       'max_phase_delay', 'mean_code_delay', 'mean_elevation', 'mean_grad',\n",
    "       'mean_phase_delay', 'min_elevation', 'min_grad', 'min_phase_delay',\n",
    "       'mse', 'new_regions', 'radio_flux', 'std_grad', 'std_phase',\n",
    "       'sunsplot_number', 'sunspot_area', 'bucket_grad',\n",
    "       'bucket_grad_mean', 'k_index_bucket', 'elev_min_bucket',\n",
    "       'elev_mean_bucket', 'elev_max_bucket', 'grad_elev']\n",
    "\n",
    "X = data_iono[columns]\n",
    "X_spain = data_spain[columns]\n",
    "\n",
    "print \"Dataset shape: \",X.shape\n",
    "print \"Dataset (Spain) shape: \",X_spain.shape\n",
    "y_bin, y_classes = data_iono.BIN_LABEL, data_iono.LABEL\n",
    "y_spain = data_spain.BIN_LABEL"
   ]
  },
  {
   "cell_type": "markdown",
   "metadata": {},
   "source": [
    "\n",
    "## Train with 75% --> Use oversampling techiques (Smote and Adasyn)  and cross-validation\n",
    "\n",
    "## Test 25% --> original data"
   ]
  },
  {
   "cell_type": "markdown",
   "metadata": {},
   "source": [
    "# Binary Classification: True or False Ionospheric Event"
   ]
  },
  {
   "cell_type": "markdown",
   "metadata": {},
   "source": [
    "\n",
    "- FP --> Non Ionospheric Event, Labeled as event\n",
    "- FN --> True Ionospheric Event, Labeled as not events\n",
    "- TP --> True Ionospheric Event, Labeled as events\n",
    "- TN --> Non Ionospheric Event, Labeled as not events"
   ]
  },
  {
   "cell_type": "raw",
   "metadata": {},
   "source": [
    "                         Condition:Iono         Not Iono \n",
    "\n",
    "  Test says “Iono”       True positive   |   False positive\n",
    "                      ----------------------------------\n",
    "  Test says “Not Iono”   False negative  |    True negative\n"
   ]
  },
  {
   "cell_type": "markdown",
   "metadata": {},
   "source": [
    "# <a href = \"https://en.wikipedia.org/wiki/F1_score\">Metrics</a>\n",
    "\n",
    "\n",
    "What is more valuable?\n",
    "\n",
    "<a href=\"https://stats.stackexchange.com/questions/61829/relation-between-true-positive-false-positive-false-negative-and-true-negative\">**TPR**, FNR, ACC, PRES, F2, F1.   High,  **FNR**, FP low.</a>\n",
    "\n",
    "*The most important metrics for our case are: TPR, FNR, F2, ACC*\n",
    "\n",
    "#### TPR\n",
    "\n",
    "True Positive Rate or Sensitivity or Recall\n",
    "\n",
    "$${\\displaystyle {\\mathit {TPR}}={\\mathit {TP}}/P={\\mathit {TP}}/({\\mathit {TP}}+{\\mathit {FN}})}$$\n",
    "\n",
    "#### FNR\n",
    "False Negative Rate \n",
    "\n",
    "$$FNR = \\frac{FN}{TP+FN}$$\n",
    "\n",
    "\n",
    "####  TNR\n",
    "\n",
    "True Negative Rate  or Specificity (SPC)\n",
    "\n",
    "\n",
    "$${\\displaystyle {\\mathit {SPC}}={\\mathit {TN}}/N={\\mathit {TN}}/({\\mathit {TN}}+{\\mathit {FP}})} {\\mathit {SPC}}={\\mathit {TN}}/N={\\mathit {TN}}/({\\mathit {TN}}+{\\mathit {FP}})$$\n",
    "\n",
    "#### ACC\n",
    "\n",
    "Accuracy\n",
    "\n",
    "$${\\displaystyle \\mathrm {ACC} ={\\frac {\\mathrm {TP} +\\mathrm {TN} }{P+N}}={\\frac {\\mathrm {TP} +\\mathrm {TN} }{\\mathrm {TP} +\\mathrm {FP}+\\mathrm {TN}  +\\mathrm {FN} }}}$$\n",
    "\n",
    "\n",
    "#### F1 \n",
    "\n",
    "Is the harmonic mean of precision and sensitivity(TPR)\n",
    "$${\\displaystyle {\\mathit {F1}}=2{\\mathit {TP}}/(2{\\mathit {TP}}+{\\mathit {FP}}+{\\mathit {FN}})}$$\n",
    "\n",
    "\n",
    "#### F2 , $F_\\beta$ \n",
    "\n",
    "Weighs recall higher than precision (by placing more emphasis on false negatives). -->sklearn.metrics.fbeta_score\n",
    "\n",
    "$$F_\\beta= \\frac{(1+\\beta^2).TP}{(1+\\beta^2).TP+\\beta^2-FN+FP}$$\n",
    "\n",
    "\n",
    "#### FOR\n",
    "False omission Rate\n",
    "\n",
    "$$FOR = 1 - NPV = \\frac{FN}{TN+FN}$$\n",
    "\n",
    "* -------------------------------------------------------\n",
    "# Other metrics\n",
    "\n",
    "#### FPR\n",
    "\n",
    "False Positive Rate \n",
    "\n",
    "$${\\displaystyle {\\frac {FP}{N}}={\\frac {FP}{FP+TN}}} {\\displaystyle {\\frac {FP}{N}}={\\frac {FP}{FP+TN}}}$$\n",
    "\n",
    "\n",
    "In scikit learn with cv fuction : scoring : string, callable or None, optional, default: None\n",
    "    A string (see model evaluation documentation) or\n",
    "    a scorer callable object / function with signature\n",
    "    ``scorer(estimator, X, y)``\n",
    "\n",
    "\n",
    "#### PRE \n",
    "\n",
    "The precision is intuitively the ability of the classifier not to label as positive a sample that is negative.\n",
    "\n",
    "$${\\displaystyle {\\text{Precision}}={\\frac {TP}{TP+FP}}\\,}$$\n",
    "\n",
    "\n"
   ]
  },
  {
   "cell_type": "code",
   "execution_count": 7,
   "metadata": {
    "collapsed": false
   },
   "outputs": [],
   "source": [
    "f2_scorer = make_scorer(fbeta_score, beta=2)\n",
    "f2_scorer\n",
    "\n",
    "\n",
    "#http://www.dataschool.io/simple-guide-to-confusion-matrix-terminology/\n",
    "\n",
    "def fnr_score(y, y_pred):\n",
    "    cm = confusion_matrix(y, y_pred)\n",
    "    tp = cm[1][1]*1.\n",
    "    fn = cm[1][0]*1.\n",
    "    tn = cm[0][0]*1.\n",
    "    fp = cm[0][1]*1.\n",
    "    fnr = fn/(tp+fn)\n",
    "    return fnr\n",
    "\n",
    "def fpr_score(y, y_pred):\n",
    "    cm = confusion_matrix(y, y_pred)\n",
    "    tp = cm[1][1]*1.\n",
    "    fn = cm[1][0]*1.\n",
    "    tn = cm[0][0]*1.\n",
    "    fp = cm[0][1]*1.\n",
    "    fpr = fp/(tn+fp)\n",
    "    return fpr\n",
    "\n",
    "def for_score(y, y_pred):\n",
    "    #false omission rate\n",
    "    cm = confusion_matrix(y, y_pred)\n",
    "    tp = cm[1][1]*1.\n",
    "    fn = cm[1][0]*1.\n",
    "    tn = cm[0][0]*1.\n",
    "    fp = cm[0][1]*1.\n",
    "    fpr = fn/(tn+fn)\n",
    "    return fpr\n",
    "\n",
    "fnr_scorer = make_scorer(fnr_score)\n",
    "fpr_scorer = make_scorer(fpr_score)\n",
    "for_scorer = make_scorer(for_score)"
   ]
  },
  {
   "cell_type": "code",
   "execution_count": 8,
   "metadata": {
    "collapsed": false
   },
   "outputs": [],
   "source": [
    "def learning_curve_scores(clf,X_train,y_train, X_test,y_test, score,train_sizes = np.linspace(.1, 1.0, 5),beta=None):\n",
    "    #Scores for a model when experience increases.\n",
    "    lc_score_train, lc_score_test = [], []\n",
    "    for size in train_sizes:\n",
    "        # Get random section from train data, stratified.\n",
    "        if size!=1.0:\n",
    "            X_t,__, y_t, __ = train_test_split(X_train, y_train, train_size=size, random_state=randint(1,100), stratify= y_train)\n",
    "        else:\n",
    "            X_t, y_t = X_train, y_train  \n",
    "            \n",
    "        # Fit with train\n",
    "        clf.fit(X_t,y_t)\n",
    "        # Predict on Train\n",
    "        y_pred_train = clf.predict(X_t)\n",
    "        # Predict on Test\n",
    "        y_pred_test = clf.predict(X_test)\n",
    "        # Save scores\n",
    "        if beta!= None:\n",
    "            lc_score_train.append(score(y_t, y_pred_train,beta))\n",
    "            lc_score_test.append(score(y_test, y_pred_test,beta))     \n",
    "        else:\n",
    "            lc_score_train.append(score(y_t, y_pred_train))\n",
    "            lc_score_test.append(score(y_test, y_pred_test))     \n",
    "    \n",
    "    return lc_score_train, lc_score_test"
   ]
  },
  {
   "cell_type": "code",
   "execution_count": 13,
   "metadata": {
    "collapsed": true
   },
   "outputs": [],
   "source": [
    "def plot_lc(title, scores):\n",
    "    metrics = ['F2','PRE','TPR']\n",
    "    for metric in metrics:\n",
    "        plt.figure()\n",
    "        plt.title(title+\" \"+metric)\n",
    "        plt.xlabel(\"Training examples\")\n",
    "        plt.ylabel(\"Score\")\n",
    "        train_sizes = np.linspace(.1, 1.0, 5)\n",
    "        train_scores_mean = np.mean(np.array(scores[metric+'_train']),axis=0)\n",
    "        train_scores_std =np.std(np.array(scores[metric+'_train']),axis=0)\n",
    "        test_scores_mean = np.mean(np.array(scores[metric+'_test']),axis=0)\n",
    "        test_scores_std = np.std(np.array(scores[metric+'_test']),axis=0)\n",
    "        plt.grid()\n",
    "\n",
    "        plt.fill_between(train_sizes, train_scores_mean - train_scores_std,\n",
    "                         train_scores_mean + train_scores_std, alpha=0.1,\n",
    "                         color=\"r\")\n",
    "        plt.fill_between(train_sizes, test_scores_mean - test_scores_std,\n",
    "                         test_scores_mean + test_scores_std, alpha=0.1, color=\"g\")\n",
    "        plt.plot(train_sizes, train_scores_mean, 'o-', color=\"r\",\n",
    "                 label=\"Training score\")\n",
    "        plt.plot(train_sizes, test_scores_mean, 'o-', color=\"g\",\n",
    "                 label=\"Test score\")#label=\"Cross-validation score\"\n",
    "\n",
    "        plt.legend(loc=\"best\")\n",
    "    return plt"
   ]
  },
  {
   "cell_type": "markdown",
   "metadata": {},
   "source": [
    "*-----------------------------------------------------------------------------------*\n",
    "# Classifier: Naive Bayes"
   ]
  },
  {
   "cell_type": "code",
   "execution_count": 14,
   "metadata": {
    "collapsed": false
   },
   "outputs": [
    {
     "name": "stdout",
     "output_type": "stream",
     "text": [
      "Each fold has  107.5  elements.\n",
      "Elements of class 1 or True Event:  43.25\n",
      "Elements of class 0 or False Event:  64.25\n"
     ]
    }
   ],
   "source": [
    "print \"Each fold has \",data_iono.shape[0]/4.,\" elements.\"\n",
    "print \"Elements of class 1 or True Event: \",data_iono[data_iono.BIN_LABEL==1].shape[0]/4.\n",
    "print \"Elements of class 0 or False Event: \",data_iono[data_iono.BIN_LABEL==0].shape[0]/4."
   ]
  },
  {
   "cell_type": "markdown",
   "metadata": {},
   "source": [
    "### Model selection with train data\n",
    "\n",
    "- Split data with stratified split (75% Train, 25% Test)\n",
    "- Cross validation on train (oversampling option) using many metrics choose best performance on F2, using an algorithm with different hyperparameters to find the best model. \n",
    "- Repeat to prove stability."
   ]
  },
  {
   "cell_type": "code",
   "execution_count": 15,
   "metadata": {
    "collapsed": false
   },
   "outputs": [
    {
     "name": "stdout",
     "output_type": "stream",
     "text": [
      "%  7.5\n",
      "Train size has aprox 32.25  elements.\n",
      "Elements of class 1 or True Event aprox:  12.975\n",
      "Elements of class 0 or False Event aporx:  19.275\n",
      "%  24.375\n",
      "Train size has aprox 104.8125  elements.\n",
      "Elements of class 1 or True Event aprox:  42.16875\n",
      "Elements of class 0 or False Event aporx:  62.64375\n",
      "%  41.25\n",
      "Train size has aprox 177.375  elements.\n",
      "Elements of class 1 or True Event aprox:  71.3625\n",
      "Elements of class 0 or False Event aporx:  106.0125\n",
      "%  58.125\n",
      "Train size has aprox 249.9375  elements.\n",
      "Elements of class 1 or True Event aprox:  100.55625\n",
      "Elements of class 0 or False Event aporx:  149.38125\n",
      "%  75.0\n",
      "Train size has aprox 322.5  elements.\n",
      "Elements of class 1 or True Event aprox:  129.75\n",
      "Elements of class 0 or False Event aporx:  192.75\n"
     ]
    }
   ],
   "source": [
    "perc = np.linspace(.1, 1.0, 5)*0.75\n",
    "\n",
    "for p in perc:\n",
    "    print \"% \",p*100\n",
    "    print \"Train size has aprox\",data_iono.shape[0]*p,\" elements.\"\n",
    "    print \"Elements of class 1 or True Event aprox: \",data_iono[data_iono.BIN_LABEL==1].shape[0]*p\n",
    "    print \"Elements of class 0 or False Event aporx: \",data_iono[data_iono.BIN_LABEL==0].shape[0]*p\n",
    "    "
   ]
  },
  {
   "cell_type": "code",
   "execution_count": 16,
   "metadata": {
    "collapsed": false
   },
   "outputs": [],
   "source": [
    "def model_selection(X,y,iters,folds_cv, clf,params=None,n_proc=2,use_oversampling=True):\n",
    "    scores_test = [] # performance on unseen data for the best estimator. Trainig 75% and then testin 25%\n",
    "    #Diccionary with learning curve scores for the best estimator for each iteration on train and test\n",
    "    lc_scores = {'PRE_train':[],'PRE_test':[], 'ACC_train':[],'ACC_test':[],\n",
    "                 'TPR_train':[],'TPR_test':[],'FPR_train':[],'FPR_test':[],\n",
    "                 'FOR_train':[], 'FOR_test':[],'FNR_train':[],'FNR_test':[],\n",
    "                 'F2_train': [],'F2_test': []\n",
    "                 }\n",
    "    ada = ADASYN()\n",
    "    #fbeta_score(y_test, y_pred, beta=2) \n",
    "    for i in range(iters):\n",
    "        #print \"i = \", i\n",
    "        #Split data with statified 25% Test, 75% Train\n",
    "        #this preservs the % of samples for each class.\n",
    "        X_train, X_test, y_train, y_test = train_test_split(X, y, test_size=0.25, random_state=randint(1,100), stratify= y)\n",
    "\n",
    "        #Oversample using ADASYN algorithm\n",
    "        if use_oversampling==True:\n",
    "            X_train, y_train = ada.fit_sample(X_train, y_train)\n",
    "\n",
    "        #Cross validation object with stratified  folds.\n",
    "        #cv = StratifiedKFold(n_splits = folds_cv, random_state = randint(1,100), shuffle=True)\n",
    "\n",
    "        #Select best model Tuning hyperparameters using GridSearch on parameters space\n",
    "        ##refit score is the metric that chooses the model\n",
    "        \n",
    "        scoring = {'FNR': fnr_scorer,'FPR':fpr_scorer,'F2':f2_scorer,\n",
    "                  'TPR':'recall', 'ACC':'accuracy', 'PRES':'precision',\n",
    "                  'FOR': for_scorer} \n",
    "        \n",
    "        clf.fit(X_train, y_train) \n",
    "\n",
    "\n",
    "        #Save performance on unseen (test) data (25%)\n",
    "        y_pred = clf.predict(X_test) #run estimator with the best found parameters\n",
    "        score_test = {'PRE':precision_score(y_test, y_pred), 'ACC':accuracy_score(y_test, y_pred),\n",
    "                     'TPR':recall_score(y_test, y_pred), 'FPR':fpr_score(y_test, y_pred),\n",
    "                     'FOR':for_score(y_test, y_pred), 'FNR':fnr_score(y_test, y_pred),\n",
    "                      'F2': fbeta_score(y_test, y_pred, beta=2)}\n",
    "        scores_test.append(score_test)\n",
    "\n",
    "        #Save learning curve information Train/Test for the best estimator in this iteration.\n",
    "        ## This scores are generated increasing the training size, the test size is always the same.\n",
    "        ## Cross validationis not used in  this step \n",
    "        pre_scores_iter_0, pre_scores_iter_1 = learning_curve_scores(clf=clf,X_train=X_train,y_train=y_train, X_test=X_test,y_test=y_test, score = precision_score)\n",
    "        acc_scores_iter_0, acc_scores_iter_1 = learning_curve_scores(clf=clf,X_train=X_train,y_train=y_train, X_test=X_test,y_test=y_test, score = accuracy_score)\n",
    "        tpr_scores_iter_0, tpr_scores_iter_1 = learning_curve_scores(clf=clf,X_train=X_train,y_train=y_train, X_test=X_test,y_test=y_test, score = recall_score)\n",
    "        fpr_scores_iter_0, fpr_scores_iter_1 = learning_curve_scores(clf=clf,X_train=X_train,y_train=y_train, X_test=X_test,y_test=y_test, score = fpr_score)\n",
    "        for_scores_iter_0, for_scores_iter_1 = learning_curve_scores(clf=clf,X_train=X_train,y_train=y_train, X_test=X_test,y_test=y_test, score = for_score)\n",
    "        fnr_scores_iter_0, fnr_scores_iter_1 = learning_curve_scores(clf=clf,X_train=X_train,y_train=y_train, X_test=X_test,y_test=y_test, score = fnr_score)\n",
    "        f2_scores_iter_0, f2_scores_iter_1 = learning_curve_scores(clf=clf,X_train=X_train,y_train=y_train, X_test=X_test,y_test=y_test, score = fbeta_score,beta=2)\n",
    "        \n",
    "        \n",
    "        lc_scores['PRE_train'].append(pre_scores_iter_0)\n",
    "        lc_scores['PRE_test'].append(pre_scores_iter_1)\n",
    "        lc_scores['ACC_train'].append(acc_scores_iter_0)\n",
    "        lc_scores['ACC_test'].append(acc_scores_iter_1)\n",
    "        lc_scores['TPR_train'].append(tpr_scores_iter_0)\n",
    "        lc_scores['TPR_test'].append(tpr_scores_iter_1)\n",
    "        lc_scores['FPR_train'].append(fpr_scores_iter_0)\n",
    "        lc_scores['FPR_test'].append(fpr_scores_iter_1)\n",
    "        lc_scores['FOR_train'].append(for_scores_iter_0)\n",
    "        lc_scores['FOR_test'].append(for_scores_iter_1)\n",
    "        lc_scores['FNR_train'].append(fnr_scores_iter_0)\n",
    "        lc_scores['FNR_test'].append(fnr_scores_iter_1)\n",
    "        lc_scores['F2_train'].append(f2_scores_iter_0)\n",
    "        lc_scores['F2_test'].append(f2_scores_iter_1)\n",
    "    #results = grid.cv_results_\n",
    "    return scores_test,  lc_scores#, results\n"
   ]
  },
  {
   "cell_type": "code",
   "execution_count": 17,
   "metadata": {
    "collapsed": false,
    "scrolled": true
   },
   "outputs": [
    {
     "name": "stderr",
     "output_type": "stream",
     "text": [
      "/home/wanda/anaconda3/envs/py27/lib/python2.7/site-packages/sklearn/model_selection/_split.py:2010: FutureWarning: From version 0.21, test_size will always complement train_size unless both are specified.\n",
      "  FutureWarning)\n"
     ]
    }
   ],
   "source": [
    "params = None\n",
    "clf = GaussianNB()\n",
    "nproc = 1\n",
    "scores_test,  lc_scores = model_selection(X=X,y=y_bin,iters=100,folds_cv = 3, params = None,clf = clf,n_proc=nproc,use_oversampling=False)\n",
    "scores_test_o,  lc_scores_o = model_selection(X=X,y=y_bin,iters=100,folds_cv = 3, params = None, clf = clf,n_proc=nproc,use_oversampling=True)"
   ]
  },
  {
   "cell_type": "code",
   "execution_count": 18,
   "metadata": {
    "collapsed": false
   },
   "outputs": [
    {
     "data": {
      "text/plain": [
       "<module 'matplotlib.pyplot' from '/home/wanda/anaconda3/envs/py27/lib/python2.7/site-packages/matplotlib/pyplot.pyc'>"
      ]
     },
     "execution_count": 18,
     "metadata": {},
     "output_type": "execute_result"
    },
    {
     "data": {
      "image/png": "[encoded data removed]",
      "text/plain": [
       "<matplotlib.figure.Figure at 0x7fbd96bdd8d0>"
      ]
     },
     "metadata": {},
     "output_type": "display_data"
    },
    {
     "data": {
      "image/png": "[encoded data removed]",
      "text/plain": [
       "<matplotlib.figure.Figure at 0x7fbd93100450>"
      ]
     },
     "metadata": {},
     "output_type": "display_data"
    },
    {
     "data": {
      "image/png": "[encoded data removed]",
      "text/plain": [
       "<matplotlib.figure.Figure at 0x7fbd9302b810>"
      ]
     },
     "metadata": {},
     "output_type": "display_data"
    }
   ],
   "source": [
    " plot_lc(title= \"Naive Bayes\", scores = lc_scores)"
   ]
  },
  {
   "cell_type": "code",
   "execution_count": 19,
   "metadata": {
    "collapsed": false
   },
   "outputs": [
    {
     "data": {
      "text/plain": [
       "<module 'matplotlib.pyplot' from '/home/wanda/anaconda3/envs/py27/lib/python2.7/site-packages/matplotlib/pyplot.pyc'>"
      ]
     },
     "execution_count": 19,
     "metadata": {},
     "output_type": "execute_result"
    },
    {
     "data": {
      "image/png": "[encoded data removed]",
      "text/plain": [
       "<matplotlib.figure.Figure at 0x7fbd92f07c50>"
      ]
     },
     "metadata": {},
     "output_type": "display_data"
    },
    {
     "data": {
      "image/png": "[encoded data removed]",
      "text/plain": [
       "<matplotlib.figure.Figure at 0x7fbd92e92a50>"
      ]
     },
     "metadata": {},
     "output_type": "display_data"
    },
    {
     "data": {
      "image/png": "[encoded data removed]",
      "text/plain": [
       "<matplotlib.figure.Figure at 0x7fbd92db6950>"
      ]
     },
     "metadata": {},
     "output_type": "display_data"
    }
   ],
   "source": [
    " plot_lc(title= \"Naive bayes\", scores = lc_scores_o)"
   ]
  },
  {
   "cell_type": "markdown",
   "metadata": {},
   "source": [
    "# Test Model Performance"
   ]
  },
  {
   "cell_type": "code",
   "execution_count": 20,
   "metadata": {
    "collapsed": false
   },
   "outputs": [
    {
     "data": {
      "text/html": [
       "<div>\n",
       "<table border=\"1\" class=\"dataframe\">\n",
       "  <thead>\n",
       "    <tr style=\"text-align: right;\">\n",
       "      <th></th>\n",
       "      <th>ACC</th>\n",
       "      <th>F2</th>\n",
       "      <th>FNR</th>\n",
       "      <th>FOR</th>\n",
       "      <th>FPR</th>\n",
       "      <th>PRE</th>\n",
       "      <th>TPR</th>\n",
       "    </tr>\n",
       "  </thead>\n",
       "  <tbody>\n",
       "    <tr>\n",
       "      <th>count</th>\n",
       "      <td>100.000000</td>\n",
       "      <td>100.000000</td>\n",
       "      <td>100.000000</td>\n",
       "      <td>100.000000</td>\n",
       "      <td>100.000000</td>\n",
       "      <td>100.000000</td>\n",
       "      <td>100.000000</td>\n",
       "    </tr>\n",
       "    <tr>\n",
       "      <th>mean</th>\n",
       "      <td>0.765000</td>\n",
       "      <td>0.831448</td>\n",
       "      <td>0.105349</td>\n",
       "      <td>0.092092</td>\n",
       "      <td>0.320769</td>\n",
       "      <td>0.651311</td>\n",
       "      <td>0.894651</td>\n",
       "    </tr>\n",
       "    <tr>\n",
       "      <th>std</th>\n",
       "      <td>0.037704</td>\n",
       "      <td>0.033271</td>\n",
       "      <td>0.041870</td>\n",
       "      <td>0.033109</td>\n",
       "      <td>0.060968</td>\n",
       "      <td>0.044517</td>\n",
       "      <td>0.041870</td>\n",
       "    </tr>\n",
       "    <tr>\n",
       "      <th>min</th>\n",
       "      <td>0.685185</td>\n",
       "      <td>0.754310</td>\n",
       "      <td>0.023256</td>\n",
       "      <td>0.023810</td>\n",
       "      <td>0.184615</td>\n",
       "      <td>0.567164</td>\n",
       "      <td>0.813953</td>\n",
       "    </tr>\n",
       "    <tr>\n",
       "      <th>25%</th>\n",
       "      <td>0.740741</td>\n",
       "      <td>0.803683</td>\n",
       "      <td>0.069767</td>\n",
       "      <td>0.063830</td>\n",
       "      <td>0.288462</td>\n",
       "      <td>0.626947</td>\n",
       "      <td>0.860465</td>\n",
       "    </tr>\n",
       "    <tr>\n",
       "      <th>50%</th>\n",
       "      <td>0.759259</td>\n",
       "      <td>0.833333</td>\n",
       "      <td>0.093023</td>\n",
       "      <td>0.088889</td>\n",
       "      <td>0.323077</td>\n",
       "      <td>0.641706</td>\n",
       "      <td>0.906977</td>\n",
       "    </tr>\n",
       "    <tr>\n",
       "      <th>75%</th>\n",
       "      <td>0.787037</td>\n",
       "      <td>0.858369</td>\n",
       "      <td>0.139535</td>\n",
       "      <td>0.120000</td>\n",
       "      <td>0.369231</td>\n",
       "      <td>0.672202</td>\n",
       "      <td>0.930233</td>\n",
       "    </tr>\n",
       "    <tr>\n",
       "      <th>max</th>\n",
       "      <td>0.833333</td>\n",
       "      <td>0.895197</td>\n",
       "      <td>0.186047</td>\n",
       "      <td>0.166667</td>\n",
       "      <td>0.446154</td>\n",
       "      <td>0.744681</td>\n",
       "      <td>0.976744</td>\n",
       "    </tr>\n",
       "  </tbody>\n",
       "</table>\n",
       "</div>"
      ],
      "text/plain": [
       "              ACC          F2         FNR         FOR         FPR         PRE  \\\n",
       "count  100.000000  100.000000  100.000000  100.000000  100.000000  100.000000   \n",
       "mean     0.765000    0.831448    0.105349    0.092092    0.320769    0.651311   \n",
       "std      0.037704    0.033271    0.041870    0.033109    0.060968    0.044517   \n",
       "min      0.685185    0.754310    0.023256    0.023810    0.184615    0.567164   \n",
       "25%      0.740741    0.803683    0.069767    0.063830    0.288462    0.626947   \n",
       "50%      0.759259    0.833333    0.093023    0.088889    0.323077    0.641706   \n",
       "75%      0.787037    0.858369    0.139535    0.120000    0.369231    0.672202   \n",
       "max      0.833333    0.895197    0.186047    0.166667    0.446154    0.744681   \n",
       "\n",
       "              TPR  \n",
       "count  100.000000  \n",
       "mean     0.894651  \n",
       "std      0.041870  \n",
       "min      0.813953  \n",
       "25%      0.860465  \n",
       "50%      0.906977  \n",
       "75%      0.930233  \n",
       "max      0.976744  "
      ]
     },
     "execution_count": 20,
     "metadata": {},
     "output_type": "execute_result"
    }
   ],
   "source": [
    "test_scores = pd.DataFrame(scores_test)\n",
    "test_scores.describe()\n",
    "#ojo for alta "
   ]
  },
  {
   "cell_type": "code",
   "execution_count": 21,
   "metadata": {
    "collapsed": false
   },
   "outputs": [
    {
     "data": {
      "text/html": [
       "<div>\n",
       "<table border=\"1\" class=\"dataframe\">\n",
       "  <thead>\n",
       "    <tr style=\"text-align: right;\">\n",
       "      <th></th>\n",
       "      <th>ACC</th>\n",
       "      <th>F2</th>\n",
       "      <th>FNR</th>\n",
       "      <th>FOR</th>\n",
       "      <th>FPR</th>\n",
       "      <th>PRE</th>\n",
       "      <th>TPR</th>\n",
       "    </tr>\n",
       "  </thead>\n",
       "  <tbody>\n",
       "    <tr>\n",
       "      <th>count</th>\n",
       "      <td>100.000000</td>\n",
       "      <td>100.000000</td>\n",
       "      <td>100.000000</td>\n",
       "      <td>100.000000</td>\n",
       "      <td>100.000000</td>\n",
       "      <td>100.000000</td>\n",
       "      <td>100.000000</td>\n",
       "    </tr>\n",
       "    <tr>\n",
       "      <th>mean</th>\n",
       "      <td>0.754815</td>\n",
       "      <td>0.837311</td>\n",
       "      <td>0.089535</td>\n",
       "      <td>0.082455</td>\n",
       "      <td>0.348154</td>\n",
       "      <td>0.636196</td>\n",
       "      <td>0.910465</td>\n",
       "    </tr>\n",
       "    <tr>\n",
       "      <th>std</th>\n",
       "      <td>0.038672</td>\n",
       "      <td>0.031419</td>\n",
       "      <td>0.038742</td>\n",
       "      <td>0.032902</td>\n",
       "      <td>0.062221</td>\n",
       "      <td>0.041621</td>\n",
       "      <td>0.038742</td>\n",
       "    </tr>\n",
       "    <tr>\n",
       "      <th>min</th>\n",
       "      <td>0.666667</td>\n",
       "      <td>0.774336</td>\n",
       "      <td>0.023256</td>\n",
       "      <td>0.021277</td>\n",
       "      <td>0.184615</td>\n",
       "      <td>0.547945</td>\n",
       "      <td>0.813953</td>\n",
       "    </tr>\n",
       "    <tr>\n",
       "      <th>25%</th>\n",
       "      <td>0.722222</td>\n",
       "      <td>0.815451</td>\n",
       "      <td>0.069767</td>\n",
       "      <td>0.062500</td>\n",
       "      <td>0.307692</td>\n",
       "      <td>0.600000</td>\n",
       "      <td>0.883721</td>\n",
       "    </tr>\n",
       "    <tr>\n",
       "      <th>50%</th>\n",
       "      <td>0.759259</td>\n",
       "      <td>0.836910</td>\n",
       "      <td>0.093023</td>\n",
       "      <td>0.085106</td>\n",
       "      <td>0.338462</td>\n",
       "      <td>0.639344</td>\n",
       "      <td>0.906977</td>\n",
       "    </tr>\n",
       "    <tr>\n",
       "      <th>75%</th>\n",
       "      <td>0.777778</td>\n",
       "      <td>0.859790</td>\n",
       "      <td>0.116279</td>\n",
       "      <td>0.104441</td>\n",
       "      <td>0.384615</td>\n",
       "      <td>0.661017</td>\n",
       "      <td>0.930233</td>\n",
       "    </tr>\n",
       "    <tr>\n",
       "      <th>max</th>\n",
       "      <td>0.861111</td>\n",
       "      <td>0.901288</td>\n",
       "      <td>0.186047</td>\n",
       "      <td>0.148148</td>\n",
       "      <td>0.507692</td>\n",
       "      <td>0.769231</td>\n",
       "      <td>0.976744</td>\n",
       "    </tr>\n",
       "  </tbody>\n",
       "</table>\n",
       "</div>"
      ],
      "text/plain": [
       "              ACC          F2         FNR         FOR         FPR         PRE  \\\n",
       "count  100.000000  100.000000  100.000000  100.000000  100.000000  100.000000   \n",
       "mean     0.754815    0.837311    0.089535    0.082455    0.348154    0.636196   \n",
       "std      0.038672    0.031419    0.038742    0.032902    0.062221    0.041621   \n",
       "min      0.666667    0.774336    0.023256    0.021277    0.184615    0.547945   \n",
       "25%      0.722222    0.815451    0.069767    0.062500    0.307692    0.600000   \n",
       "50%      0.759259    0.836910    0.093023    0.085106    0.338462    0.639344   \n",
       "75%      0.777778    0.859790    0.116279    0.104441    0.384615    0.661017   \n",
       "max      0.861111    0.901288    0.186047    0.148148    0.507692    0.769231   \n",
       "\n",
       "              TPR  \n",
       "count  100.000000  \n",
       "mean     0.910465  \n",
       "std      0.038742  \n",
       "min      0.813953  \n",
       "25%      0.883721  \n",
       "50%      0.906977  \n",
       "75%      0.930233  \n",
       "max      0.976744  "
      ]
     },
     "execution_count": 21,
     "metadata": {},
     "output_type": "execute_result"
    }
   ],
   "source": [
    "test_scores_o = pd.DataFrame(scores_test_o)\n",
    "test_scores_o.describe()"
   ]
  },
  {
   "cell_type": "code",
   "execution_count": 22,
   "metadata": {
    "collapsed": true
   },
   "outputs": [],
   "source": [
    "folder_results = 'Results_Spain/'\n",
    "str_clf = 'NB'\n",
    "\n",
    "test_scores.to_csv(folder_results+str_clf+\"_test.csv\")\n",
    "test_scores_o.to_csv(folder_results+str_clf+\"_o_test.csv\")"
   ]
  },
  {
   "cell_type": "markdown",
   "metadata": {},
   "source": [
    "# Dataset info \n",
    "\n",
    "**Metadata** \n",
    "\n",
    "- Day\n",
    "- Year\n",
    "- event ID\n",
    "\n",
    "----------------------\n",
    "### Predictor variables\n",
    "\n",
    "- number of stations  **Cuantitativo**\n",
    "- number of pairs  **Cuantitativo**\n",
    "- mean elevation **Cuantitativo**\n",
    "- lowest elevation **Cuantitativo**\n",
    "- biggest elevation **Cuantitativo**\n",
    "\n",
    "** Double frequency phase_delay signal information **\n",
    "\n",
    "- Phase Delay mean **for each station** **Cuantitativo**\n",
    "- Phase Delay standar deviation **Cuantitativo**\n",
    "- Phase Delay max **Cuantitativo**\n",
    "- Phase Delay min **Cuantitativo**\n",
    "- Phase Delay std **Cuantitativo**\n",
    "- Phase Delay kurtosis **Cuantitativo**\n",
    "- Code Delay mean **Cuantitativo**\n",
    "- Mean squared error between code and phase **Cuantitativo**\n",
    "\n",
    "\n",
    "**Gradient signal information**\n",
    "\n",
    "\n",
    "- Kurtosis mean **Cuantitativo**\n",
    "- Gradient mean **Cuantitativo**\n",
    "- Gradient max **Cuantitativo**\n",
    "- Gradient min **Cuantitativo**\n",
    "- **Outliers detected** \n",
    "-  **Segments descriptor ? **\n",
    "\n",
    "\n",
    "**Space weather data**\n",
    "\n",
    "\n",
    "- Kp index (Every 3 hours) **Cuantitativo**\n",
    "- A index (Daily) **Cuantitativo**\n",
    "- Sunspot number **Cuantitativo**\n",
    "- Sunspot area **Cuantitativo**\n",
    "- Radio Flux Penticton 10.7 cm   **Cuantitativo**\n",
    "-  X-Ray flux flares c y s **Cuantitativo**\n",
    "-------------------------------\n",
    "\n",
    "### Original Classes\n",
    "**True**\n",
    "- Gradients with few peaks (conus). **(1)**\n",
    "- Gradients for scintillation (regme) are very varying. **(2)**\n",
    "\n",
    "**False**\n",
    "- Short arcs that create high variations on the substraction.**(3)**\n",
    "- Outliers in one station (faulty for some reason) creating false gradient with all the neighbours.**(4)**\n",
    "- Outliers in all stations at some time.**(5)**\n",
    "\n",
    "There's very few elements on classes 4, 5 so we can add them to class 3."
   ]
  },
  {
   "cell_type": "code",
   "execution_count": null,
   "metadata": {
    "collapsed": true
   },
   "outputs": [],
   "source": [
    "#https://stats.stackexchange.com/questions/95797/how-to-split-the-dataset-for-cross-validation-learning-curve-and-final-evaluat"
   ]
  }
 ],
 "metadata": {
  "anaconda-cloud": {},
  "kernelspec": {
   "display_name": "Python 2",
   "language": "python",
   "name": "python2"
  },
  "language_info": {
   "codemirror_mode": {
    "name": "ipython",
    "version": 2
   },
   "file_extension": ".py",
   "mimetype": "text/x-python",
   "name": "python",
   "nbconvert_exporter": "python",
   "pygments_lexer": "ipython2",
   "version": "2.7.13"
  }
 },
 "nbformat": 4,
 "nbformat_minor": 2
}
