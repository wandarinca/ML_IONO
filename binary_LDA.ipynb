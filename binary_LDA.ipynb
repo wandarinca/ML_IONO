{
 "cells": [
  {
   "cell_type": "code",
   "execution_count": 1,
   "metadata": {
    "collapsed": true
   },
   "outputs": [],
   "source": [
    "import time\n",
    "import pandas as pd\n",
    "from pandas import scatter_matrix\n",
    "import numpy as np\n",
    "import sklearn\n",
    "import matplotlib.pyplot as plt\n",
    "#import seaborn as sns\n",
    "\n",
    "from sklearn.model_selection import StratifiedKFold, GridSearchCV\n",
    "\n",
    "from sklearn.metrics import fbeta_score, make_scorer\n",
    "from sklearn.metrics import accuracy_score, recall_score, f1_score, precision_score\n",
    "from sklearn.metrics import confusion_matrix\n",
    "from sklearn.model_selection import train_test_split\n",
    "\n",
    "from sklearn.decomposition import PCA, FastICA\n",
    "\n",
    "from sklearn.discriminant_analysis import LinearDiscriminantAnalysis, QuadraticDiscriminantAnalysis\n",
    "\n",
    "from imblearn.over_sampling import SMOTE, ADASYN\n",
    "\n",
    "from random import randint\n",
    "\n",
    "%matplotlib inline"
   ]
  },
  {
   "cell_type": "code",
   "execution_count": 2,
   "metadata": {
    "collapsed": true
   },
   "outputs": [],
   "source": [
    "#colors = plt.cm.GnBu(np.linspace(0, 1, 10))\n",
    "colors = plt.cm.PuBuGn(np.linspace(0, 1, 10))"
   ]
  },
  {
   "cell_type": "markdown",
   "metadata": {},
   "source": [
    "### Original data"
   ]
  },
  {
   "cell_type": "code",
   "execution_count": 3,
   "metadata": {
    "collapsed": false
   },
   "outputs": [
    {
     "name": "stdout",
     "output_type": "stream",
     "text": [
      "(446, 41)\n"
     ]
    }
   ],
   "source": [
    "data_iono = pd.read_csv(\"/home/wanda/master_project/Data/spain_balance_data.csv\",index_col=0)\n",
    "print data_iono.shape"
   ]
  },
  {
   "cell_type": "code",
   "execution_count": 4,
   "metadata": {
    "collapsed": false
   },
   "outputs": [
    {
     "data": {
      "text/plain": [
       "Index([u'A_index', u'C_flare', u'K_index', u'N_PAIRS', u'N_STATIONS',\n",
       "       u'kurtosis_delay', u'kurtosis_grad', u'max_elevation', u'max_grad',\n",
       "       u'max_phase_delay', u'mean_code_delay', u'mean_elevation', u'mean_grad',\n",
       "       u'mean_phase_delay', u'min_elevation', u'min_grad', u'min_phase_delay',\n",
       "       u'mse', u'new_regions', u'radio_flux', u'std_grad', u'std_phase',\n",
       "       u'sunsplot_number', u'sunspot_area', u'bucket_grad',\n",
       "       u'bucket_grad_mean', u'k_index_bucket', u'elev_min_bucket',\n",
       "       u'elev_mean_bucket', u'elev_max_bucket', u'grad_elev', u'BIN_LABEL',\n",
       "       u'LABEL', u'prn', u'network', u'STATIONS', u'PAIRS', u'ID', u'YEAR',\n",
       "       u'DAY', u'TIME'],\n",
       "      dtype='object')"
      ]
     },
     "execution_count": 4,
     "metadata": {},
     "output_type": "execute_result"
    }
   ],
   "source": [
    "data_iono.columns"
   ]
  },
  {
   "cell_type": "code",
   "execution_count": 5,
   "metadata": {
    "collapsed": false
   },
   "outputs": [
    {
     "data": {
      "text/plain": [
       "<matplotlib.axes._subplots.AxesSubplot at 0x7fc8593aec10>"
      ]
     },
     "execution_count": 5,
     "metadata": {},
     "output_type": "execute_result"
    },
    {
     "data": {
      "image/png": "[encoded data removed]",
      "text/plain": [
       "<matplotlib.figure.Figure at 0x7fc8942efa90>"
      ]
     },
     "metadata": {},
     "output_type": "display_data"
    }
   ],
   "source": [
    "purp = \"#b366ff\"\n",
    "blue = \"#9999ff\"\n",
    "cool_grey = \"#a3a3c2\"\n",
    "other_gray = \"#808080\"\n",
    "plt.figure(figsize=(5,5))\n",
    "plt.figtext(.5,.9,\"Classes  Proportion\", fontsize=15, ha='center')\n",
    "data_iono.BIN_LABEL.value_counts().plot(kind='pie',autopct='%1.1f%%', fontsize=15, colors=[other_gray,blue]) "
   ]
  },
  {
   "cell_type": "markdown",
   "metadata": {},
   "source": [
    "In our study data is splitted in four parts. 3  Folds or 75% of the data are used to train the algorithms, and will be oversampled since data of class \"1\" or \"True ionospheric event\" is less common. The other part is conserved original to test."
   ]
  },
  {
   "cell_type": "code",
   "execution_count": 6,
   "metadata": {
    "collapsed": false
   },
   "outputs": [
    {
     "name": "stdout",
     "output_type": "stream",
     "text": [
      "Each fold has  111.5  elements.\n",
      "Elements of class 1 or True Event:  47.25\n",
      "Elements of class 0 or False Event:  64.25\n"
     ]
    }
   ],
   "source": [
    "print \"Each fold has \",data_iono.shape[0]/4.,\" elements.\"\n",
    "print \"Elements of class 1 or True Event: \",data_iono[data_iono.BIN_LABEL==1].shape[0]/4.\n",
    "print \"Elements of class 0 or False Event: \",data_iono[data_iono.BIN_LABEL==0].shape[0]/4."
   ]
  },
  {
   "cell_type": "code",
   "execution_count": 7,
   "metadata": {
    "collapsed": false
   },
   "outputs": [
    {
     "name": "stdout",
     "output_type": "stream",
     "text": [
      "Dataset shape:  (430, 31)\n",
      "Dataset (Spain) shape:  (16, 31)\n"
     ]
    }
   ],
   "source": [
    "data_spain = data_iono[data_iono.network=='rap']\n",
    "data_iono = data_iono[data_iono.network!='rap']\n",
    "\n",
    "metadata = ['prn','network','STATIONS','PAIRS', 'ID','YEAR', 'DAY','TIME' ]\n",
    "labels = ['BIN_LABEL' 'LABEL']\n",
    "columns = ['A_index', 'C_flare', 'K_index', 'N_PAIRS', 'N_STATIONS',\n",
    "       'kurtosis_delay', 'kurtosis_grad', 'max_elevation', 'max_grad',\n",
    "       'max_phase_delay', 'mean_code_delay', 'mean_elevation', 'mean_grad',\n",
    "       'mean_phase_delay', 'min_elevation', 'min_grad', 'min_phase_delay',\n",
    "       'mse', 'new_regions', 'radio_flux', 'std_grad', 'std_phase',\n",
    "       'sunsplot_number', 'sunspot_area', 'bucket_grad',\n",
    "       'bucket_grad_mean', 'k_index_bucket', 'elev_min_bucket',\n",
    "       'elev_mean_bucket', 'elev_max_bucket', 'grad_elev']\n",
    "\n",
    "X = data_iono[columns]\n",
    "X_spain = data_spain[columns]\n",
    "\n",
    "print \"Dataset shape: \",X.shape\n",
    "print \"Dataset (Spain) shape: \",X_spain.shape\n",
    "y_bin, y_classes = data_iono.BIN_LABEL, data_iono.LABEL\n",
    "y_spain = data_spain.BIN_LABEL"
   ]
  },
  {
   "cell_type": "markdown",
   "metadata": {},
   "source": [
    "\n",
    "## Train with 75% --> Use oversampling techiques (Smote and Adasyn)  and cross-validation\n",
    "\n",
    "## Test 25% --> original data"
   ]
  },
  {
   "cell_type": "markdown",
   "metadata": {},
   "source": [
    "# Binary Classification: True or False Ionospheric Event"
   ]
  },
  {
   "cell_type": "markdown",
   "metadata": {},
   "source": [
    "\n",
    "- FP --> Non Ionospheric Event, Labeled as event\n",
    "- FN --> True Ionospheric Event, Labeled as not events\n",
    "- TP --> True Ionospheric Event, Labeled as events\n",
    "- TN --> Non Ionospheric Event, Labeled as not events"
   ]
  },
  {
   "cell_type": "raw",
   "metadata": {},
   "source": [
    "                         Condition:Iono         Not Iono \n",
    "\n",
    "  Test says “Iono”       True positive   |   False positive\n",
    "                      ----------------------------------\n",
    "  Test says “Not Iono”   False negative  |    True negative\n"
   ]
  },
  {
   "cell_type": "markdown",
   "metadata": {},
   "source": [
    "# <a href = \"https://en.wikipedia.org/wiki/F1_score\">Metrics</a>\n",
    "\n",
    "\n",
    "What is more valuable?\n",
    "\n",
    "<a href=\"https://stats.stackexchange.com/questions/61829/relation-between-true-positive-false-positive-false-negative-and-true-negative\">**TPR**, FNR, ACC, PRES, F2, F1.   High,  **FNR**, FP low.</a>\n",
    "\n",
    "*The most important metrics for our case are: TPR, FNR, F2, ACC*\n",
    "\n",
    "#### TPR\n",
    "\n",
    "True Positive Rate or Sensitivity or Recall\n",
    "\n",
    "$${\\displaystyle {\\mathit {TPR}}={\\mathit {TP}}/P={\\mathit {TP}}/({\\mathit {TP}}+{\\mathit {FN}})}$$\n",
    "\n",
    "#### FNR\n",
    "False Negative Rate \n",
    "\n",
    "$$FNR = \\frac{FN}{TP+FN}$$\n",
    "\n",
    "\n",
    "####  TNR\n",
    "\n",
    "True Negative Rate  or Specificity (SPC)\n",
    "\n",
    "\n",
    "$${\\displaystyle {\\mathit {SPC}}={\\mathit {TN}}/N={\\mathit {TN}}/({\\mathit {TN}}+{\\mathit {FP}})} {\\mathit {SPC}}={\\mathit {TN}}/N={\\mathit {TN}}/({\\mathit {TN}}+{\\mathit {FP}})$$\n",
    "\n",
    "#### ACC\n",
    "\n",
    "Accuracy\n",
    "\n",
    "$${\\displaystyle \\mathrm {ACC} ={\\frac {\\mathrm {TP} +\\mathrm {TN} }{P+N}}={\\frac {\\mathrm {TP} +\\mathrm {TN} }{\\mathrm {TP} +\\mathrm {FP}+\\mathrm {TN}  +\\mathrm {FN} }}}$$\n",
    "\n",
    "\n",
    "#### F1 \n",
    "\n",
    "Is the harmonic mean of precision and sensitivity(TPR)\n",
    "$${\\displaystyle {\\mathit {F1}}=2{\\mathit {TP}}/(2{\\mathit {TP}}+{\\mathit {FP}}+{\\mathit {FN}})}$$\n",
    "\n",
    "\n",
    "#### F2 , $F_\\beta$ \n",
    "\n",
    "Weighs recall higher than precision (by placing more emphasis on false negatives). -->sklearn.metrics.fbeta_score\n",
    "\n",
    "$$F_\\beta= \\frac{(1+\\beta^2).TP}{(1+\\beta^2).TP+\\beta^2-FN+FP}$$\n",
    "\n",
    "\n",
    "#### FOR\n",
    "False omission Rate\n",
    "\n",
    "$$FOR = 1 - NPV = \\frac{FN}{TN+FN}$$\n",
    "\n",
    "* -------------------------------------------------------\n",
    "# Other metrics\n",
    "\n",
    "#### FPR\n",
    "\n",
    "False Positive Rate \n",
    "\n",
    "$${\\displaystyle {\\frac {FP}{N}}={\\frac {FP}{FP+TN}}} {\\displaystyle {\\frac {FP}{N}}={\\frac {FP}{FP+TN}}}$$\n",
    "\n",
    "\n",
    "In scikit learn with cv fuction : scoring : string, callable or None, optional, default: None\n",
    "    A string (see model evaluation documentation) or\n",
    "    a scorer callable object / function with signature\n",
    "    ``scorer(estimator, X, y)``\n",
    "\n",
    "\n",
    "#### PRE \n",
    "\n",
    "The precision is intuitively the ability of the classifier not to label as positive a sample that is negative.\n",
    "\n",
    "$${\\displaystyle {\\text{Precision}}={\\frac {TP}{TP+FP}}\\,}$$\n",
    "\n",
    "\n"
   ]
  },
  {
   "cell_type": "code",
   "execution_count": 8,
   "metadata": {
    "collapsed": false
   },
   "outputs": [],
   "source": [
    "f2_scorer = make_scorer(fbeta_score, beta=2)\n",
    "f2_scorer\n",
    "\n",
    "\n",
    "#http://www.dataschool.io/simple-guide-to-confusion-matrix-terminology/\n",
    "\n",
    "def fnr_score(y, y_pred):\n",
    "    cm = confusion_matrix(y, y_pred)\n",
    "    tp = cm[1][1]*1.\n",
    "    fn = cm[1][0]*1.\n",
    "    tn = cm[0][0]*1.\n",
    "    fp = cm[0][1]*1.\n",
    "    fnr = fn/(tp+fn)\n",
    "    return fnr\n",
    "\n",
    "def fpr_score(y, y_pred):\n",
    "    cm = confusion_matrix(y, y_pred)\n",
    "    tp = cm[1][1]*1.\n",
    "    fn = cm[1][0]*1.\n",
    "    tn = cm[0][0]*1.\n",
    "    fp = cm[0][1]*1.\n",
    "    fpr = fp/(tn+fp)\n",
    "    return fpr\n",
    "\n",
    "def for_score(y, y_pred):\n",
    "    #false omission rate\n",
    "    cm = confusion_matrix(y, y_pred)\n",
    "    tp = cm[1][1]*1.\n",
    "    fn = cm[1][0]*1.\n",
    "    tn = cm[0][0]*1.\n",
    "    fp = cm[0][1]*1.\n",
    "    fpr = fn/(tn+fn)\n",
    "    return fpr\n",
    "\n",
    "fnr_scorer = make_scorer(fnr_score)\n",
    "fpr_scorer = make_scorer(fpr_score)\n",
    "for_scorer = make_scorer(for_score)"
   ]
  },
  {
   "cell_type": "code",
   "execution_count": 9,
   "metadata": {
    "collapsed": false
   },
   "outputs": [],
   "source": [
    "def learning_curve_scores(clf,X_train,y_train, X_test,y_test, score,train_sizes = np.linspace(.1, 1.0, 5),beta=None):\n",
    "    #Scores for a model when experience increases.\n",
    "    lc_score_train, lc_score_test = [], []\n",
    "    for size in train_sizes:\n",
    "        # Get random section from train data, stratified.\n",
    "        if size!=1.0:\n",
    "            X_t,__, y_t, __ = train_test_split(X_train, y_train, train_size=size, random_state=randint(1,100), stratify= y_train)\n",
    "        else:\n",
    "            X_t, y_t = X_train, y_train  \n",
    "            \n",
    "        # Fit with train\n",
    "        clf.fit(X_t,y_t)\n",
    "        # Predict on Train\n",
    "        y_pred_train = clf.predict(X_t)\n",
    "        # Predict on Test\n",
    "        y_pred_test = clf.predict(X_test)\n",
    "        # Save scores\n",
    "        if beta!= None:\n",
    "            lc_score_train.append(score(y_t, y_pred_train,beta))\n",
    "            lc_score_test.append(score(y_test, y_pred_test,beta))     \n",
    "        else:\n",
    "            lc_score_train.append(score(y_t, y_pred_train))\n",
    "            lc_score_test.append(score(y_test, y_pred_test))     \n",
    "    \n",
    "    return lc_score_train, lc_score_test"
   ]
  },
  {
   "cell_type": "code",
   "execution_count": 10,
   "metadata": {
    "collapsed": true
   },
   "outputs": [],
   "source": [
    "def plot_lc(title, scores,mask):\n",
    "    #metrics = ['ACC','TPR','FPR','FOR','FNR','PRE','F2']\n",
    "    metrics = ['F2','PRE','TPR']\n",
    "    for metric in metrics:\n",
    "        plt.figure()\n",
    "        plt.title(title+\" \"+metric)\n",
    "        #if ylim is not None:\n",
    "            #plt.ylim(*ylim)\n",
    "        plt.xlabel(\"Training examples\")\n",
    "        plt.ylabel(\"Score\")\n",
    "        train_sizes = np.linspace(.1, 1.0, 5)\n",
    "        train_scores_mean = np.mean(np.array(scores[metric+'_train'])[mask],axis=0)\n",
    "        train_scores_std =np.std(np.array(scores[metric+'_train'])[mask],axis=0)\n",
    "        test_scores_mean = np.mean(np.array(scores[metric+'_test'])[mask],axis=0)\n",
    "        test_scores_std = np.std(np.array(scores[metric+'_test'])[mask],axis=0)\n",
    "        plt.grid()\n",
    "\n",
    "        plt.fill_between(train_sizes, train_scores_mean - train_scores_std,\n",
    "                         train_scores_mean + train_scores_std, alpha=0.1,\n",
    "                         color=\"r\")\n",
    "        plt.fill_between(train_sizes, test_scores_mean - test_scores_std,\n",
    "                         test_scores_mean + test_scores_std, alpha=0.1, color=\"g\")\n",
    "        plt.plot(train_sizes, train_scores_mean, 'o-', color=\"r\",\n",
    "                 label=\"Training score\")\n",
    "        plt.plot(train_sizes, test_scores_mean, 'o-', color=\"g\",\n",
    "                 label=\"Test score\")#label=\"Cross-validation score\"\n",
    "\n",
    "        plt.legend(loc=\"best\")\n",
    "    return plt"
   ]
  },
  {
   "cell_type": "markdown",
   "metadata": {},
   "source": [
    "*-----------------------------------------------------------------------------------*\n",
    "# Classifier:  Linear Discriminant Analysis"
   ]
  },
  {
   "cell_type": "markdown",
   "metadata": {},
   "source": [
    "### Model selection with train data\n",
    "\n",
    "- Split data with stratified split (75% Train, 25% Test)\n",
    "- Cross validation on train (oversampling option) using many metrics, using an algorithm with different hyperparameters to find the best model. \n",
    "- Repeat to prove stability."
   ]
  },
  {
   "cell_type": "code",
   "execution_count": 11,
   "metadata": {
    "collapsed": false
   },
   "outputs": [],
   "source": [
    "def model_selection(X,y,iters,folds_cv, clf,params,n_proc,use_oversampling=True):\n",
    "    best = [] #list of index (id) of best estimator on each iteration\n",
    "    scores_test = [] # performance on unseen data for the best estimator. Trainig 75% and then testin 25%\n",
    "    #Diccionary with learning curve scores for the best estimator for each iteration on train and test\n",
    "    lc_scores = {'PRE_train':[],'PRE_test':[], 'ACC_train':[],'ACC_test':[],\n",
    "                 'TPR_train':[],'TPR_test':[],'FPR_train':[],'FPR_test':[],\n",
    "                 'FOR_train':[], 'FOR_test':[],'FNR_train':[],'FNR_test':[],\n",
    "                 'F2_train': [],'F2_test': []\n",
    "                 }\n",
    "    ada = ADASYN()\n",
    "    #fbeta_score(y_test, y_pred, beta=2) \n",
    "    for i in range(iters):\n",
    "        #print \"i = \", i\n",
    "        #Split data with statified 25% Test, 75% Train\n",
    "        #this preservs the % of samples for each class.\n",
    "        X_train, X_test, y_train, y_test = train_test_split(X, y,train_size=0.75, test_size=0.25, random_state=randint(1,100), stratify= y)\n",
    "\n",
    "        #Oversample using ADASYN algorithm\n",
    "        if use_oversampling==True:\n",
    "            X_train, y_train = ada.fit_sample(X_train, y_train)\n",
    "\n",
    "        #Cross validation object with stratified  folds.\n",
    "        cv = StratifiedKFold(n_splits = folds_cv, random_state = randint(1,100), shuffle=True)\n",
    "\n",
    "        #Select best model Tuning hyperparameters using GridSearch on parameters space\n",
    "        ##refit score is the metric that chooses the model\n",
    "        \n",
    "        scoring = {'FNR': fnr_scorer,'FPR':fpr_scorer,'F2':f2_scorer,\n",
    "                  'TPR':'recall', 'ACC':'accuracy', 'PRES':'precision',\n",
    "                  'FOR': for_scorer} \n",
    "        \n",
    "        grid = GridSearchCV(estimator=clf, param_grid = params,\n",
    "                            scoring=scoring, n_jobs=n_proc, refit='F2', \n",
    "                            cv=cv,verbose=0)\n",
    "\n",
    "        grid.fit(X_train, y_train) \n",
    "\n",
    "        #Best model on training data\n",
    "        #results = grid.cv_results_\n",
    "        best.append(grid.best_index_ )\n",
    "\n",
    "        #Save performance on unseen (test) data (25%)\n",
    "        y_pred = grid.predict(X_test) #run estimator with the best found parameters\n",
    "        score_test = {'PRE':precision_score(y_test, y_pred), 'ACC':accuracy_score(y_test, y_pred),\n",
    "                     'TPR':recall_score(y_test, y_pred), 'FPR':fpr_score(y_test, y_pred),\n",
    "                     'FOR':for_score(y_test, y_pred), 'FNR':fnr_score(y_test, y_pred),\n",
    "                      'F2': fbeta_score(y_test, y_pred, beta=2), 'PREDICTOR_INDEX':grid.best_index_}\n",
    "        scores_test.append(score_test)\n",
    "\n",
    "        #Save learning curve information Train/Test for the best estimator in this iteration.\n",
    "        ## This scores are generated increasing the training size, the test size is always the same.\n",
    "        ## Cross validationis not used in  this step \n",
    "        pre_scores_iter_0, pre_scores_iter_1 = learning_curve_scores(clf=grid.best_estimator_,X_train=X_train,y_train=y_train, X_test=X_test,y_test=y_test, score = precision_score)\n",
    "        acc_scores_iter_0, acc_scores_iter_1 = learning_curve_scores(clf=grid.best_estimator_,X_train=X_train,y_train=y_train, X_test=X_test,y_test=y_test, score = accuracy_score)\n",
    "        tpr_scores_iter_0, tpr_scores_iter_1 = learning_curve_scores(clf=grid.best_estimator_,X_train=X_train,y_train=y_train, X_test=X_test,y_test=y_test, score = recall_score)\n",
    "        fpr_scores_iter_0, fpr_scores_iter_1 = learning_curve_scores(clf=grid.best_estimator_,X_train=X_train,y_train=y_train, X_test=X_test,y_test=y_test, score = fpr_score)\n",
    "        for_scores_iter_0, for_scores_iter_1 = learning_curve_scores(clf=grid.best_estimator_,X_train=X_train,y_train=y_train, X_test=X_test,y_test=y_test, score = for_score)\n",
    "        fnr_scores_iter_0, fnr_scores_iter_1 = learning_curve_scores(clf=grid.best_estimator_,X_train=X_train,y_train=y_train, X_test=X_test,y_test=y_test, score = fnr_score)\n",
    "        f2_scores_iter_0, f2_scores_iter_1 = learning_curve_scores(clf=grid.best_estimator_,X_train=X_train,y_train=y_train, X_test=X_test,y_test=y_test, score = fbeta_score,beta=2)\n",
    "        \n",
    "        \n",
    "        lc_scores['PRE_train'].append(pre_scores_iter_0)\n",
    "        lc_scores['PRE_test'].append(pre_scores_iter_1)\n",
    "        lc_scores['ACC_train'].append(acc_scores_iter_0)\n",
    "        lc_scores['ACC_test'].append(acc_scores_iter_1)\n",
    "        lc_scores['TPR_train'].append(tpr_scores_iter_0)\n",
    "        lc_scores['TPR_test'].append(tpr_scores_iter_1)\n",
    "        lc_scores['FPR_train'].append(fpr_scores_iter_0)\n",
    "        lc_scores['FPR_test'].append(fpr_scores_iter_1)\n",
    "        lc_scores['FOR_train'].append(for_scores_iter_0)\n",
    "        lc_scores['FOR_test'].append(for_scores_iter_1)\n",
    "        lc_scores['FNR_train'].append(fnr_scores_iter_0)\n",
    "        lc_scores['FNR_test'].append(fnr_scores_iter_1)\n",
    "        lc_scores['F2_train'].append(f2_scores_iter_0)\n",
    "        lc_scores['F2_test'].append(f2_scores_iter_1)\n",
    "    \n",
    "    results = grid.cv_results_\n",
    "    return best, scores_test,  lc_scores, results\n"
   ]
  },
  {
   "cell_type": "code",
   "execution_count": 12,
   "metadata": {
    "collapsed": false,
    "scrolled": true
   },
   "outputs": [
    {
     "name": "stderr",
     "output_type": "stream",
     "text": [
      "/home/wanda/anaconda3/envs/py27/lib/python2.7/site-packages/sklearn/discriminant_analysis.py:388: UserWarning: Variables are collinear.\n",
      "  warnings.warn(\"Variables are collinear.\")\n",
      "/home/wanda/anaconda3/envs/py27/lib/python2.7/site-packages/sklearn/model_selection/_split.py:2010: FutureWarning: From version 0.21, test_size will always complement train_size unless both are specified.\n",
      "  FutureWarning)\n"
     ]
    }
   ],
   "source": [
    "nproc = 1\n",
    "clf = LinearDiscriminantAnalysis()\n",
    "params = {'solver':['lsqr', 'svd']} #'shrinkage':[None, 'auto']\n",
    "#siempre elige mejor lsqr\n",
    "best, scores_test,  lc_scores, results = model_selection(X=X,y=y_bin,iters=100,folds_cv = 3, clf =clf, params = params,n_proc=nproc,use_oversampling=False)\n",
    "best_o, scores_test_o,  lc_scores_o, results_o = model_selection(X=X,y=y_bin,iters=100,folds_cv = 3, clf = clf, params = params,n_proc=nproc,use_oversampling=True)"
   ]
  },
  {
   "cell_type": "markdown",
   "metadata": {},
   "source": [
    "## Select model with best performance and plot learning curve"
   ]
  },
  {
   "cell_type": "code",
   "execution_count": 13,
   "metadata": {
    "collapsed": false,
    "scrolled": false
   },
   "outputs": [
    {
     "name": "stdout",
     "output_type": "stream",
     "text": [
      "Axes(0.125,0.125;0.775x0.755)\n",
      "0    97\n",
      "1     3\n",
      "Name: Best, dtype: int64\n"
     ]
    },
    {
     "data": {
      "image/png": "[encoded data removed]",
      "text/plain": [
       "<matplotlib.figure.Figure at 0x7fc8593099d0>"
      ]
     },
     "metadata": {},
     "output_type": "display_data"
    }
   ],
   "source": [
    "df_best = pd.DataFrame(best, columns= ['Best'])\n",
    "print df_best.Best.hist()\n",
    "print df_best.Best.value_counts()"
   ]
  },
  {
   "cell_type": "code",
   "execution_count": 14,
   "metadata": {
    "collapsed": false
   },
   "outputs": [
    {
     "name": "stdout",
     "output_type": "stream",
     "text": [
      "Axes(0.125,0.125;0.775x0.755)\n",
      "0    98\n",
      "1     2\n",
      "Name: Best, dtype: int64\n"
     ]
    },
    {
     "data": {
      "image/png": "[encoded data removed]",
      "text/plain": [
       "<matplotlib.figure.Figure at 0x7fc8518f1c50>"
      ]
     },
     "metadata": {},
     "output_type": "display_data"
    }
   ],
   "source": [
    "df_best_o = pd.DataFrame(best_o, columns= ['Best'])\n",
    "print df_best_o.Best.hist(bins=len(df_best_o.Best.unique()) )\n",
    "print df_best_o.Best.value_counts()"
   ]
  },
  {
   "cell_type": "code",
   "execution_count": 15,
   "metadata": {
    "collapsed": false
   },
   "outputs": [],
   "source": [
    "best_model = 0\n",
    "best_model_o = 0\n",
    "#dfresults_exam.loc[best_model,:] #best\n",
    "#para todos no solo el mejor"
   ]
  },
  {
   "cell_type": "code",
   "execution_count": 16,
   "metadata": {
    "collapsed": false
   },
   "outputs": [
    {
     "data": {
      "text/plain": [
       "param_solver    lsqr\n",
       "Name: 0, dtype: object"
      ]
     },
     "execution_count": 16,
     "metadata": {},
     "output_type": "execute_result"
    }
   ],
   "source": [
    "dfr = pd.DataFrame(results)\n",
    "dfr.loc[best_model,['param_solver']]"
   ]
  },
  {
   "cell_type": "code",
   "execution_count": 17,
   "metadata": {
    "collapsed": false
   },
   "outputs": [
    {
     "data": {
      "text/plain": [
       "param_solver    lsqr\n",
       "Name: 0, dtype: object"
      ]
     },
     "execution_count": 17,
     "metadata": {},
     "output_type": "execute_result"
    }
   ],
   "source": [
    "dfr_o = pd.DataFrame(results_o)\n",
    "dfr_o.loc[best_model_o,['param_solver']]"
   ]
  },
  {
   "cell_type": "code",
   "execution_count": 18,
   "metadata": {
    "collapsed": false
   },
   "outputs": [
    {
     "name": "stdout",
     "output_type": "stream",
     "text": [
      "(97,)\n",
      "(98,)\n"
     ]
    }
   ],
   "source": [
    "mask_best = np.array(df_best[df_best.Best==best_model].index)\n",
    "print mask_best.shape\n",
    "mask_best_o = np.array(df_best[df_best_o.Best==best_model_o].index)\n",
    "print mask_best_o.shape"
   ]
  },
  {
   "cell_type": "markdown",
   "metadata": {},
   "source": [
    "## Learning curves on train data for selected model"
   ]
  },
  {
   "cell_type": "code",
   "execution_count": 19,
   "metadata": {
    "collapsed": false
   },
   "outputs": [
    {
     "data": {
      "text/plain": [
       "<module 'matplotlib.pyplot' from '/home/wanda/anaconda3/envs/py27/lib/python2.7/site-packages/matplotlib/pyplot.pyc'>"
      ]
     },
     "execution_count": 19,
     "metadata": {},
     "output_type": "execute_result"
    },
    {
     "data": {
      "image/png": "[encoded data removed]",
      "text/plain": [
       "<matplotlib.figure.Figure at 0x7fc851976f90>"
      ]
     },
     "metadata": {},
     "output_type": "display_data"
    },
    {
     "data": {
      "image/png": "[encoded data removed]",
      "text/plain": [
       "<matplotlib.figure.Figure at 0x7fc85176dad0>"
      ]
     },
     "metadata": {},
     "output_type": "display_data"
    },
    {
     "data": {
      "image/png": "[encoded data removed]",
      "text/plain": [
       "<matplotlib.figure.Figure at 0x7fc851707d50>"
      ]
     },
     "metadata": {},
     "output_type": "display_data"
    }
   ],
   "source": [
    " plot_lc(title= \"Linear Discriminant Analysis\", scores = lc_scores,mask = mask_best)"
   ]
  },
  {
   "cell_type": "code",
   "execution_count": 20,
   "metadata": {
    "collapsed": false
   },
   "outputs": [
    {
     "data": {
      "text/plain": [
       "<module 'matplotlib.pyplot' from '/home/wanda/anaconda3/envs/py27/lib/python2.7/site-packages/matplotlib/pyplot.pyc'>"
      ]
     },
     "execution_count": 20,
     "metadata": {},
     "output_type": "execute_result"
    },
    {
     "data": {
      "image/png": "[encoded data removed]",
      "text/plain": [
       "<matplotlib.figure.Figure at 0x7fc851919510>"
      ]
     },
     "metadata": {},
     "output_type": "display_data"
    },
    {
     "data": {
      "image/png": "[encoded data removed]",
      "text/plain": [
       "<matplotlib.figure.Figure at 0x7fc851969710>"
      ]
     },
     "metadata": {},
     "output_type": "display_data"
    },
    {
     "data": {
      "image/png": "[encoded data removed]",
      "text/plain": [
       "<matplotlib.figure.Figure at 0x7fc851ebd290>"
      ]
     },
     "metadata": {},
     "output_type": "display_data"
    }
   ],
   "source": [
    " plot_lc(title=  \"Linear Discriminant Analysis\", scores = lc_scores_o,mask = mask_best_o)"
   ]
  },
  {
   "cell_type": "markdown",
   "metadata": {},
   "source": [
    "# Test Model Performance"
   ]
  },
  {
   "cell_type": "code",
   "execution_count": 21,
   "metadata": {
    "collapsed": false
   },
   "outputs": [
    {
     "data": {
      "text/html": [
       "<div>\n",
       "<table border=\"1\" class=\"dataframe\">\n",
       "  <thead>\n",
       "    <tr style=\"text-align: right;\">\n",
       "      <th></th>\n",
       "      <th>ACC</th>\n",
       "      <th>F2</th>\n",
       "      <th>FNR</th>\n",
       "      <th>FOR</th>\n",
       "      <th>FPR</th>\n",
       "      <th>PRE</th>\n",
       "      <th>PREDICTOR_INDEX</th>\n",
       "      <th>TPR</th>\n",
       "    </tr>\n",
       "  </thead>\n",
       "  <tbody>\n",
       "    <tr>\n",
       "      <th>count</th>\n",
       "      <td>97.000000</td>\n",
       "      <td>97.000000</td>\n",
       "      <td>97.000000</td>\n",
       "      <td>97.000000</td>\n",
       "      <td>97.000000</td>\n",
       "      <td>97.000000</td>\n",
       "      <td>97.0</td>\n",
       "      <td>97.000000</td>\n",
       "    </tr>\n",
       "    <tr>\n",
       "      <th>mean</th>\n",
       "      <td>0.841543</td>\n",
       "      <td>0.792151</td>\n",
       "      <td>0.210741</td>\n",
       "      <td>0.135436</td>\n",
       "      <td>0.123870</td>\n",
       "      <td>0.811602</td>\n",
       "      <td>0.0</td>\n",
       "      <td>0.789259</td>\n",
       "    </tr>\n",
       "    <tr>\n",
       "      <th>std</th>\n",
       "      <td>0.034279</td>\n",
       "      <td>0.058556</td>\n",
       "      <td>0.070396</td>\n",
       "      <td>0.038679</td>\n",
       "      <td>0.044210</td>\n",
       "      <td>0.053632</td>\n",
       "      <td>0.0</td>\n",
       "      <td>0.070396</td>\n",
       "    </tr>\n",
       "    <tr>\n",
       "      <th>min</th>\n",
       "      <td>0.768519</td>\n",
       "      <td>0.594059</td>\n",
       "      <td>0.046512</td>\n",
       "      <td>0.036364</td>\n",
       "      <td>0.046154</td>\n",
       "      <td>0.714286</td>\n",
       "      <td>0.0</td>\n",
       "      <td>0.558140</td>\n",
       "    </tr>\n",
       "    <tr>\n",
       "      <th>25%</th>\n",
       "      <td>0.814815</td>\n",
       "      <td>0.758294</td>\n",
       "      <td>0.139535</td>\n",
       "      <td>0.101695</td>\n",
       "      <td>0.092308</td>\n",
       "      <td>0.767442</td>\n",
       "      <td>0.0</td>\n",
       "      <td>0.744186</td>\n",
       "    </tr>\n",
       "    <tr>\n",
       "      <th>50%</th>\n",
       "      <td>0.842593</td>\n",
       "      <td>0.790698</td>\n",
       "      <td>0.209302</td>\n",
       "      <td>0.138462</td>\n",
       "      <td>0.123077</td>\n",
       "      <td>0.815789</td>\n",
       "      <td>0.0</td>\n",
       "      <td>0.790698</td>\n",
       "    </tr>\n",
       "    <tr>\n",
       "      <th>75%</th>\n",
       "      <td>0.870370</td>\n",
       "      <td>0.848624</td>\n",
       "      <td>0.255814</td>\n",
       "      <td>0.159420</td>\n",
       "      <td>0.153846</td>\n",
       "      <td>0.853659</td>\n",
       "      <td>0.0</td>\n",
       "      <td>0.860465</td>\n",
       "    </tr>\n",
       "    <tr>\n",
       "      <th>max</th>\n",
       "      <td>0.898148</td>\n",
       "      <td>0.911111</td>\n",
       "      <td>0.441860</td>\n",
       "      <td>0.243590</td>\n",
       "      <td>0.215385</td>\n",
       "      <td>0.909091</td>\n",
       "      <td>0.0</td>\n",
       "      <td>0.953488</td>\n",
       "    </tr>\n",
       "  </tbody>\n",
       "</table>\n",
       "</div>"
      ],
      "text/plain": [
       "             ACC         F2        FNR        FOR        FPR        PRE  \\\n",
       "count  97.000000  97.000000  97.000000  97.000000  97.000000  97.000000   \n",
       "mean    0.841543   0.792151   0.210741   0.135436   0.123870   0.811602   \n",
       "std     0.034279   0.058556   0.070396   0.038679   0.044210   0.053632   \n",
       "min     0.768519   0.594059   0.046512   0.036364   0.046154   0.714286   \n",
       "25%     0.814815   0.758294   0.139535   0.101695   0.092308   0.767442   \n",
       "50%     0.842593   0.790698   0.209302   0.138462   0.123077   0.815789   \n",
       "75%     0.870370   0.848624   0.255814   0.159420   0.153846   0.853659   \n",
       "max     0.898148   0.911111   0.441860   0.243590   0.215385   0.909091   \n",
       "\n",
       "       PREDICTOR_INDEX        TPR  \n",
       "count             97.0  97.000000  \n",
       "mean               0.0   0.789259  \n",
       "std                0.0   0.070396  \n",
       "min                0.0   0.558140  \n",
       "25%                0.0   0.744186  \n",
       "50%                0.0   0.790698  \n",
       "75%                0.0   0.860465  \n",
       "max                0.0   0.953488  "
      ]
     },
     "execution_count": 21,
     "metadata": {},
     "output_type": "execute_result"
    }
   ],
   "source": [
    "test_scores = pd.DataFrame(scores_test)\n",
    "test_scores_best = test_scores[test_scores.PREDICTOR_INDEX==best_model]\n",
    "test_scores_best.describe()\n",
    "#ojo for alta "
   ]
  },
  {
   "cell_type": "code",
   "execution_count": 22,
   "metadata": {
    "collapsed": false
   },
   "outputs": [
    {
     "data": {
      "text/html": [
       "<div>\n",
       "<table border=\"1\" class=\"dataframe\">\n",
       "  <thead>\n",
       "    <tr style=\"text-align: right;\">\n",
       "      <th></th>\n",
       "      <th>ACC</th>\n",
       "      <th>F2</th>\n",
       "      <th>FNR</th>\n",
       "      <th>FOR</th>\n",
       "      <th>FPR</th>\n",
       "      <th>PRE</th>\n",
       "      <th>PREDICTOR_INDEX</th>\n",
       "      <th>TPR</th>\n",
       "    </tr>\n",
       "  </thead>\n",
       "  <tbody>\n",
       "    <tr>\n",
       "      <th>count</th>\n",
       "      <td>98.000000</td>\n",
       "      <td>98.000000</td>\n",
       "      <td>98.000000</td>\n",
       "      <td>98.000000</td>\n",
       "      <td>98.000000</td>\n",
       "      <td>98.000000</td>\n",
       "      <td>98.000000</td>\n",
       "      <td>98.000000</td>\n",
       "    </tr>\n",
       "    <tr>\n",
       "      <th>mean</th>\n",
       "      <td>0.842215</td>\n",
       "      <td>0.792901</td>\n",
       "      <td>0.210014</td>\n",
       "      <td>0.134908</td>\n",
       "      <td>0.123234</td>\n",
       "      <td>0.812418</td>\n",
       "      <td>0.030612</td>\n",
       "      <td>0.789986</td>\n",
       "    </tr>\n",
       "    <tr>\n",
       "      <th>std</th>\n",
       "      <td>0.033764</td>\n",
       "      <td>0.058654</td>\n",
       "      <td>0.070637</td>\n",
       "      <td>0.038681</td>\n",
       "      <td>0.043374</td>\n",
       "      <td>0.052346</td>\n",
       "      <td>0.173150</td>\n",
       "      <td>0.070637</td>\n",
       "    </tr>\n",
       "    <tr>\n",
       "      <th>min</th>\n",
       "      <td>0.768519</td>\n",
       "      <td>0.594059</td>\n",
       "      <td>0.046512</td>\n",
       "      <td>0.036364</td>\n",
       "      <td>0.046154</td>\n",
       "      <td>0.714286</td>\n",
       "      <td>0.000000</td>\n",
       "      <td>0.558140</td>\n",
       "    </tr>\n",
       "    <tr>\n",
       "      <th>25%</th>\n",
       "      <td>0.814815</td>\n",
       "      <td>0.758294</td>\n",
       "      <td>0.139535</td>\n",
       "      <td>0.101695</td>\n",
       "      <td>0.092308</td>\n",
       "      <td>0.768763</td>\n",
       "      <td>0.000000</td>\n",
       "      <td>0.744186</td>\n",
       "    </tr>\n",
       "    <tr>\n",
       "      <th>50%</th>\n",
       "      <td>0.842593</td>\n",
       "      <td>0.791855</td>\n",
       "      <td>0.209302</td>\n",
       "      <td>0.135978</td>\n",
       "      <td>0.107692</td>\n",
       "      <td>0.815789</td>\n",
       "      <td>0.000000</td>\n",
       "      <td>0.790698</td>\n",
       "    </tr>\n",
       "    <tr>\n",
       "      <th>75%</th>\n",
       "      <td>0.870370</td>\n",
       "      <td>0.848624</td>\n",
       "      <td>0.255814</td>\n",
       "      <td>0.159420</td>\n",
       "      <td>0.153846</td>\n",
       "      <td>0.852365</td>\n",
       "      <td>0.000000</td>\n",
       "      <td>0.860465</td>\n",
       "    </tr>\n",
       "    <tr>\n",
       "      <th>max</th>\n",
       "      <td>0.898148</td>\n",
       "      <td>0.911111</td>\n",
       "      <td>0.441860</td>\n",
       "      <td>0.243590</td>\n",
       "      <td>0.215385</td>\n",
       "      <td>0.909091</td>\n",
       "      <td>1.000000</td>\n",
       "      <td>0.953488</td>\n",
       "    </tr>\n",
       "  </tbody>\n",
       "</table>\n",
       "</div>"
      ],
      "text/plain": [
       "             ACC         F2        FNR        FOR        FPR        PRE  \\\n",
       "count  98.000000  98.000000  98.000000  98.000000  98.000000  98.000000   \n",
       "mean    0.842215   0.792901   0.210014   0.134908   0.123234   0.812418   \n",
       "std     0.033764   0.058654   0.070637   0.038681   0.043374   0.052346   \n",
       "min     0.768519   0.594059   0.046512   0.036364   0.046154   0.714286   \n",
       "25%     0.814815   0.758294   0.139535   0.101695   0.092308   0.768763   \n",
       "50%     0.842593   0.791855   0.209302   0.135978   0.107692   0.815789   \n",
       "75%     0.870370   0.848624   0.255814   0.159420   0.153846   0.852365   \n",
       "max     0.898148   0.911111   0.441860   0.243590   0.215385   0.909091   \n",
       "\n",
       "       PREDICTOR_INDEX        TPR  \n",
       "count        98.000000  98.000000  \n",
       "mean          0.030612   0.789986  \n",
       "std           0.173150   0.070637  \n",
       "min           0.000000   0.558140  \n",
       "25%           0.000000   0.744186  \n",
       "50%           0.000000   0.790698  \n",
       "75%           0.000000   0.860465  \n",
       "max           1.000000   0.953488  "
      ]
     },
     "execution_count": 22,
     "metadata": {},
     "output_type": "execute_result"
    }
   ],
   "source": [
    "test_scores_o = pd.DataFrame(scores_test_o)\n",
    "test_scores_best_o = test_scores[test_scores_o.PREDICTOR_INDEX==best_model_o]\n",
    "test_scores_best_o.describe()"
   ]
  },
  {
   "cell_type": "code",
   "execution_count": 23,
   "metadata": {
    "collapsed": true
   },
   "outputs": [],
   "source": [
    "folder_results = 'Results_Spain/'\n",
    "str_clf = 'LDA'\n",
    "test_scores.to_csv(folder_results+str_clf+\"_test.csv\")\n",
    "test_scores_o.to_csv(folder_results+str_clf+\"_o_test.csv\")"
   ]
  },
  {
   "cell_type": "markdown",
   "metadata": {},
   "source": [
    "# Dataset info \n",
    "\n",
    "**Metadata** \n",
    "\n",
    "- Day\n",
    "- Year\n",
    "- event ID\n",
    "\n",
    "----------------------\n",
    "### Predictor variables\n",
    "\n",
    "- number of stations  **Cuantitativo**\n",
    "- number of pairs  **Cuantitativo**\n",
    "- mean elevation **Cuantitativo**\n",
    "- lowest elevation **Cuantitativo**\n",
    "- biggest elevation **Cuantitativo**\n",
    "\n",
    "** Double frequency phase_delay signal information **\n",
    "\n",
    "- Phase Delay mean **for each station** **Cuantitativo**\n",
    "- Phase Delay standar deviation **Cuantitativo**\n",
    "- Phase Delay max **Cuantitativo**\n",
    "- Phase Delay min **Cuantitativo**\n",
    "- Phase Delay std **Cuantitativo**\n",
    "- Phase Delay kurtosis **Cuantitativo**\n",
    "- Code Delay mean **Cuantitativo**\n",
    "- Mean squared error between code and phase **Cuantitativo**\n",
    "\n",
    "\n",
    "**Gradient signal information**\n",
    "\n",
    "\n",
    "- Kurtosis mean **Cuantitativo**\n",
    "- Gradient mean **Cuantitativo**\n",
    "- Gradient max **Cuantitativo**\n",
    "- Gradient min **Cuantitativo**\n",
    "- **Outliers detected** \n",
    "-  **Segments descriptor ? **\n",
    "\n",
    "\n",
    "**Space weather data**\n",
    "\n",
    "\n",
    "- Kp index (Every 3 hours) **Cuantitativo**\n",
    "- A index (Daily) **Cuantitativo**\n",
    "- Sunspot number **Cuantitativo**\n",
    "- Sunspot area **Cuantitativo**\n",
    "- Radio Flux Penticton 10.7 cm   **Cuantitativo**\n",
    "-  X-Ray flux flares c y s **Cuantitativo**\n",
    "-------------------------------\n",
    "\n",
    "### Original Classes\n",
    "**True**\n",
    "- Gradients with few peaks (conus). **(1)**\n",
    "- Gradients for scintillation (regme) are very varying. **(2)**\n",
    "\n",
    "**False**\n",
    "- Short arcs that create high variations on the substraction.**(3)**\n",
    "- Outliers in one station (faulty for some reason) creating false gradient with all the neighbours.**(4)**\n",
    "- Outliers in all stations at some time.**(5)**\n",
    "\n",
    "There's very few elements on classes 4, 5 so we can add them to class 3."
   ]
  },
  {
   "cell_type": "code",
   "execution_count": null,
   "metadata": {
    "collapsed": true
   },
   "outputs": [],
   "source": [
    "#https://stats.stackexchange.com/questions/95797/how-to-split-the-dataset-for-cross-validation-learning-curve-and-final-evaluat"
   ]
  }
 ],
 "metadata": {
  "anaconda-cloud": {},
  "kernelspec": {
   "display_name": "Python 2",
   "language": "python",
   "name": "python2"
  },
  "language_info": {
   "codemirror_mode": {
    "name": "ipython",
    "version": 2
   },
   "file_extension": ".py",
   "mimetype": "text/x-python",
   "name": "python",
   "nbconvert_exporter": "python",
   "pygments_lexer": "ipython2",
   "version": "2.7.13"
  }
 },
 "nbformat": 4,
 "nbformat_minor": 2
}
