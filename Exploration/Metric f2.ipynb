{
 "cells": [
  {
   "cell_type": "code",
   "execution_count": 22,
   "metadata": {
    "collapsed": true
   },
   "outputs": [],
   "source": [
    "import numpy as np \n",
    "import pandas as pd\n",
    "from sklearn.metrics import confusion_matrix, precision_score, accuracy_score, recall_score\n",
    "from sklearn.metrics import fbeta_score, make_scorer\n",
    "import matplotlib.pyplot as plt\n",
    "%matplotlib inline"
   ]
  },
  {
   "cell_type": "code",
   "execution_count": 23,
   "metadata": {
    "collapsed": true
   },
   "outputs": [],
   "source": [
    "# this is just to see how f2 metric behaves"
   ]
  },
  {
   "cell_type": "code",
   "execution_count": 24,
   "metadata": {
    "collapsed": true
   },
   "outputs": [],
   "source": [
    "f2_scorer = make_scorer(fbeta_score, beta=2)\n",
    "f2_scorer\n",
    "\n",
    "\n",
    "#http://www.dataschool.io/simple-guide-to-confusion-matrix-terminology/\n",
    "def tnr_score(y, y_pred):\n",
    "    cm = confusion_matrix(y, y_pred)\n",
    "    tp = cm[1][1]*1.\n",
    "    fn = cm[1][0]*1.\n",
    "    tn = cm[0][0]*1.\n",
    "    fp = cm[0][1]*1.\n",
    "    tnr = tn/(tn+fp)\n",
    "    return tnr\n",
    "\n",
    "\n",
    "\n",
    "def fnr_score(y, y_pred):\n",
    "    cm = confusion_matrix(y, y_pred)\n",
    "    tp = cm[1][1]*1.\n",
    "    fn = cm[1][0]*1.\n",
    "    tn = cm[0][0]*1.\n",
    "    fp = cm[0][1]*1.\n",
    "    fnr = fn/(tp+fn)\n",
    "    return fnr\n",
    "\n",
    "def fpr_score(y, y_pred):\n",
    "    cm = confusion_matrix(y, y_pred)\n",
    "    tp = cm[1][1]*1.\n",
    "    fn = cm[1][0]*1.\n",
    "    tn = cm[0][0]*1.\n",
    "    fp = cm[0][1]*1.\n",
    "    fpr = fp/(tn+fp)\n",
    "    return fpr\n",
    "\n",
    "def for_score(y, y_pred):\n",
    "    #false omission rate\n",
    "    cm = confusion_matrix(y, y_pred)\n",
    "    tp = cm[1][1]*1.\n",
    "    fn = cm[1][0]*1.\n",
    "    tn = cm[0][0]*1.\n",
    "    fp = cm[0][1]*1.\n",
    "    fpr = fn/(tn+fn)\n",
    "    return fpr\n",
    "\n",
    "fnr_scorer = make_scorer(fnr_score)\n",
    "fpr_scorer = make_scorer(fpr_score)\n",
    "for_scorer = make_scorer(for_score)"
   ]
  },
  {
   "cell_type": "code",
   "execution_count": 25,
   "metadata": {
    "collapsed": true
   },
   "outputs": [],
   "source": [
    "y =      np.array([1,1,1,1,1,1,0,0,0,0,0,0,0,0,0,0,0,0,0,0])\n",
    "y_pred = np.array([1,1,1,0,1,1,0,0,0,1,1,0,0,0,0,0,0,0,0,0])"
   ]
  },
  {
   "cell_type": "code",
   "execution_count": 26,
   "metadata": {
    "collapsed": false
   },
   "outputs": [
    {
     "data": {
      "text/plain": [
       "0.16666666666666666"
      ]
     },
     "execution_count": 26,
     "metadata": {},
     "output_type": "execute_result"
    }
   ],
   "source": [
    "fnr_score(y,y_pred)"
   ]
  },
  {
   "cell_type": "code",
   "execution_count": 27,
   "metadata": {
    "collapsed": false
   },
   "outputs": [
    {
     "data": {
      "text/plain": [
       "0.8571428571428571"
      ]
     },
     "execution_count": 27,
     "metadata": {},
     "output_type": "execute_result"
    }
   ],
   "source": [
    "tnr_score(y,y_pred)"
   ]
  },
  {
   "cell_type": "code",
   "execution_count": 28,
   "metadata": {
    "collapsed": false
   },
   "outputs": [
    {
     "data": {
      "text/plain": [
       "0.14285714285714285"
      ]
     },
     "execution_count": 28,
     "metadata": {},
     "output_type": "execute_result"
    }
   ],
   "source": [
    "fpr_score(y,y_pred)"
   ]
  },
  {
   "cell_type": "code",
   "execution_count": 29,
   "metadata": {
    "collapsed": false
   },
   "outputs": [
    {
     "data": {
      "text/plain": [
       "0.076923076923076927"
      ]
     },
     "execution_count": 29,
     "metadata": {},
     "output_type": "execute_result"
    }
   ],
   "source": [
    "for_score(y,y_pred)"
   ]
  },
  {
   "cell_type": "code",
   "execution_count": 30,
   "metadata": {
    "collapsed": false
   },
   "outputs": [
    {
     "data": {
      "text/plain": [
       "0.7142857142857143"
      ]
     },
     "execution_count": 30,
     "metadata": {},
     "output_type": "execute_result"
    }
   ],
   "source": [
    "precision_score(y,y_pred)"
   ]
  },
  {
   "cell_type": "code",
   "execution_count": 31,
   "metadata": {
    "collapsed": false
   },
   "outputs": [
    {
     "data": {
      "text/plain": [
       "0.84999999999999998"
      ]
     },
     "execution_count": 31,
     "metadata": {},
     "output_type": "execute_result"
    }
   ],
   "source": [
    "accuracy_score(y,y_pred)"
   ]
  },
  {
   "cell_type": "code",
   "execution_count": 32,
   "metadata": {
    "collapsed": false
   },
   "outputs": [
    {
     "data": {
      "text/plain": [
       "0.83333333333333337"
      ]
     },
     "execution_count": 32,
     "metadata": {},
     "output_type": "execute_result"
    }
   ],
   "source": [
    "recall_score(y,y_pred)"
   ]
  },
  {
   "cell_type": "code",
   "execution_count": 33,
   "metadata": {
    "collapsed": false
   },
   "outputs": [
    {
     "data": {
      "text/plain": [
       "0.80645161290322576"
      ]
     },
     "execution_count": 33,
     "metadata": {},
     "output_type": "execute_result"
    }
   ],
   "source": [
    "fbeta_score(y,y_pred,beta=2)"
   ]
  },
  {
   "cell_type": "code",
   "execution_count": 34,
   "metadata": {
    "collapsed": false
   },
   "outputs": [
    {
     "data": {
      "text/plain": [
       "0.76923076923076916"
      ]
     },
     "execution_count": 34,
     "metadata": {},
     "output_type": "execute_result"
    }
   ],
   "source": [
    "fbeta_score(y,y_pred,beta=1)"
   ]
  },
  {
   "cell_type": "code",
   "execution_count": 17,
   "metadata": {
    "collapsed": false
   },
   "outputs": [
    {
     "data": {
      "text/plain": [
       "array([[12,  2],\n",
       "       [ 1,  5]])"
      ]
     },
     "execution_count": 17,
     "metadata": {},
     "output_type": "execute_result"
    }
   ],
   "source": [
    "confusion_matrix(y, y_pred)"
   ]
  },
  {
   "cell_type": "code",
   "execution_count": 18,
   "metadata": {
    "collapsed": false
   },
   "outputs": [
    {
     "name": "stdout",
     "output_type": "stream",
     "text": [
      "5\n",
      "12\n",
      "1\n",
      "2\n"
     ]
    }
   ],
   "source": [
    "print sum(y[y==y_pred]==1)#tp 11\n",
    "print sum(y[y==y_pred]==0) #tn  00\n",
    "print sum(y[y!=y_pred]==1) # FN 10\n",
    "print sum(y[y!=y_pred]==0) # FP 01"
   ]
  },
  {
   "cell_type": "code",
   "execution_count": 19,
   "metadata": {
    "collapsed": false
   },
   "outputs": [
    {
     "name": "stdout",
     "output_type": "stream",
     "text": [
      "0.732558139535\n",
      "0.851351351351\n",
      "0.818181818182\n",
      "0.878048780488\n",
      "0.548780487805\n",
      "0.775862068966\n",
      "0.553846153846\n",
      "0.553846153846\n"
     ]
    }
   ],
   "source": [
    "fb = lambda b,p,r: (1+b**2)*p*r/(b**2*p+r)\n",
    "f2 = lambda p,r: fb(2,p,r)\n",
    "f1 = lambda p,r: fb(1,p,r)\n",
    "\n",
    "print f2(.9,.7) #p r\n",
    "print f2(.7,.9)\n",
    "print f2(.9,.8)\n",
    "print f2(.8,.9)\n",
    "print f2(.9,.5)\n",
    "print f2(.5,.9)\n",
    "print f1(.9,.4)\n",
    "print f1(.4,.9)"
   ]
  },
  {
   "cell_type": "code",
   "execution_count": 20,
   "metadata": {
    "collapsed": false
   },
   "outputs": [
    {
     "data": {
      "text/plain": [
       "<matplotlib.text.Text at 0x7f8051ef4d50>"
      ]
     },
     "execution_count": 20,
     "metadata": {},
     "output_type": "execute_result"
    },
    {
     "data": {
      "image/png": "[encoded data removed]",
      "text/plain": [
       "<matplotlib.figure.Figure at 0x7f805f3da610>"
      ]
     },
     "metadata": {},
     "output_type": "display_data"
    }
   ],
   "source": [
    "pre = np.linspace(0.1,1,100)\n",
    "rec = np.linspace(0.1,1,5)\n",
    "\n",
    "for r in rec:\n",
    "    f = f2(pre,r)\n",
    "    plt.plot(pre,f, label = 'tpr '+str(r))\n",
    "plt.legend()\n",
    "plt.xlabel(\"Precision %\")\n",
    "plt.ylabel(\"F2 score %\")"
   ]
  },
  {
   "cell_type": "code",
   "execution_count": 21,
   "metadata": {
    "collapsed": false
   },
   "outputs": [
    {
     "data": {
      "text/plain": [
       "<matplotlib.text.Text at 0x7f804e5aad90>"
      ]
     },
     "execution_count": 21,
     "metadata": {},
     "output_type": "execute_result"
    },
    {
     "data": {
      "image/png": "[encoded data removed]",
      "text/plain": [
       "<matplotlib.figure.Figure at 0x7f805f3e0d90>"
      ]
     },
     "metadata": {},
     "output_type": "display_data"
    }
   ],
   "source": [
    "rec = np.linspace(0.1,1,100)\n",
    "pre = np.linspace(0.1,1,5)\n",
    "\n",
    "for p in pre:\n",
    "    f = f2(p,rec)\n",
    "    plt.plot(rec,f, label = 'pre '+str(p))\n",
    "plt.legend()\n",
    "plt.xlabel(\"Recall %\")\n",
    "plt.ylabel(\"F2 score %\")"
   ]
  },
  {
   "cell_type": "code",
   "execution_count": null,
   "metadata": {
    "collapsed": true
   },
   "outputs": [],
   "source": []
  },
  {
   "cell_type": "code",
   "execution_count": null,
   "metadata": {
    "collapsed": true
   },
   "outputs": [],
   "source": []
  }
 ],
 "metadata": {
  "kernelspec": {
   "display_name": "Python 2",
   "language": "python",
   "name": "python2"
  },
  "language_info": {
   "codemirror_mode": {
    "name": "ipython",
    "version": 2
   },
   "file_extension": ".py",
   "mimetype": "text/x-python",
   "name": "python",
   "nbconvert_exporter": "python",
   "pygments_lexer": "ipython2",
   "version": "2.7.13"
  }
 },
 "nbformat": 4,
 "nbformat_minor": 2
}
