{
 "cells": [
  {
   "cell_type": "code",
   "execution_count": 1,
   "metadata": {
    "collapsed": true
   },
   "outputs": [],
   "source": [
    "import pandas as pd\n",
    "from pandas import scatter_matrix\n",
    "import numpy as np\n",
    "import sklearn\n",
    "import matplotlib.pyplot as plt\n",
    "import seaborn as sns\n",
    "\n",
    "%matplotlib inline"
   ]
  },
  {
   "cell_type": "markdown",
   "metadata": {},
   "source": [
    "### Load Dataset"
   ]
  },
  {
   "cell_type": "code",
   "execution_count": 2,
   "metadata": {
    "collapsed": false
   },
   "outputs": [
    {
     "name": "stdout",
     "output_type": "stream",
     "text": [
      "(1108, 35)\n"
     ]
    }
   ],
   "source": [
    "data_iono = pd.read_csv(\"/home/wanda/master_project/Data/events_original.txt\",index_col=0)\n",
    "print data_iono.shape"
   ]
  },
  {
   "cell_type": "code",
   "execution_count": 3,
   "metadata": {
    "collapsed": false
   },
   "outputs": [
    {
     "data": {
      "text/html": [
       "<div>\n",
       "<table border=\"1\" class=\"dataframe\">\n",
       "  <thead>\n",
       "    <tr style=\"text-align: right;\">\n",
       "      <th></th>\n",
       "      <th>A_index</th>\n",
       "      <th>BIN_LABEL</th>\n",
       "      <th>C_flare</th>\n",
       "      <th>DAY</th>\n",
       "      <th>ID</th>\n",
       "      <th>K_index</th>\n",
       "      <th>LABEL</th>\n",
       "      <th>N_PAIRS</th>\n",
       "      <th>N_STATIONS</th>\n",
       "      <th>PAIRS</th>\n",
       "      <th>...</th>\n",
       "      <th>min_phase_delay</th>\n",
       "      <th>mse</th>\n",
       "      <th>network</th>\n",
       "      <th>new_regions</th>\n",
       "      <th>prn</th>\n",
       "      <th>radio_flux</th>\n",
       "      <th>std_grad</th>\n",
       "      <th>std_phase</th>\n",
       "      <th>sunsplot_number</th>\n",
       "      <th>sunspot_area</th>\n",
       "    </tr>\n",
       "  </thead>\n",
       "  <tbody>\n",
       "    <tr>\n",
       "      <th>0</th>\n",
       "      <td>117</td>\n",
       "      <td>1.0</td>\n",
       "      <td>9</td>\n",
       "      <td>324</td>\n",
       "      <td>0</td>\n",
       "      <td>8</td>\n",
       "      <td>1.0</td>\n",
       "      <td>2</td>\n",
       "      <td>4</td>\n",
       "      <td>'mtvrcolb', 'kntnsidn'</td>\n",
       "      <td>...</td>\n",
       "      <td>11.744434</td>\n",
       "      <td>2.144725</td>\n",
       "      <td>conus</td>\n",
       "      <td>0</td>\n",
       "      <td>GPS 26</td>\n",
       "      <td>175</td>\n",
       "      <td>76.675787</td>\n",
       "      <td>7.806186</td>\n",
       "      <td>118</td>\n",
       "      <td>2010</td>\n",
       "    </tr>\n",
       "    <tr>\n",
       "      <th>1</th>\n",
       "      <td>117</td>\n",
       "      <td>1.0</td>\n",
       "      <td>9</td>\n",
       "      <td>324</td>\n",
       "      <td>1</td>\n",
       "      <td>9</td>\n",
       "      <td>1.0</td>\n",
       "      <td>2</td>\n",
       "      <td>4</td>\n",
       "      <td>'freolsbn', 'garfwoos'</td>\n",
       "      <td>...</td>\n",
       "      <td>12.161865</td>\n",
       "      <td>1.036669</td>\n",
       "      <td>conus</td>\n",
       "      <td>0</td>\n",
       "      <td>GPS 26</td>\n",
       "      <td>175</td>\n",
       "      <td>104.174454</td>\n",
       "      <td>5.218731</td>\n",
       "      <td>118</td>\n",
       "      <td>2010</td>\n",
       "    </tr>\n",
       "    <tr>\n",
       "      <th>2</th>\n",
       "      <td>117</td>\n",
       "      <td>1.0</td>\n",
       "      <td>9</td>\n",
       "      <td>324</td>\n",
       "      <td>2</td>\n",
       "      <td>9</td>\n",
       "      <td>1.0</td>\n",
       "      <td>7</td>\n",
       "      <td>10</td>\n",
       "      <td>'pktngrtn', 'mtvrwoos', 'mtvrcolb', 'grtnerla'...</td>\n",
       "      <td>...</td>\n",
       "      <td>-1.761285</td>\n",
       "      <td>0.689642</td>\n",
       "      <td>conus</td>\n",
       "      <td>0</td>\n",
       "      <td>GPS 28</td>\n",
       "      <td>175</td>\n",
       "      <td>29.584257</td>\n",
       "      <td>8.163668</td>\n",
       "      <td>118</td>\n",
       "      <td>2010</td>\n",
       "    </tr>\n",
       "    <tr>\n",
       "      <th>3</th>\n",
       "      <td>117</td>\n",
       "      <td>1.0</td>\n",
       "      <td>9</td>\n",
       "      <td>324</td>\n",
       "      <td>3</td>\n",
       "      <td>8</td>\n",
       "      <td>1.0</td>\n",
       "      <td>2</td>\n",
       "      <td>4</td>\n",
       "      <td>'zob1garf', 'godeusno'</td>\n",
       "      <td>...</td>\n",
       "      <td>3.435796</td>\n",
       "      <td>2.234325</td>\n",
       "      <td>conus</td>\n",
       "      <td>0</td>\n",
       "      <td>GPS 8</td>\n",
       "      <td>175</td>\n",
       "      <td>47.881078</td>\n",
       "      <td>9.341128</td>\n",
       "      <td>118</td>\n",
       "      <td>2010</td>\n",
       "    </tr>\n",
       "    <tr>\n",
       "      <th>0</th>\n",
       "      <td>12</td>\n",
       "      <td>0.0</td>\n",
       "      <td>3</td>\n",
       "      <td>1</td>\n",
       "      <td>0</td>\n",
       "      <td>12</td>\n",
       "      <td>3.0</td>\n",
       "      <td>3</td>\n",
       "      <td>4</td>\n",
       "      <td>'qveccxec', 'ibecepec', 'cxecepec'</td>\n",
       "      <td>...</td>\n",
       "      <td>-15.560776</td>\n",
       "      <td>3.885719</td>\n",
       "      <td>regme</td>\n",
       "      <td>1</td>\n",
       "      <td>GPS 1</td>\n",
       "      <td>160</td>\n",
       "      <td>76.016205</td>\n",
       "      <td>6.509268</td>\n",
       "      <td>106</td>\n",
       "      <td>610</td>\n",
       "    </tr>\n",
       "  </tbody>\n",
       "</table>\n",
       "<p>5 rows × 35 columns</p>\n",
       "</div>"
      ],
      "text/plain": [
       "   A_index  BIN_LABEL  C_flare  DAY  ID  K_index  LABEL  N_PAIRS  N_STATIONS  \\\n",
       "0      117        1.0        9  324   0        8    1.0        2           4   \n",
       "1      117        1.0        9  324   1        9    1.0        2           4   \n",
       "2      117        1.0        9  324   2        9    1.0        7          10   \n",
       "3      117        1.0        9  324   3        8    1.0        2           4   \n",
       "0       12        0.0        3    1   0       12    3.0        3           4   \n",
       "\n",
       "                                               PAIRS      ...       \\\n",
       "0                             'mtvrcolb', 'kntnsidn'      ...        \n",
       "1                             'freolsbn', 'garfwoos'      ...        \n",
       "2  'pktngrtn', 'mtvrwoos', 'mtvrcolb', 'grtnerla'...      ...        \n",
       "3                             'zob1garf', 'godeusno'      ...        \n",
       "0                 'qveccxec', 'ibecepec', 'cxecepec'      ...        \n",
       "\n",
       "  min_phase_delay       mse  network  new_regions     prn  radio_flux  \\\n",
       "0       11.744434  2.144725    conus            0  GPS 26         175   \n",
       "1       12.161865  1.036669    conus            0  GPS 26         175   \n",
       "2       -1.761285  0.689642    conus            0  GPS 28         175   \n",
       "3        3.435796  2.234325    conus            0   GPS 8         175   \n",
       "0      -15.560776  3.885719    regme            1   GPS 1         160   \n",
       "\n",
       "     std_grad  std_phase  sunsplot_number  sunspot_area  \n",
       "0   76.675787   7.806186              118          2010  \n",
       "1  104.174454   5.218731              118          2010  \n",
       "2   29.584257   8.163668              118          2010  \n",
       "3   47.881078   9.341128              118          2010  \n",
       "0   76.016205   6.509268              106           610  \n",
       "\n",
       "[5 rows x 35 columns]"
      ]
     },
     "execution_count": 3,
     "metadata": {},
     "output_type": "execute_result"
    }
   ],
   "source": [
    "data_iono.head()"
   ]
  },
  {
   "cell_type": "code",
   "execution_count": 4,
   "metadata": {
    "collapsed": false
   },
   "outputs": [
    {
     "name": "stdout",
     "output_type": "stream",
     "text": [
      "[ 1.  0.  3.]\n",
      "Invalid data:  59\n",
      "Invalid data:  12\n"
     ]
    }
   ],
   "source": [
    "print data_iono.BIN_LABEL.unique()\n",
    "print \"Invalid data: \",data_iono[data_iono.BIN_LABEL==3].shape[0]\n",
    "print \"Invalid data: \",data_iono[data_iono.LABEL==0].shape[0]\n",
    "\n",
    "#drop S flare\n",
    "data_iono = data_iono.drop('S_flare', axis=1)"
   ]
  },
  {
   "cell_type": "code",
   "execution_count": 5,
   "metadata": {
    "collapsed": false
   },
   "outputs": [
    {
     "data": {
      "text/plain": [
       "array(['conus', 'regme', 'rap'], dtype=object)"
      ]
     },
     "execution_count": 5,
     "metadata": {},
     "output_type": "execute_result"
    }
   ],
   "source": [
    "data_iono.network.unique()"
   ]
  },
  {
   "cell_type": "code",
   "execution_count": 6,
   "metadata": {
    "collapsed": false
   },
   "outputs": [
    {
     "name": "stdout",
     "output_type": "stream",
     "text": [
      "<class 'pandas.core.frame.DataFrame'>\n",
      "Int64Index: 1108 entries, 0 to 15\n",
      "Data columns (total 34 columns):\n",
      "A_index             1108 non-null int64\n",
      "BIN_LABEL           1108 non-null float64\n",
      "C_flare             1108 non-null int64\n",
      "DAY                 1108 non-null int64\n",
      "ID                  1108 non-null int64\n",
      "K_index             1108 non-null int64\n",
      "LABEL               1108 non-null float64\n",
      "N_PAIRS             1108 non-null int64\n",
      "N_STATIONS          1108 non-null int64\n",
      "PAIRS               1108 non-null object\n",
      "STATIONS            1108 non-null object\n",
      "TIME                1108 non-null int64\n",
      "YEAR                1108 non-null int64\n",
      "kurtosis_delay      1108 non-null float64\n",
      "kurtosis_grad       1108 non-null float64\n",
      "max_elevation       1108 non-null float64\n",
      "max_grad            1108 non-null float64\n",
      "max_phase_delay     1108 non-null float64\n",
      "mean_code_delay     1108 non-null float64\n",
      "mean_elevation      1108 non-null float64\n",
      "mean_grad           1108 non-null float64\n",
      "mean_phase_delay    1108 non-null float64\n",
      "min_elevation       1108 non-null float64\n",
      "min_grad            1108 non-null float64\n",
      "min_phase_delay     1108 non-null float64\n",
      "mse                 1108 non-null float64\n",
      "network             1108 non-null object\n",
      "new_regions         1108 non-null int64\n",
      "prn                 1108 non-null object\n",
      "radio_flux          1108 non-null int64\n",
      "std_grad            1108 non-null float64\n",
      "std_phase           1108 non-null float64\n",
      "sunsplot_number     1108 non-null int64\n",
      "sunspot_area        1108 non-null int64\n",
      "dtypes: float64(17), int64(13), object(4)\n",
      "memory usage: 303.0+ KB\n"
     ]
    }
   ],
   "source": [
    "data_iono.info()"
   ]
  },
  {
   "cell_type": "code",
   "execution_count": 7,
   "metadata": {
    "collapsed": false
   },
   "outputs": [
    {
     "data": {
      "text/html": [
       "<div>\n",
       "<table border=\"1\" class=\"dataframe\">\n",
       "  <thead>\n",
       "    <tr style=\"text-align: right;\">\n",
       "      <th></th>\n",
       "      <th>A_index</th>\n",
       "      <th>BIN_LABEL</th>\n",
       "      <th>C_flare</th>\n",
       "      <th>DAY</th>\n",
       "      <th>ID</th>\n",
       "      <th>K_index</th>\n",
       "      <th>LABEL</th>\n",
       "      <th>N_PAIRS</th>\n",
       "      <th>N_STATIONS</th>\n",
       "      <th>TIME</th>\n",
       "      <th>...</th>\n",
       "      <th>min_elevation</th>\n",
       "      <th>min_grad</th>\n",
       "      <th>min_phase_delay</th>\n",
       "      <th>mse</th>\n",
       "      <th>new_regions</th>\n",
       "      <th>radio_flux</th>\n",
       "      <th>std_grad</th>\n",
       "      <th>std_phase</th>\n",
       "      <th>sunsplot_number</th>\n",
       "      <th>sunspot_area</th>\n",
       "    </tr>\n",
       "  </thead>\n",
       "  <tbody>\n",
       "    <tr>\n",
       "      <th>count</th>\n",
       "      <td>1108.000000</td>\n",
       "      <td>1108.000000</td>\n",
       "      <td>1108.000000</td>\n",
       "      <td>1108.000000</td>\n",
       "      <td>1108.000000</td>\n",
       "      <td>1108.000000</td>\n",
       "      <td>1108.000000</td>\n",
       "      <td>1108.000000</td>\n",
       "      <td>1108.000000</td>\n",
       "      <td>1108.000000</td>\n",
       "      <td>...</td>\n",
       "      <td>1108.000000</td>\n",
       "      <td>1108.000000</td>\n",
       "      <td>1108.000000</td>\n",
       "      <td>1108.000000</td>\n",
       "      <td>1108.000000</td>\n",
       "      <td>1108.000000</td>\n",
       "      <td>1108.000000</td>\n",
       "      <td>1108.000000</td>\n",
       "      <td>1108.000000</td>\n",
       "      <td>1108.000000</td>\n",
       "    </tr>\n",
       "    <tr>\n",
       "      <th>mean</th>\n",
       "      <td>7.871841</td>\n",
       "      <td>0.331227</td>\n",
       "      <td>5.009928</td>\n",
       "      <td>83.193141</td>\n",
       "      <td>541.774368</td>\n",
       "      <td>2.979242</td>\n",
       "      <td>2.670578</td>\n",
       "      <td>3.493682</td>\n",
       "      <td>4.951264</td>\n",
       "      <td>33089.620939</td>\n",
       "      <td>...</td>\n",
       "      <td>4.343892</td>\n",
       "      <td>2.418153</td>\n",
       "      <td>-13.006453</td>\n",
       "      <td>3.189326</td>\n",
       "      <td>0.858303</td>\n",
       "      <td>138.927798</td>\n",
       "      <td>72.684619</td>\n",
       "      <td>6.324023</td>\n",
       "      <td>127.586643</td>\n",
       "      <td>684.359206</td>\n",
       "    </tr>\n",
       "    <tr>\n",
       "      <th>std</th>\n",
       "      <td>9.138689</td>\n",
       "      <td>0.735866</td>\n",
       "      <td>4.132067</td>\n",
       "      <td>51.077166</td>\n",
       "      <td>314.212699</td>\n",
       "      <td>3.040308</td>\n",
       "      <td>0.687191</td>\n",
       "      <td>2.359887</td>\n",
       "      <td>2.607987</td>\n",
       "      <td>26603.666992</td>\n",
       "      <td>...</td>\n",
       "      <td>2.196078</td>\n",
       "      <td>16.684038</td>\n",
       "      <td>23.463563</td>\n",
       "      <td>3.094520</td>\n",
       "      <td>0.934510</td>\n",
       "      <td>19.045854</td>\n",
       "      <td>76.749068</td>\n",
       "      <td>3.570069</td>\n",
       "      <td>44.489523</td>\n",
       "      <td>380.553067</td>\n",
       "    </tr>\n",
       "    <tr>\n",
       "      <th>min</th>\n",
       "      <td>2.000000</td>\n",
       "      <td>0.000000</td>\n",
       "      <td>0.000000</td>\n",
       "      <td>1.000000</td>\n",
       "      <td>0.000000</td>\n",
       "      <td>0.000000</td>\n",
       "      <td>0.000000</td>\n",
       "      <td>2.000000</td>\n",
       "      <td>2.000000</td>\n",
       "      <td>120.000000</td>\n",
       "      <td>...</td>\n",
       "      <td>0.418695</td>\n",
       "      <td>0.000002</td>\n",
       "      <td>-161.333354</td>\n",
       "      <td>0.259822</td>\n",
       "      <td>0.000000</td>\n",
       "      <td>93.000000</td>\n",
       "      <td>4.403665</td>\n",
       "      <td>0.381191</td>\n",
       "      <td>27.000000</td>\n",
       "      <td>50.000000</td>\n",
       "    </tr>\n",
       "    <tr>\n",
       "      <th>25%</th>\n",
       "      <td>4.000000</td>\n",
       "      <td>0.000000</td>\n",
       "      <td>1.000000</td>\n",
       "      <td>27.000000</td>\n",
       "      <td>269.750000</td>\n",
       "      <td>1.000000</td>\n",
       "      <td>3.000000</td>\n",
       "      <td>2.000000</td>\n",
       "      <td>3.000000</td>\n",
       "      <td>10815.000000</td>\n",
       "      <td>...</td>\n",
       "      <td>2.985736</td>\n",
       "      <td>0.002346</td>\n",
       "      <td>-23.407374</td>\n",
       "      <td>1.077834</td>\n",
       "      <td>0.000000</td>\n",
       "      <td>130.000000</td>\n",
       "      <td>22.716091</td>\n",
       "      <td>3.866001</td>\n",
       "      <td>100.500000</td>\n",
       "      <td>490.000000</td>\n",
       "    </tr>\n",
       "    <tr>\n",
       "      <th>50%</th>\n",
       "      <td>6.000000</td>\n",
       "      <td>0.000000</td>\n",
       "      <td>5.000000</td>\n",
       "      <td>78.000000</td>\n",
       "      <td>543.500000</td>\n",
       "      <td>2.000000</td>\n",
       "      <td>3.000000</td>\n",
       "      <td>3.000000</td>\n",
       "      <td>4.000000</td>\n",
       "      <td>19665.000000</td>\n",
       "      <td>...</td>\n",
       "      <td>4.105219</td>\n",
       "      <td>0.011776</td>\n",
       "      <td>-3.049862</td>\n",
       "      <td>2.242378</td>\n",
       "      <td>1.000000</td>\n",
       "      <td>143.000000</td>\n",
       "      <td>50.170873</td>\n",
       "      <td>5.534548</td>\n",
       "      <td>123.000000</td>\n",
       "      <td>560.000000</td>\n",
       "    </tr>\n",
       "    <tr>\n",
       "      <th>75%</th>\n",
       "      <td>9.000000</td>\n",
       "      <td>0.000000</td>\n",
       "      <td>8.000000</td>\n",
       "      <td>117.000000</td>\n",
       "      <td>810.250000</td>\n",
       "      <td>4.000000</td>\n",
       "      <td>3.000000</td>\n",
       "      <td>4.000000</td>\n",
       "      <td>6.000000</td>\n",
       "      <td>59947.500000</td>\n",
       "      <td>...</td>\n",
       "      <td>5.217290</td>\n",
       "      <td>0.103198</td>\n",
       "      <td>1.955713</td>\n",
       "      <td>4.148489</td>\n",
       "      <td>2.000000</td>\n",
       "      <td>149.000000</td>\n",
       "      <td>97.321750</td>\n",
       "      <td>7.814991</td>\n",
       "      <td>144.000000</td>\n",
       "      <td>880.000000</td>\n",
       "    </tr>\n",
       "    <tr>\n",
       "      <th>max</th>\n",
       "      <td>117.000000</td>\n",
       "      <td>3.000000</td>\n",
       "      <td>14.000000</td>\n",
       "      <td>324.000000</td>\n",
       "      <td>1087.000000</td>\n",
       "      <td>22.000000</td>\n",
       "      <td>5.000000</td>\n",
       "      <td>19.000000</td>\n",
       "      <td>18.000000</td>\n",
       "      <td>84540.000000</td>\n",
       "      <td>...</td>\n",
       "      <td>27.255884</td>\n",
       "      <td>308.851636</td>\n",
       "      <td>29.182519</td>\n",
       "      <td>25.026879</td>\n",
       "      <td>3.000000</td>\n",
       "      <td>182.000000</td>\n",
       "      <td>1122.596213</td>\n",
       "      <td>29.389164</td>\n",
       "      <td>263.000000</td>\n",
       "      <td>2010.000000</td>\n",
       "    </tr>\n",
       "  </tbody>\n",
       "</table>\n",
       "<p>8 rows × 30 columns</p>\n",
       "</div>"
      ],
      "text/plain": [
       "           A_index    BIN_LABEL      C_flare          DAY           ID  \\\n",
       "count  1108.000000  1108.000000  1108.000000  1108.000000  1108.000000   \n",
       "mean      7.871841     0.331227     5.009928    83.193141   541.774368   \n",
       "std       9.138689     0.735866     4.132067    51.077166   314.212699   \n",
       "min       2.000000     0.000000     0.000000     1.000000     0.000000   \n",
       "25%       4.000000     0.000000     1.000000    27.000000   269.750000   \n",
       "50%       6.000000     0.000000     5.000000    78.000000   543.500000   \n",
       "75%       9.000000     0.000000     8.000000   117.000000   810.250000   \n",
       "max     117.000000     3.000000    14.000000   324.000000  1087.000000   \n",
       "\n",
       "           K_index        LABEL      N_PAIRS   N_STATIONS          TIME  \\\n",
       "count  1108.000000  1108.000000  1108.000000  1108.000000   1108.000000   \n",
       "mean      2.979242     2.670578     3.493682     4.951264  33089.620939   \n",
       "std       3.040308     0.687191     2.359887     2.607987  26603.666992   \n",
       "min       0.000000     0.000000     2.000000     2.000000    120.000000   \n",
       "25%       1.000000     3.000000     2.000000     3.000000  10815.000000   \n",
       "50%       2.000000     3.000000     3.000000     4.000000  19665.000000   \n",
       "75%       4.000000     3.000000     4.000000     6.000000  59947.500000   \n",
       "max      22.000000     5.000000    19.000000    18.000000  84540.000000   \n",
       "\n",
       "           ...       min_elevation     min_grad  min_phase_delay          mse  \\\n",
       "count      ...         1108.000000  1108.000000      1108.000000  1108.000000   \n",
       "mean       ...            4.343892     2.418153       -13.006453     3.189326   \n",
       "std        ...            2.196078    16.684038        23.463563     3.094520   \n",
       "min        ...            0.418695     0.000002      -161.333354     0.259822   \n",
       "25%        ...            2.985736     0.002346       -23.407374     1.077834   \n",
       "50%        ...            4.105219     0.011776        -3.049862     2.242378   \n",
       "75%        ...            5.217290     0.103198         1.955713     4.148489   \n",
       "max        ...           27.255884   308.851636        29.182519    25.026879   \n",
       "\n",
       "       new_regions   radio_flux     std_grad    std_phase  sunsplot_number  \\\n",
       "count  1108.000000  1108.000000  1108.000000  1108.000000      1108.000000   \n",
       "mean      0.858303   138.927798    72.684619     6.324023       127.586643   \n",
       "std       0.934510    19.045854    76.749068     3.570069        44.489523   \n",
       "min       0.000000    93.000000     4.403665     0.381191        27.000000   \n",
       "25%       0.000000   130.000000    22.716091     3.866001       100.500000   \n",
       "50%       1.000000   143.000000    50.170873     5.534548       123.000000   \n",
       "75%       2.000000   149.000000    97.321750     7.814991       144.000000   \n",
       "max       3.000000   182.000000  1122.596213    29.389164       263.000000   \n",
       "\n",
       "       sunspot_area  \n",
       "count   1108.000000  \n",
       "mean     684.359206  \n",
       "std      380.553067  \n",
       "min       50.000000  \n",
       "25%      490.000000  \n",
       "50%      560.000000  \n",
       "75%      880.000000  \n",
       "max     2010.000000  \n",
       "\n",
       "[8 rows x 30 columns]"
      ]
     },
     "execution_count": 7,
     "metadata": {},
     "output_type": "execute_result"
    }
   ],
   "source": [
    "data_iono.describe()"
   ]
  },
  {
   "cell_type": "markdown",
   "metadata": {},
   "source": [
    "# Data visualization \n",
    "## Histograms"
   ]
  },
  {
   "cell_type": "code",
   "execution_count": 8,
   "metadata": {
    "collapsed": false
   },
   "outputs": [
    {
     "name": "stdout",
     "output_type": "stream",
     "text": [
      "Bad data:  59\n",
      "True events:  190\n",
      "False events:  859\n"
     ]
    },
    {
     "data": {
      "text/plain": [
       "<matplotlib.axes._subplots.AxesSubplot at 0x7fd26943ee90>"
      ]
     },
     "execution_count": 8,
     "metadata": {},
     "output_type": "execute_result"
    },
    {
     "data": {
      "image/png": "[encoded data removed]",
      "text/plain": [
       "<matplotlib.figure.Figure at 0x7fd269496650>"
      ]
     },
     "metadata": {},
     "output_type": "display_data"
    }
   ],
   "source": [
    "print \"Bad data: \", data_iono[data_iono.BIN_LABEL==3].shape[0]\n",
    "print \"True events: \", data_iono[data_iono.BIN_LABEL==1].shape[0]\n",
    "print \"False events: \", data_iono[data_iono.BIN_LABEL==0].shape[0]\n",
    "data_iono.BIN_LABEL.plot('hist',title='Binary data and errors')"
   ]
  },
  {
   "cell_type": "code",
   "execution_count": 9,
   "metadata": {
    "collapsed": false
   },
   "outputs": [
    {
     "name": "stdout",
     "output_type": "stream",
     "text": [
      "Class 0 Bad data:  12\n",
      "Class 1 Few peaks:  97\n",
      "Class 2 Very variable:  140\n",
      "Class 3 short arcs cause fake gradients:  855\n",
      "Class 4 Outliers in one station:  3\n",
      "Class 5 Outliers in all stations:  1\n"
     ]
    },
    {
     "data": {
      "text/plain": [
       "<matplotlib.axes._subplots.AxesSubplot at 0x7fd265ab8890>"
      ]
     },
     "execution_count": 9,
     "metadata": {},
     "output_type": "execute_result"
    },
    {
     "data": {
      "image/png": "[encoded data removed]",
      "text/plain": [
       "<matplotlib.figure.Figure at 0x7fd269496890>"
      ]
     },
     "metadata": {},
     "output_type": "display_data"
    }
   ],
   "source": [
    "print \"Class 0 Bad data: \",data_iono[data_iono.LABEL==0].shape[0]\n",
    "print \"Class 1 Few peaks: \",data_iono[data_iono.LABEL==1].shape[0]\n",
    "print \"Class 2 Very variable: \",data_iono[data_iono.LABEL==2].shape[0]\n",
    "print \"Class 3 short arcs cause fake gradients: \",data_iono[data_iono.LABEL==3].shape[0]\n",
    "print \"Class 4 Outliers in one station: \",data_iono[data_iono.LABEL==4].shape[0]\n",
    "print \"Class 5 Outliers in all stations: \",data_iono[data_iono.LABEL==5].shape[0]\n",
    "data_iono.LABEL.plot('hist',title='Classes',)"
   ]
  },
  {
   "cell_type": "markdown",
   "metadata": {},
   "source": [
    "# Prepare and  Clean data"
   ]
  },
  {
   "cell_type": "code",
   "execution_count": 10,
   "metadata": {
    "collapsed": false
   },
   "outputs": [
    {
     "name": "stdout",
     "output_type": "stream",
     "text": [
      "Deleted:  60\n"
     ]
    }
   ],
   "source": [
    "# discard bin_label 3, and label 0,  this is bad data\n",
    "original = data_iono.shape[0]\n",
    "data_iono = data_iono[(data_iono.BIN_LABEL!=3) & (data_iono.LABEL!=0) ]\n",
    "new = data_iono.shape[0]\n",
    "print \"Deleted: \",(original-new)"
   ]
  },
  {
   "cell_type": "code",
   "execution_count": 11,
   "metadata": {
    "collapsed": false
   },
   "outputs": [
    {
     "name": "stdout",
     "output_type": "stream",
     "text": [
      " Multi-Class:  [1.0, 2.0, 3.0]\n",
      " Classes BIN :  [0.0, 1.0]\n",
      "1:  68\n",
      "2:  121\n",
      "3:  859\n"
     ]
    },
    {
     "data": {
      "text/plain": [
       "<matplotlib.axes._subplots.AxesSubplot at 0x7fd2659e0590>"
      ]
     },
     "execution_count": 11,
     "metadata": {},
     "output_type": "execute_result"
    },
    {
     "data": {
      "image/png": "[encoded data removed]",
      "text/plain": [
       "<matplotlib.figure.Figure at 0x7fd2693688d0>"
      ]
     },
     "metadata": {},
     "output_type": "display_data"
    }
   ],
   "source": [
    "# Lets put all elements of  class 4 and 5 into class 3.\n",
    "#print type(data_iono[(data_iono.LABEL==4) | (data_iono.LABEL==5) ]) \n",
    "data_iono.LABEL[(data_iono.LABEL==4) | (data_iono.LABEL==5) ] = 3\n",
    "print \" Multi-Class: \",sorted(data_iono.LABEL.unique())\n",
    "print \" Classes BIN : \",sorted(data_iono.BIN_LABEL.unique())\n",
    "\n",
    "print \"1: \",data_iono[(data_iono.LABEL==1) ].shape[0]\n",
    "print \"2: \",data_iono[(data_iono.LABEL==2) ].shape[0]\n",
    "print \"3: \",data_iono[(data_iono.LABEL==3) ].shape[0]\n",
    "\n",
    "plt.figure(figsize=(7,4))\n",
    "plt.subplot(1,2,1)\n",
    "data_iono.LABEL.value_counts().plot(kind='pie',autopct='%1.1f%%',fontsize=10)\n",
    "plt.subplot(1,2,2)\n",
    "data_iono.BIN_LABEL.value_counts().plot(kind='pie',autopct='%1.1f%%', fontsize=10) "
   ]
  },
  {
   "cell_type": "code",
   "execution_count": 12,
   "metadata": {
    "collapsed": false
   },
   "outputs": [
    {
     "name": "stdout",
     "output_type": "stream",
     "text": [
      "Dataset shape:  (1048, 24)\n"
     ]
    }
   ],
   "source": [
    "metadata = ['prn','network','STATIONS','PAIRS', 'ID','YEAR', 'DAY','TIME' ]\n",
    "labels = ['BIN_LABEL' 'LABEL']\n",
    "X = data_iono[['A_index',  'C_flare', 'K_index','N_PAIRS', 'N_STATIONS',\n",
    "               'kurtosis_delay', 'kurtosis_grad', 'max_elevation',\n",
    "               'max_grad', 'max_phase_delay', 'mean_code_delay', 'mean_elevation',\n",
    "               'mean_grad', 'mean_phase_delay', 'min_elevation', 'min_grad',\n",
    "               'min_phase_delay', 'mse', 'new_regions','radio_flux', 'std_grad', \n",
    "               'std_phase', 'sunsplot_number','sunspot_area']]\n",
    "\n",
    "print \"Dataset shape: \",X.shape\n",
    "y_bin, y_classes = data_iono.BIN_LABEL, data_iono.LABEL"
   ]
  },
  {
   "cell_type": "code",
   "execution_count": 13,
   "metadata": {
    "collapsed": false
   },
   "outputs": [],
   "source": [
    "# Save data\n",
    "#data_iono.to_csv(\"events_clean.csv\")"
   ]
  },
  {
   "cell_type": "markdown",
   "metadata": {},
   "source": [
    "# Oversampling \n",
    "\n",
    "Try too balance dataset. \n",
    "\n",
    "## ADASYN: Adaptative Synthetic Sampling Approach "
   ]
  },
  {
   "cell_type": "code",
   "execution_count": 14,
   "metadata": {
    "collapsed": false
   },
   "outputs": [
    {
     "name": "stdout",
     "output_type": "stream",
     "text": [
      "(1735, 24) (1735,)\n"
     ]
    },
    {
     "data": {
      "text/plain": [
       "<matplotlib.axes._subplots.AxesSubplot at 0x7f7093e90dd0>"
      ]
     },
     "execution_count": 14,
     "metadata": {},
     "output_type": "execute_result"
    },
    {
     "data": {
      "image/png": "[encoded data removed]",
      "text/plain": [
       "<matplotlib.figure.Figure at 0x7f7093e90610>"
      ]
     },
     "metadata": {},
     "output_type": "display_data"
    }
   ],
   "source": [
    "from imblearn.over_sampling import ADASYN\n",
    "\n",
    "ada = ADASYN()\n",
    "X_resampled, y_resampled = ada.fit_sample(X, y_bin)\n",
    "\n",
    "print X_resampled.shape, y_resampled.shape\n",
    "\n",
    "cols = ['A_index',  'C_flare', 'K_index','N_PAIRS', 'N_STATIONS',\n",
    "               'kurtosis_delay', 'kurtosis_grad', 'max_elevation',\n",
    "               'max_grad', 'max_phase_delay', 'mean_code_delay', 'mean_elevation',\n",
    "               'mean_grad', 'mean_phase_delay', 'min_elevation', 'min_grad',\n",
    "               'min_phase_delay', 'mse', 'new_regions','radio_flux', 'std_grad', \n",
    "               'std_phase', 'sunsplot_number','sunspot_area']\n",
    "data_iono_resampled = pd.concat([pd.DataFrame(X_resampled, columns = cols), pd.DataFrame(y_resampled, columns= ['BIN_LABEL'])], axis=1,)\n",
    "\n",
    "data_iono_resampled.BIN_LABEL.value_counts().plot(kind='pie',autopct='%1.1f%%', fontsize=10) "
   ]
  },
  {
   "cell_type": "code",
   "execution_count": 15,
   "metadata": {
    "collapsed": false
   },
   "outputs": [
    {
     "name": "stdout",
     "output_type": "stream",
     "text": [
      "(1735, 25)\n"
     ]
    }
   ],
   "source": [
    "print data_iono_resampled.shape\n",
    "#data_iono_resampled.to_csv(\"events_clean_rs_adasyn.csv\")"
   ]
  },
  {
   "cell_type": "markdown",
   "metadata": {},
   "source": [
    "## SMOTE: Synthetic Minority Over-sampling Technique"
   ]
  },
  {
   "cell_type": "code",
   "execution_count": 16,
   "metadata": {
    "collapsed": false
   },
   "outputs": [
    {
     "name": "stdout",
     "output_type": "stream",
     "text": [
      "(1718, 24) (1718,)\n"
     ]
    },
    {
     "data": {
      "text/plain": [
       "<matplotlib.axes._subplots.AxesSubplot at 0x7f709a163dd0>"
      ]
     },
     "execution_count": 16,
     "metadata": {},
     "output_type": "execute_result"
    },
    {
     "data": {
      "image/png": "[encoded data removed]",
      "text/plain": [
       "<matplotlib.figure.Figure at 0x7f7093e58450>"
      ]
     },
     "metadata": {},
     "output_type": "display_data"
    }
   ],
   "source": [
    "from imblearn.over_sampling import SMOTE\n",
    "\n",
    "sm = SMOTE()\n",
    "\n",
    "X_resampled, y_resampled = sm.fit_sample(X, y_bin)\n",
    "\n",
    "print X_resampled.shape, y_resampled.shape\n",
    "\n",
    "cols = ['A_index',  'C_flare', 'K_index','N_PAIRS', 'N_STATIONS',\n",
    "               'kurtosis_delay', 'kurtosis_grad', 'max_elevation',\n",
    "               'max_grad', 'max_phase_delay', 'mean_code_delay', 'mean_elevation',\n",
    "               'mean_grad', 'mean_phase_delay', 'min_elevation', 'min_grad',\n",
    "               'min_phase_delay', 'mse', 'new_regions','radio_flux', 'std_grad', \n",
    "               'std_phase', 'sunsplot_number','sunspot_area']\n",
    "data_iono_resampled = pd.concat([pd.DataFrame(X_resampled, columns = cols), pd.DataFrame(y_resampled, columns= ['BIN_LABEL'])], axis=1,)\n",
    "\n",
    "data_iono_resampled.BIN_LABEL.value_counts().plot(kind='pie',autopct='%1.1f%%', fontsize=10) "
   ]
  },
  {
   "cell_type": "code",
   "execution_count": 17,
   "metadata": {
    "collapsed": false
   },
   "outputs": [
    {
     "name": "stdout",
     "output_type": "stream",
     "text": [
      "(1718, 25)\n"
     ]
    }
   ],
   "source": [
    "print data_iono_resampled.shape\n",
    "#data_iono_resampled.to_csv(\"events_clean_rs_smote.csv\")"
   ]
  },
  {
   "cell_type": "code",
   "execution_count": 18,
   "metadata": {
    "collapsed": true
   },
   "outputs": [],
   "source": [
    "#https://stats.stackexchange.com/questions/152823/how-to-balance-my-dataset\n",
    "#http://contrib.scikit-learn.org/imbalanced-learn/auto_examples/over-sampling/plot_adasyn.html\n",
    "#http://contrib.scikit-learn.org/imbalanced-learn/auto_examples/over-sampling/plot_smote.html"
   ]
  },
  {
   "cell_type": "markdown",
   "metadata": {},
   "source": [
    "# Dataset info \n",
    "\n",
    "**Metadata** \n",
    "\n",
    "- Day\n",
    "- Year\n",
    "- event ID\n",
    "\n",
    "### Predictor variables\n",
    "----------------------\n",
    "\n",
    "- number of stations  **Cuantitativo**\n",
    "- number of pairs  **Cuantitativo**\n",
    "- mean elevation **Cuantitativo**\n",
    "- lowest elevation **Cuantitativo**\n",
    "- biggest elevation **Cuantitativo**\n",
    "\n",
    "** Double frequency phase_delay signal information **\n",
    "\n",
    "- Phase Delay mean **for each station** **Cuantitativo**\n",
    "- Phase Delay standar deviation **Cuantitativo**\n",
    "- Phase Delay max **Cuantitativo**\n",
    "- Phase Delay min **Cuantitativo**\n",
    "- Phase Delay std **Cuantitativo**\n",
    "- Phase Delay kurtosis **Cuantitativo**\n",
    "- Code Delay mean **Cuantitativo**\n",
    "- Mean squared error between code and phase **Cuantitativo**\n",
    "\n",
    "\n",
    "**Gradient signal information**\n",
    "\n",
    "\n",
    "- Kurtosis mean **Cuantitativo**\n",
    "- Gradient mean **Cuantitativo**\n",
    "- Gradient max **Cuantitativo**\n",
    "- Gradient min **Cuantitativo**\n",
    "- **Outliers detected** \n",
    "-  **Segments descriptor ? **\n",
    "\n",
    "\n",
    "**Space weather data**\n",
    "\n",
    "\n",
    "- Kp index (Every 3 hours) **Cuantitativo**\n",
    "- A index (Daily) **Cuantitativo**\n",
    "- Sunspot number **Cuantitativo**\n",
    "- Sunspot area **Cuantitativo**\n",
    "- Radio Flux Penticton 10.7 cm   **Cuantitativo**\n",
    "-  X-Ray flux flares c y s **Cuantitativo**\n",
    "-------------------------------\n",
    "\n",
    "### Original Classes\n",
    "**True**\n",
    "- Gradients with few peaks (conus). **(1)**\n",
    "- Gradients for scintillation (regme) are very varying. **(2)**\n",
    "\n",
    "**False**\n",
    "- Short arcs that create high variations on the substraction.**(3)**\n",
    "- Outliers in one station (faulty for some reason) creating false gradient with all the neighbours.**(4)**\n",
    "- Outliers in all stations at some time.**(5)**\n",
    "\n",
    "There's very few elements on classes 4, 5 so we can add them to class 3."
   ]
  }
 ],
 "metadata": {
  "anaconda-cloud": {},
  "kernelspec": {
   "display_name": "Python 2",
   "language": "python",
   "name": "python2"
  },
  "language_info": {
   "codemirror_mode": {
    "name": "ipython",
    "version": 2
   },
   "file_extension": ".py",
   "mimetype": "text/x-python",
   "name": "python",
   "nbconvert_exporter": "python",
   "pygments_lexer": "ipython2",
   "version": "2.7.13"
  }
 },
 "nbformat": 4,
 "nbformat_minor": 2
}
