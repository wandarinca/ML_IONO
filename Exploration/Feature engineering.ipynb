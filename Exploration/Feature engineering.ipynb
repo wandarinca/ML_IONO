{
 "cells": [
  {
   "cell_type": "code",
   "execution_count": 1,
   "metadata": {
    "collapsed": true
   },
   "outputs": [],
   "source": [
    "import time\n",
    "import pandas as pd\n",
    "from pandas import scatter_matrix\n",
    "import numpy as np\n",
    "import sklearn\n",
    "import matplotlib.pyplot as plt\n",
    "import seaborn as sns\n",
    "\n",
    "from sklearn.model_selection import cross_val_score\n",
    "from sklearn.model_selection import StratifiedKFold\n",
    "from sklearn.metrics import fbeta_score, make_scorer\n",
    "from sklearn.metrics import accuracy_score, recall_score, f1_score, precision_score\n",
    "from sklearn.metrics import classification_report,confusion_matrix\n",
    "from sklearn.model_selection import train_test_split, learning_curve\n",
    "\n",
    "\n",
    "from sklearn import preprocessing\n",
    "from sklearn.preprocessing import  RobustScaler\n",
    "\n",
    "\n",
    "from sklearn.decomposition import PCA, FastICA\n",
    "\n",
    "from sklearn.feature_selection import SelectKBest\n",
    "\n",
    "from sklearn.linear_model import LogisticRegression\n",
    "from sklearn.discriminant_analysis import LinearDiscriminantAnalysis\n",
    "\n",
    "from imblearn.over_sampling import SMOTE, ADASYN\n",
    "\n",
    "from random import randint\n",
    "\n",
    "%matplotlib inline"
   ]
  },
  {
   "cell_type": "markdown",
   "metadata": {},
   "source": [
    "### Original data"
   ]
  },
  {
   "cell_type": "code",
   "execution_count": 2,
   "metadata": {
    "collapsed": false
   },
   "outputs": [
    {
     "name": "stdout",
     "output_type": "stream",
     "text": [
      "(1048, 34)\n"
     ]
    }
   ],
   "source": [
    "data_iono = pd.read_csv(\"/home/wanda/master_project/Data/events_clean.csv\",index_col=0)\n",
    "print data_iono.shape"
   ]
  },
  {
   "cell_type": "code",
   "execution_count": 3,
   "metadata": {
    "collapsed": false
   },
   "outputs": [
    {
     "data": {
      "text/plain": [
       "Index([u'A_index', u'BIN_LABEL', u'C_flare', u'DAY', u'ID', u'K_index',\n",
       "       u'LABEL', u'N_PAIRS', u'N_STATIONS', u'PAIRS', u'STATIONS', u'TIME',\n",
       "       u'YEAR', u'kurtosis_delay', u'kurtosis_grad', u'max_elevation',\n",
       "       u'max_grad', u'max_phase_delay', u'mean_code_delay', u'mean_elevation',\n",
       "       u'mean_grad', u'mean_phase_delay', u'min_elevation', u'min_grad',\n",
       "       u'min_phase_delay', u'mse', u'network', u'new_regions', u'prn',\n",
       "       u'radio_flux', u'std_grad', u'std_phase', u'sunsplot_number',\n",
       "       u'sunspot_area'],\n",
       "      dtype='object')"
      ]
     },
     "execution_count": 3,
     "metadata": {},
     "output_type": "execute_result"
    }
   ],
   "source": [
    "data_iono.columns"
   ]
  },
  {
   "cell_type": "code",
   "execution_count": 5,
   "metadata": {
    "collapsed": false
   },
   "outputs": [
    {
     "data": {
      "text/plain": [
       "<matplotlib.axes._subplots.AxesSubplot at 0x7ff9e6dd7790>"
      ]
     },
     "execution_count": 5,
     "metadata": {},
     "output_type": "execute_result"
    },
    {
     "data": {
      "image/png": "[encoded data removed]",
      "text/plain": [
       "<matplotlib.figure.Figure at 0x7ff9e6de9090>"
      ]
     },
     "metadata": {},
     "output_type": "display_data"
    }
   ],
   "source": [
    "plt.figure(figsize=(5,5))\n",
    "plt.figtext(.5,.9,\"Classes  Proportion\", fontsize=18, ha='center')\n",
    "data_iono.BIN_LABEL.value_counts().plot(kind='pie',autopct='%1.1f%%', fontsize=15) "
   ]
  },
  {
   "cell_type": "markdown",
   "metadata": {},
   "source": [
    "In our study data is splitted in four parts. 3  Folds or 75% of the data are used to train the algorithms, and will be oversampled since data of class \"1\" or \"True ionospheric event\" is less common. The other part is conserved original to test."
   ]
  },
  {
   "cell_type": "code",
   "execution_count": 6,
   "metadata": {
    "collapsed": false
   },
   "outputs": [
    {
     "name": "stdout",
     "output_type": "stream",
     "text": [
      "Each fold has  262.0  elements.\n",
      "Elements of class 1 or True Event:  47.25\n",
      "Elements of class 0 or False Event:  214.75\n"
     ]
    }
   ],
   "source": [
    "print \"Each fold has \",data_iono.shape[0]/4.,\" elements.\"\n",
    "print \"Elements of class 1 or True Event: \",data_iono[data_iono.BIN_LABEL==1].shape[0]/4.\n",
    "print \"Elements of class 0 or False Event: \",data_iono[data_iono.BIN_LABEL==0].shape[0]/4."
   ]
  },
  {
   "cell_type": "code",
   "execution_count": 7,
   "metadata": {
    "collapsed": false
   },
   "outputs": [
    {
     "name": "stdout",
     "output_type": "stream",
     "text": [
      "Dataset shape:  (1048, 24)\n"
     ]
    }
   ],
   "source": [
    "metadata = data_iono[['prn','network','STATIONS','PAIRS', 'ID','YEAR', 'DAY','TIME' ]]\n",
    "labels = ['BIN_LABEL' 'LABEL']\n",
    "X = data_iono[['A_index',  'C_flare', 'K_index','N_PAIRS', 'N_STATIONS',\n",
    "               'kurtosis_delay', 'kurtosis_grad', 'max_elevation',\n",
    "               'max_grad', 'max_phase_delay', 'mean_code_delay', 'mean_elevation',\n",
    "               'mean_grad', 'mean_phase_delay', 'min_elevation', 'min_grad',\n",
    "               'min_phase_delay', 'mse', 'new_regions','radio_flux', 'std_grad', \n",
    "               'std_phase', 'sunsplot_number','sunspot_area']]\n",
    "\n",
    "print \"Dataset shape: \",X.shape\n",
    "y_bin, y_classes = data_iono.BIN_LABEL, data_iono.LABEL"
   ]
  },
  {
   "cell_type": "markdown",
   "metadata": {},
   "source": [
    "### Add Bucketed features (continuous variable to a categorical variable)"
   ]
  },
  {
   "cell_type": "code",
   "execution_count": 38,
   "metadata": {
    "collapsed": false
   },
   "outputs": [],
   "source": [
    "X_bucket_grad = pd.cut(x = X.max_grad.as_matrix(), bins = [0,50,200,500,1000,11000], labels=[1,2,3,4,5] )\n",
    "X_bucket_grad_mean = pd.cut(x = X.mean_grad.as_matrix(), bins = [0,50,200,500,1000,11000], labels=[1,2,3,4,5] )\n",
    "X_k_index_bucket = pd.cut(x = X.K_index.as_matrix(), bins = [-1,0,1,3,7,22], labels=[0,1,2,3,4] )\n",
    "X_elev_min_bucket = pd.cut(x = X.min_elevation.as_matrix(), bins = [0,15,30,60,90], labels=[0,1,2,3] )#baja, media, alta\n",
    "X_elev_mean_bucket = pd.cut(x = X.mean_elevation.as_matrix(), bins = [0,15,30,60,90], labels=[0,1,2,3] )#baja, media, alta\n",
    "X_elev_max_bucket = pd.cut(x = X.max_elevation.as_matrix(), bins = [0,15,30,60,90], labels=[0,1,2,3] )#baja, media, alta"
   ]
  },
  {
   "cell_type": "markdown",
   "metadata": {},
   "source": [
    "### Add feature crosses"
   ]
  },
  {
   "cell_type": "code",
   "execution_count": 39,
   "metadata": {
    "collapsed": false
   },
   "outputs": [],
   "source": [
    "#grad_max_range*elev, k_index*A_index\n",
    "#sting --> cross--> encode\n",
    "X_grad_elev = (pd.DataFrame(X_bucket_grad.astype('str'))+pd.DataFrame(X_elev_mean_bucket.astype('str'))).astype('int')\n",
    "#X_k_grad =+X_k_index_bucket"
   ]
  },
  {
   "cell_type": "code",
   "execution_count": 40,
   "metadata": {
    "collapsed": false,
    "scrolled": true
   },
   "outputs": [
    {
     "name": "stderr",
     "output_type": "stream",
     "text": [
      "/home/wanda/anaconda3/envs/py27/lib/python2.7/site-packages/ipykernel/__main__.py:3: SettingWithCopyWarning: \n",
      "A value is trying to be set on a copy of a slice from a DataFrame.\n",
      "Try using .loc[row_indexer,col_indexer] = value instead\n",
      "\n",
      "See the caveats in the documentation: http://pandas.pydata.org/pandas-docs/stable/indexing.html#indexing-view-versus-copy\n",
      "  app.launch_new_instance()\n",
      "/home/wanda/anaconda3/envs/py27/lib/python2.7/site-packages/ipykernel/__main__.py:4: SettingWithCopyWarning: \n",
      "A value is trying to be set on a copy of a slice from a DataFrame.\n",
      "Try using .loc[row_indexer,col_indexer] = value instead\n",
      "\n",
      "See the caveats in the documentation: http://pandas.pydata.org/pandas-docs/stable/indexing.html#indexing-view-versus-copy\n",
      "/home/wanda/anaconda3/envs/py27/lib/python2.7/site-packages/ipykernel/__main__.py:5: SettingWithCopyWarning: \n",
      "A value is trying to be set on a copy of a slice from a DataFrame.\n",
      "Try using .loc[row_indexer,col_indexer] = value instead\n",
      "\n",
      "See the caveats in the documentation: http://pandas.pydata.org/pandas-docs/stable/indexing.html#indexing-view-versus-copy\n",
      "/home/wanda/anaconda3/envs/py27/lib/python2.7/site-packages/ipykernel/__main__.py:6: SettingWithCopyWarning: \n",
      "A value is trying to be set on a copy of a slice from a DataFrame.\n",
      "Try using .loc[row_indexer,col_indexer] = value instead\n",
      "\n",
      "See the caveats in the documentation: http://pandas.pydata.org/pandas-docs/stable/indexing.html#indexing-view-versus-copy\n",
      "/home/wanda/anaconda3/envs/py27/lib/python2.7/site-packages/ipykernel/__main__.py:7: SettingWithCopyWarning: \n",
      "A value is trying to be set on a copy of a slice from a DataFrame.\n",
      "Try using .loc[row_indexer,col_indexer] = value instead\n",
      "\n",
      "See the caveats in the documentation: http://pandas.pydata.org/pandas-docs/stable/indexing.html#indexing-view-versus-copy\n",
      "/home/wanda/anaconda3/envs/py27/lib/python2.7/site-packages/ipykernel/__main__.py:8: SettingWithCopyWarning: \n",
      "A value is trying to be set on a copy of a slice from a DataFrame.\n",
      "Try using .loc[row_indexer,col_indexer] = value instead\n",
      "\n",
      "See the caveats in the documentation: http://pandas.pydata.org/pandas-docs/stable/indexing.html#indexing-view-versus-copy\n",
      "/home/wanda/anaconda3/envs/py27/lib/python2.7/site-packages/ipykernel/__main__.py:9: SettingWithCopyWarning: \n",
      "A value is trying to be set on a copy of a slice from a DataFrame.\n",
      "Try using .loc[row_indexer,col_indexer] = value instead\n",
      "\n",
      "See the caveats in the documentation: http://pandas.pydata.org/pandas-docs/stable/indexing.html#indexing-view-versus-copy\n"
     ]
    }
   ],
   "source": [
    "#X[\"LDA\"] = X_LDA\n",
    "#X[\"PCA\"] = X_PCA\n",
    "X[\"bucket_grad\"] = X_bucket_grad.get_values()\n",
    "X[\"bucket_grad_mean\"] = X_bucket_grad_mean\n",
    "X[\"k_index_bucket\"] = X_k_index_bucket\n",
    "X[\"elev_min_bucket\"] = X_elev_min_bucket \n",
    "X[\"elev_mean_bucket\"] = X_elev_mean_bucket\n",
    "X[\"elev_max_bucket\"] = X_elev_max_bucket \n",
    "X[\"grad_elev\"] = X_grad_elev.values.flatten()"
   ]
  },
  {
   "cell_type": "markdown",
   "metadata": {},
   "source": [
    "### Add new representations"
   ]
  },
  {
   "cell_type": "code",
   "execution_count": 41,
   "metadata": {
    "collapsed": false
   },
   "outputs": [],
   "source": [
    "from sklearn.feature_selection import SelectKBest, f_classif"
   ]
  },
  {
   "cell_type": "code",
   "execution_count": 42,
   "metadata": {
    "collapsed": false
   },
   "outputs": [
    {
     "name": "stdout",
     "output_type": "stream",
     "text": [
      "F:  [  3.30504150e+01   4.56753315e-01   4.34979598e+01   1.32129835e+02\n",
      "   1.48340040e+02   4.82268193e+01   1.86190179e+01   4.12544122e+01\n",
      "   2.75100146e+01   8.20244646e+01   1.28995720e+01   8.40503388e+01\n",
      "   2.59236540e+01   1.36059718e+01   1.61836070e-02   3.24575542e+00\n",
      "   2.57342750e+01   1.25417974e+02   8.86656147e+00   1.54691861e+01\n",
      "   9.34035857e+01   8.69607223e+01   1.99797212e+00   4.54430626e+00\n",
      "   8.55984508e+01   3.46357211e+01   6.06250752e+01   1.31563843e-01\n",
      "   3.05660608e+01   2.34959581e+01   7.81365271e+01]\n",
      "P_values:  [  1.17759729e-08   4.99294626e-01   6.72436710e-11   6.99837143e-29\n",
      "   5.23916155e-32   6.65792216e-12   1.74746921e-05   2.02501184e-10\n",
      "   1.89092184e-07   6.43592016e-19   3.43932532e-04   2.49036963e-19\n",
      "   4.21039483e-07   2.37069584e-04   8.98794838e-01   7.18965410e-02\n",
      "   4.63344901e-07   1.42105952e-27   2.97135186e-03   8.93878094e-05\n",
      "   3.18713164e-21   6.38806498e-20   1.57807336e-01   3.32609403e-02\n",
      "   1.20707470e-19   5.34826604e-09   1.65452321e-14   7.16889349e-01\n",
      "   4.07461006e-08   1.44121442e-06   4.00289938e-18]\n"
     ]
    }
   ],
   "source": [
    "F, p_val = f_classif(X.as_matrix(), y_bin.as_matrix())\n",
    "print \"F: \",F\n",
    "print \"P_values: \",p_val\n"
   ]
  },
  {
   "cell_type": "code",
   "execution_count": 43,
   "metadata": {
    "collapsed": false
   },
   "outputs": [
    {
     "data": {
      "image/png": "[encoded data removed]",
      "text/plain": [
       "<matplotlib.figure.Figure at 0x7fbbe0513850>"
      ]
     },
     "metadata": {},
     "output_type": "display_data"
    }
   ],
   "source": [
    "selector = SelectKBest(f_classif, k=10)\n",
    "selector.fit(X, y_bin)\n",
    "scores = -np.log10(selector.pvalues_)\n",
    "\n",
    "plt.figure(figsize=(8,5))\n",
    "plt.bar(range(len(X.columns)), scores)\n",
    "plt.xticks(range(len(X.columns)), X.columns, rotation='vertical')\n",
    "plt.show()"
   ]
  },
  {
   "cell_type": "code",
   "execution_count": 44,
   "metadata": {
    "collapsed": false
   },
   "outputs": [
    {
     "name": "stdout",
     "output_type": "stream",
     "text": [
      "*****Most correalated fetures********\n",
      "N_STATIONS\n",
      "N_PAIRS\n",
      "mse\n",
      "std_grad\n",
      "std_phase\n",
      "bucket_grad\n",
      "mean_elevation\n",
      "max_phase_delay\n",
      "grad_elev\n",
      "k_index_bucket\n",
      "kurtosis_delay\n",
      "K_index\n",
      "max_elevation\n",
      "bucket_grad_mean\n",
      "A_index\n"
     ]
    }
   ],
   "source": [
    "# some of the new features seem to have high p_value!\n",
    "print \"*****Most correalated fetures********\"\n",
    "for i in X.columns[np.argsort(scores)[::-1]][:15]:\n",
    "    print i"
   ]
  },
  {
   "cell_type": "code",
   "execution_count": 45,
   "metadata": {
    "collapsed": false
   },
   "outputs": [
    {
     "name": "stdout",
     "output_type": "stream",
     "text": [
      "31\n",
      "Index([u'A_index', u'C_flare', u'K_index', u'N_PAIRS', u'N_STATIONS',\n",
      "       u'kurtosis_delay', u'kurtosis_grad', u'max_elevation', u'max_grad',\n",
      "       u'max_phase_delay', u'mean_code_delay', u'mean_elevation', u'mean_grad',\n",
      "       u'mean_phase_delay', u'min_elevation', u'min_grad', u'min_phase_delay',\n",
      "       u'mse', u'new_regions', u'radio_flux', u'std_grad', u'std_phase',\n",
      "       u'sunsplot_number', u'sunspot_area', u'bucket_grad',\n",
      "       u'bucket_grad_mean', u'k_index_bucket', u'elev_min_bucket',\n",
      "       u'elev_mean_bucket', u'elev_max_bucket', u'grad_elev'],\n",
      "      dtype='object')\n"
     ]
    }
   ],
   "source": [
    "print len(X.columns)\n",
    "print X.columns"
   ]
  },
  {
   "cell_type": "code",
   "execution_count": 46,
   "metadata": {
    "collapsed": false
   },
   "outputs": [
    {
     "name": "stderr",
     "output_type": "stream",
     "text": [
      "/home/wanda/anaconda3/envs/py27/lib/python2.7/site-packages/ipykernel/__main__.py:3: SettingWithCopyWarning: \n",
      "A value is trying to be set on a copy of a slice from a DataFrame.\n",
      "Try using .loc[row_indexer,col_indexer] = value instead\n",
      "\n",
      "See the caveats in the documentation: http://pandas.pydata.org/pandas-docs/stable/indexing.html#indexing-view-versus-copy\n",
      "  app.launch_new_instance()\n"
     ]
    }
   ],
   "source": [
    "#write new dataset\n",
    "#y_bin, y_classes = data_iono.BIN_LABEL, data_iono.LABEL\n",
    "X['BIN_LABEL'],X['LABEL'] = y_bin, y_classes\n",
    "X = pd.concat([X, metadata], axis=1)\n",
    "X.to_csv('events_morefeatures.csv')"
   ]
  },
  {
   "cell_type": "code",
   "execution_count": 47,
   "metadata": {
    "collapsed": false
   },
   "outputs": [
    {
     "data": {
      "text/plain": [
       "(1048, 41)"
      ]
     },
     "execution_count": 47,
     "metadata": {},
     "output_type": "execute_result"
    }
   ],
   "source": [
    "X.shape"
   ]
  },
  {
   "cell_type": "markdown",
   "metadata": {},
   "source": [
    "**To do:**\n",
    "- Create more features.\n",
    "- Get more examples of class 1 more (RAP)\n",
    "- Make ensambles (Random forests and LDA-QDA)\n",
    "\n",
    "**Done**\n",
    "- Use oversampling and split train test.\n",
    "- cross validation with ramdom seed statified folds.\n",
    "- Feature selection: code phase difference\n",
    "- Weight on classes (trees)\n",
    "- Different metrics\n",
    "\n",
    "**Not useful **\n",
    "- Time series aproach? http://machinelearningmastery.com/time-series-forecasting/ Nope\n",
    "- Use dimensional reduction and scalers.\n",
    "- Meander region --> almost ortogonal using splines ? "
   ]
  },
  {
   "cell_type": "markdown",
   "metadata": {},
   "source": [
    "rap\n",
    "\n",
    "2016\n",
    "- 08 \n",
    "  - 236\n",
    "  "
   ]
  },
  {
   "cell_type": "markdown",
   "metadata": {},
   "source": [
    "**<a href=\"https://machinelearningmastery.com/discover-feature-engineering-how-to-engineer-features-and-how-to-get-good-at-it/\">Feature engineering</a>** \n",
    "\n",
    "<a href=\"http://www.dummies.com/programming/big-data/data-science/machine-learning-creating-features-data/\">Creating features</a>\n",
    "\n",
    "\n",
    "> feature engineering is another topic which doesn’t seem to merit any review papers or books, or even chapters in books, but it is absolutely vital to ML success. […] Much of the success of machine learning is actually success in engineering features that a learner can understand.\n",
    "\n",
    "<a href=\"http://blog.yhat.com/tutorials/5-Feature-Engineering.html\">Feature selection using random forest</a>\n",
    "<a href=\"http://adataanalyst.com/machine-learning/comprehensive-guide-feature-engineering/\">Gide to feature eng and selection</a>"
   ]
  },
  {
   "cell_type": "markdown",
   "metadata": {
    "collapsed": true
   },
   "source": [
    "indices dst \n",
    "ftp://ftp.ngdc.noaa.gov/STP/ indices dst viejos \n",
    "http://wdc.kugi.kyoto-u.ac.jp/dst_realtime/201709/index.html real time"
   ]
  },
  {
   "cell_type": "markdown",
   "metadata": {},
   "source": [
    "# Dataset info \n",
    "\n",
    "**Metadata** \n",
    "\n",
    "- Day\n",
    "- Year\n",
    "- event ID\n",
    "\n",
    "----------------------\n",
    "### Predictor variables\n",
    "\n",
    "- number of stations  **Cuantitativo**\n",
    "- number of pairs  **Cuantitativo**\n",
    "- mean elevation **Cuantitativo**\n",
    "- lowest elevation **Cuantitativo**\n",
    "- biggest elevation **Cuantitativo**\n",
    "\n",
    "** Double frequency phase_delay signal information **\n",
    "\n",
    "- Phase Delay mean **for each station** **Cuantitativo**\n",
    "- Phase Delay standar deviation **Cuantitativo**\n",
    "- Phase Delay max **Cuantitativo**\n",
    "- Phase Delay min **Cuantitativo**\n",
    "- Phase Delay std **Cuantitativo**\n",
    "- Phase Delay kurtosis **Cuantitativo**\n",
    "- Code Delay mean **Cuantitativo**\n",
    "- Mean squared error between code and phase **Cuantitativo**\n",
    "\n",
    "\n",
    "**Gradient signal information**\n",
    "\n",
    "\n",
    "- Kurtosis mean **Cuantitativo**\n",
    "- Gradient mean **Cuantitativo**\n",
    "- Gradient max **Cuantitativo**\n",
    "- Gradient min **Cuantitativo**\n",
    "- **Outliers detected** \n",
    "-  **Segments descriptor ? **\n",
    "\n",
    "\n",
    "**Space weather data**\n",
    "\n",
    "\n",
    "- Kp index (Every 3 hours) **Cuantitativo**\n",
    "- A index (Daily) **Cuantitativo**\n",
    "- Sunspot number **Cuantitativo**\n",
    "- Sunspot area **Cuantitativo**\n",
    "- Radio Flux Penticton 10.7 cm   **Cuantitativo**\n",
    "-  X-Ray flux flares c y s **Cuantitativo**\n",
    "-------------------------------\n",
    "\n",
    "### Original Classes\n",
    "**True**\n",
    "- Gradients with few peaks (conus). **(1)**\n",
    "- Gradients for scintillation (regme) are very varying. **(2)**\n",
    "\n",
    "**False**\n",
    "- Short arcs that create high variations on the substraction.**(3)**\n",
    "- Outliers in one station (faulty for some reason) creating false gradient with all the neighbours.**(4)**\n",
    "- Outliers in all stations at some time.**(5)**\n",
    "\n",
    "There's very few elements on classes 4, 5 so we can add them to class 3.\n",
    "\n",
    "## Add features ...\n",
    "\n",
    "- 1 Combine features. (Feature crosses)\n",
    "- 2 Scaled and normalized features.\n",
    "- 3 Feature learning (autoencders)\n",
    "- 4 LDA and PCA\n",
    "- 5 Make booleans from contiuous input.\n",
    "\n",
    "...\n",
    "brainsotrom ...add altitude?, add segments (subarcs)?\n",
    "- 1 grad_max_range*elev, k_index*A_index\n",
    "- 2 scaled kurt mm\n",
    "- 3  Bernoulli Restricted Boltzmann machine model (BernoulliRBM) can perform effective non-linear feature extraction.scikit\n",
    "- 4 Add lda and pca \n",
    "- 5 number_pairs > 2, k_index>4, k=-1, A=-1, elev < 15, grad_max_range [0-50,50-200,200-700,>700], mean too, \n",
    "\n",
    "Quitar outliers de los datos--> http://adataanalyst.com/machine-learning/comprehensive-guide-feature-engineering/"
   ]
  }
 ],
 "metadata": {
  "anaconda-cloud": {},
  "kernelspec": {
   "display_name": "Python 2",
   "language": "python",
   "name": "python2"
  },
  "language_info": {
   "codemirror_mode": {
    "name": "ipython",
    "version": 2
   },
   "file_extension": ".py",
   "mimetype": "text/x-python",
   "name": "python",
   "nbconvert_exporter": "python",
   "pygments_lexer": "ipython2",
   "version": "2.7.13"
  }
 },
 "nbformat": 4,
 "nbformat_minor": 2
}
