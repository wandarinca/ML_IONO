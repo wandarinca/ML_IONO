{
 "cells": [
  {
   "cell_type": "code",
   "execution_count": 1,
   "metadata": {
    "collapsed": false,
    "scrolled": true
   },
   "outputs": [],
   "source": [
    "import numpy as np\n",
    "import pandas as pd\n",
    "import sklearn\n",
    "import matplotlib.pyplot as plt\n",
    "import datetime\n",
    "from os import listdir, mkdir, sep\n",
    "%matplotlib inline"
   ]
  },
  {
   "cell_type": "markdown",
   "metadata": {},
   "source": [
    "Data: Conus & Regme\n",
    "\n",
    "Events dataset (events.txt) ---> Events with confirmed gradients (confirmed by automatic screening not manually validated)\n",
    "\n",
    "Events dataset validated (events_labeled.txt)-->Events with manually validated gradients.\n",
    " \n",
    "One dataset per period? and stackable\n",
    "\n",
    "Networks: CONUS (One day), RAP, REGME"
   ]
  },
  {
   "cell_type": "raw",
   "metadata": {},
   "source": [
    "network\n",
    "    ├── YYYY\n",
    "    │   ├── YYYY_DGD.txt\n",
    "    │   ├── YYYY_DSD.txt\n",
    "    │   └── DDD\n",
    "    │       └── Gradients\n",
    "    │           ├── confirmed.txt\n",
    "    │           ├── Gradients-st1-st2_YYYY_DDD.h5\n",
    "    │           ├── ...\n",
    "    ├── events_labeled.txt\n",
    "    └── events.txt"
   ]
  },
  {
   "cell_type": "markdown",
   "metadata": {},
   "source": [
    "**Dataset consolidation**\n",
    "\n",
    "Every row should have.\n",
    "\n",
    "**Metadata** \n",
    "\n",
    "- Day\n",
    "- Year\n",
    "- event ID\n",
    "----------------------\n",
    "**Global descriptors**: Best to have global descriptors for easy dataset.\n",
    "\n",
    "- number of stations  **Cuantitativo**\n",
    "- number of pairs  **Cuantitativo**\n",
    "- mean elevation **Cuantitativo**\n",
    "- lowest elevation **Cuantitativo**\n",
    "- biggest elevation **Cuantitativo**\n",
    "- Double frequency phase_delay signal information **means**\n",
    "  - Phase Delay mean **for each station** **Cuantitativo**\n",
    "  - Phase Delay standar deviation **Cuantitativo**\n",
    "  - Phase Delay max **Cuantitativo**\n",
    "  - Phase Delay min **Cuantitativo**\n",
    "  - Phase Delay std **Cuantitativo**\n",
    "  - Phase Delay kurtosis **Cuantitativo**\n",
    "  - Code Delay mean **Cuantitativo**\n",
    "  - Mean squared error between code and phase **Cuantitativo**\n",
    "- Gradient signal information\n",
    "  - Kurtosis mean **Cuantitativo**\n",
    "  - Gradient mean **Cuantitativo**\n",
    "  - Gradient max **Cuantitativo**\n",
    "  - Gradient min **Cuantitativo**\n",
    "  - **Outliers detected** \n",
    "  -  **Segments descriptor ? **\n",
    "  \n",
    "- Space weather data\n",
    "    - Kp value (Every 3 hours) **Cuantitativo**\n",
    "    - A value (Daily) **Cuantitativo**\n",
    "    - Sunspot number **Cuantitativo**\n",
    "    - Sunspot area **Cuantitativo**\n",
    "    - Radio Flux Penticton 10.7 cm   **Cuantitativo**\n",
    "    -  X-Ray flux flares c y s **Cuantitativo**\n",
    "-------------------------------\n",
    "**Labels**\n",
    "- Binary label (¿is this really an ionospheric event?)\n",
    "0--> False\n",
    "1--> True\n",
    "3--> Error processing can't determine if it is true or false.\n",
    "\n",
    "- Label (Wich kind of Positive or Negative)\n",
    "  - **True**\n",
    "  - Gradients with few peaks (conus). **(1)**\n",
    "  - Gradients for scintillation (regme) are very varying. **(2)**\n",
    "  - **False**\n",
    "  - Short arcs that create high variations on the substraction.**(3)**\n",
    "  - Outliers in one station (faulty for some reason) creating false gradient with all the neighbours.**(4)**\n",
    "  - Outliers in all stations at some time.**(5)**\n",
    "\n",
    "Total columns ~ 20  signal descriptors and space weather data.\n",
    "\n",
    "*others like - Latitude longitud mean?, time of peak., Legendre polynomial,\n",
    "\n",
    "\n",
    "\n",
    "# About Space weather  data \n",
    "\n",
    "<a href = \"http://www.swpc.noaa.gov/products-and-data\">NOAA Products and Data</a> <a href=\"http://www.swpc.noaa.gov/communities/global-positioning-system-gps-community-dashboard\">Dashboard for GPS systems</a>\n",
    "\n",
    "<a href=\"http://services.swpc.noaa.gov/text/\">text</a>\n",
    "- **K indices** --> http://www.swpc.noaa.gov/products/planetary-k-index The K-index, and by extension the Planetary K-index, are **used to characterize the magnitude of geomagnetic storms**. Kp is an excellent indicator of disturbances in the Earth's magnetic field.  Kp-index is derived at the NOAA Space Weather Prediction Center using data from the following ground-based magnetometers: Sitka, Alaska; Meanook, Canada; Ottawa, Canada; Fredericksburg, Virginia; Hartland, UK; Wingst, Germany; Niemegk, Germany; and Canberra, Australia. These data are made available thanks to the cooperative efforts between SWPC and data providers around the world, which currently includes the U.S. Geological Survey, Natural Resources Canada (NRCAN), the British Geological Survey, the German Research Centre for Geosciences (GFZ), and Geoscience Australia. Important magnetometer observations are also contributed by the Institut de Physique du Globe de Paris and the Korean Space Weather Center. K-index Watches are issued when the highest predicted NOAA estimated Kp-indices for a day are K = 5, 6, 7, or >= 8 and is reported in terms of the NOAA G scale. \n",
    "\n",
    "  - **K-index Warnings** are issued when NOAA estimated Kp-indices of 4, 5, 6, and 7 or greater are expected.\n",
    "  - **K-index Alerts** are issued when the NOAA estimated Kp-indices reach 4, 5, 6, 7, 8, or 9. \n",
    "\n",
    " - Old Indices --> ftp://ftp.swpc.noaa.gov/pub/indices/old_indices/\n",
    " - 3 Day forecast (Kp predicted)--> http://www.swpc.noaa.gov/products/3-day-forecast\n",
    " - 3-Day Geomagnetic Forecast (Ap predicted)--> http://www.swpc.noaa.gov/products/3-day-geomagnetic-forecast\n",
    "- **Predicted_Sunspot_Numbers_and_Radio_Flux**: Predict.txt --> http://www.swpc.noaa.gov/products/predicted-sunspot-number-and-radio-flux. \n",
    "  - **Sunspots** (wiki) are temporary phenomena on the Sun's photosphere that appear as spots darker than the surrounding areas. They are regions of reduced surface temperature caused by concentrations of magnetic field flux that inhibit convection. Sunspots usually appear in pairs of opposite magnetic polarity.[2] Their number varies according to the approximately 11-year solar cycle.\n",
    "  - **Solar radio flux** mission from the Sun at centimetric (radio) wavelength is due primarily to coronal plasma trapped in the magnetic fields overlying active regions.[55] The F10.7 index is a measure of the solar radio flux per unit frequency at a wavelength of 10.7 cm, near the peak of the observed solar radio emission. F10.7 is often expressed in SFU or solar flux units (1 SFU = 10−22 W m−2 Hz−1). It represents a measure of diffuse, nonradiative coronal plasma heating. It is an excellent indicator of overall solar activity levels and correlates well with solar UV emissions.Sunspot activity has a major effect on long distance radio communications, particularly on the shortwave bands although medium wave and low VHF frequencies are also affected. High levels of sunspot activity lead to improved signal propagation on higher frequency bands, although they also increase the levels of solar noise and ionospheric disturbances. These effects are caused by impact of the increased level of solar radiation on the ionosphere. 10.7 cm solar flux could interfere with point-to-point terrestrial communications.[56]\n",
    "  - **Solar flare**: A solar flare is a sudden flash of brightness observed near the Sun's surface. It involves a very broad spectrum of emissions, an energy release of typically 1 × 1020 joules of energy for a well-observed event. A major event can emit up to 1 × 1025 joules[1] (the latter is roughly the equivalent of 1 billion megatons of TNT, or over 400 times more energy than released from the impact of Comet Shoemaker–Levy 9 with Jupiter). Flares are often, but not always, accompanied by a coronal mass ejection.[2] The flare ejects clouds of electrons, ions, and atoms through the corona of the sun into space. These clouds typically reach Earth a day or two after the event.[3] The term is also used to refer to similar phenomena in other stars, where the term stellar flare applies. **Solar flares** affect all layers of the solar atmosphere.\n",
    "\n",
    "- Historic --> ftp://ftp.swpc.noaa.gov/pub/indices/old_indices/2010_DSD.txt <a href=\"ftp://ftp.swpc.noaa.gov/pub/indices/old_indices/README\">readme</a>\n",
    "- DGD Daily geomagnetic data : ftp://ftp.swpc.noaa.gov/pub/indices/old_indices/2003_DGD.txt"
   ]
  },
  {
   "cell_type": "code",
   "execution_count": 1,
   "metadata": {
    "collapsed": true
   },
   "outputs": [],
   "source": [
    "def get_space_data(network, doy, hour, year):\n",
    "    \"\"\"\n",
    "    Extract daily solar and geomagnetic data.\n",
    "    - Daily Geomagnetic data from NOAA \n",
    "    ftp://ftp.swpc.noaa.gov/pub/indices/old_indices/YYYY_DGD.txt \n",
    "     - A indices:  range from 0 (very quiet) to 400 (extremely disturbed) >= 30\n",
    "     indicates local geomagnetic storm conditions. \n",
    "     - 3-hourly K indices range from 0 (very quiet) to 9 (extremely disturbed). Missing A K are -1\n",
    "    \n",
    "    - Daily solar data\n",
    "    ftp://ftp.swpc.noaa.gov/pub/indices/old_indices/2003_DSD.txt\n",
    "    ftp://ftp.ngdc.noaa.gov/STP/ indices dst viejos \n",
    "    http://wdc.kugi.kyoto-u.ac.jp/dst_realtime/201709/index.html real time\n",
    "      - Radio Flux Penticton 10.7 cm\n",
    "      - Sunspot number\n",
    "      - Sunspot area\n",
    "      -  X-Ray flux flares c y s\n",
    "      \"\"\"\n",
    "    #doy --> year month day\n",
    "    date = datetime.datetime.strptime(year+' '+doy, '%Y %j')\n",
    "    strday = str(date.day) if len(str(date.day)) == 2 else '0'+str(date.day) \n",
    "    strmonth = str(date.month) if len(str(date.month)) == 2 else '0'+str(date.month)\n",
    "    strinf_find = year+' '+strmonth+' '+strday\n",
    "    \n",
    "    #Geomagnetic data\n",
    "    #Missing A- and K-indices are shown as -1.\n",
    "    geomag_data = open(network+sep+year+sep+year+'_DGD.txt','r') \n",
    "    lines = geomag_data.read()\n",
    "    answer = lines.find(strinf_find) \n",
    "    info_line = lines[answer:answer+79].split()[-9:]\n",
    "    A_index = info_line[0]\n",
    "    K_index = info_line [int(round((hour/3600)/3))]\n",
    "    \n",
    "    #Solar data \n",
    "    #Missing data is shown as -1, except X-ray Background Flux is shown as *.\n",
    "    solar_data = open(network+sep+year+sep+year+'_DSD.txt','r') \n",
    "    lines = solar_data.read()\n",
    "    answer = lines.find(strinf_find) \n",
    "    info_line = lines[answer:answer+75].split()[3:]\n",
    "    indices = 4,5,7,9,10,11,12\n",
    "    info_line = [i for j, i in enumerate(info_line) if j not in indices]\n",
    "    radio_flux, sunsplot_number, sunspot_area, new_regions,C_flare, S_flare = info_line\n",
    "        \n",
    "    return int(A_index), int(K_index), int(radio_flux), int(sunsplot_number), int(sunspot_area), int(new_regions), int(C_flare), int(S_flare)"
   ]
  },
  {
   "cell_type": "code",
   "execution_count": 3,
   "metadata": {
    "collapsed": false
   },
   "outputs": [],
   "source": [
    "def extract_features(network,group):\n",
    "    \"\"\"Extract features from signals, such as mean, standar deviation curtosis,\n",
    "    space weather data and metadata.\"\"\"\n",
    "    n_stations = len(set([ i[:4] for  i in group.PRN_PAIR.values]+[ i[4:8] for  i in group.PRN_PAIR.values]))\n",
    "    n_pairs = len(group.PRN_PAIR.values)\n",
    "    stations = str(set([ i[:4] for  i in group.PRN_PAIR.values]+[ i[4:8] for  i in group.PRN_PAIR.values]))[5:-2]\n",
    "    pairs =str(set([i[:8] for  i in group.PRN_PAIR.values]))[5:-2]\n",
    "    time_greatest = group.TIME[group.GRADIENT.values== group.GRADIENT.max()].values[0] #time of biggest gradient in the event.\n",
    "    \n",
    "    #Delay measures\n",
    "    mean_phase_delay = np.array([])\n",
    "    mean_code_delay = np.array([])\n",
    "    std_phase = np.array([])\n",
    "    max_phase_delay = np.array([])\n",
    "    min_phase_delay = np.array([])\n",
    "    kurtosis_delay = np.array([])\n",
    "    mean_elevation = np.array([])\n",
    "    max_elevation = np.array([])\n",
    "    min_elevation = np.array([])\n",
    "    mse = np.array([])\n",
    "    \n",
    "    #Gradient measures\n",
    "    kurtosis_grad = np.array([])\n",
    "    mean_grad = np.array([])\n",
    "    std_grad = np.array([])\n",
    "    max_grad = np.array([])\n",
    "    min_grad = np.array([])\n",
    "    day, year, id_group = group.DAY.unique()[0], group.YEAR.unique()[0], group.ID.unique()[0]\n",
    "    \n",
    "    if len(str(day))<3:\n",
    "        if len(str(day)) == 2:\n",
    "            doy = '0'+str(day)\n",
    "        else:\n",
    "            doy = '00'+str(day)\n",
    "    else: \n",
    "        doy = str(day)\n",
    "    \n",
    "    bin_label, label = group.BIN_GRAD.unique()[0],group.LABEL.unique()[0]\n",
    "    \n",
    "    for i, row in group.iterrows():\n",
    "        st1, st2, prn =  row.PRN_PAIR[:4] , row.PRN_PAIR[4:8], row.PRN_PAIR.split(\"-\")[1]\n",
    "        file_grad = network+sep+str(year)+sep+doy+sep+\"Gradients\"+sep+\"Gradients-\"+st1+\"-\"+st2+\"_\"+str(year)+\"_\"+doy+\".h5\"\n",
    "        grad_df = pd.read_hdf(file_grad)\n",
    "        grad_df = grad_df[((grad_df.TIME-time_greatest).abs()<=36000) & (grad_df.PRN == prn)]\n",
    "        n_points = grad_df.shape[0]\n",
    "        \n",
    "        #Delays signal measurements\n",
    "        mean_pdx = grad_df.PhaseDelay_x.mean() \n",
    "        mean_pdy = grad_df.PhaseDelay_y.mean()\n",
    "        mean_cdx = grad_df.Filter_CodeDelay_x.mean()\n",
    "        mean_cdy = grad_df.Filter_CodeDelay_y.mean()\n",
    "        max_pdx = grad_df.PhaseDelay_x.max() \n",
    "        max_pdy = grad_df.PhaseDelay_y.max()\n",
    "        min_pdx = grad_df.PhaseDelay_x.min() \n",
    "        min_pdy = grad_df.PhaseDelay_y.min()\n",
    "        kurt_pdx = grad_df.PhaseDelay_x.kurtosis()\n",
    "        kurt_pdy = grad_df.PhaseDelay_y.kurtosis()\n",
    "        desv_phase_x = grad_df.PhaseDelay_x.std() \n",
    "        desv_phase_y = grad_df.PhaseDelay_y.std() \n",
    "        \n",
    "        mean_elev_x = grad_df.Elevation_x.mean()\n",
    "        mean_elev_y = grad_df.Elevation_y.mean()\n",
    "        max_el_x = grad_df.Elevation_x.max()\n",
    "        max_el_y = grad_df.Elevation_y.max()\n",
    "        min_el_x = grad_df.Elevation_x.min()\n",
    "        min_el_y = grad_df.Elevation_y.min()\n",
    "        mse_code_phase_x = np.sqrt(np.mean((grad_df.PhaseDelay_x-grad_df.Filter_CodeDelay_x)**2))\n",
    "        mse_code_phase_y = np.sqrt(np.mean((grad_df.PhaseDelay_y-grad_df.Filter_CodeDelay_y)**2))\n",
    "        \n",
    "        mean_phase_delay = np.append(mean_phase_delay,[mean_pdx,mean_pdy])\n",
    "        mean_code_delay = np.append(mean_code_delay,[mean_cdx,mean_cdy])\n",
    "        std_phase = np.append(std_phase,[desv_phase_x,desv_phase_y])\n",
    "        max_phase_delay = np.append(max_phase_delay,[max_pdx, max_pdy])\n",
    "        min_phase_delay = np.append(min_phase_delay,[min_pdx, min_pdy])\n",
    "        kurtosis_delay = np.append(kurtosis_delay,[kurt_pdx, kurt_pdy])\n",
    "        mean_elevation = np.append(mean_elevation,[mean_elev_x,mean_elev_y])\n",
    "        max_elevation = np.append(max_elevation,[max_el_x,max_el_y])\n",
    "        min_elevation = np.append(min_elevation,[min_el_x,min_el_y])\n",
    "        mse = np.append(mse,[mse_code_phase_x,mse_code_phase_y])\n",
    "        \n",
    "        #Gradient signal measurements\n",
    "        kurtosis_grad = np.append(kurtosis_grad ,grad_df.GRADIENT.kurtosis())\n",
    "        mean_grad = np.append(mean_grad ,grad_df.GRADIENT.mean())\n",
    "        max_grad = np.append(max_grad, grad_df.GRADIENT.max())\n",
    "        min_grad = np.append(min_grad, grad_df.GRADIENT.min())\n",
    "        std_grad = np.append(std_grad, grad_df.GRADIENT.std())\n",
    "\n",
    "\n",
    "    mean_phase_delay = np.mean(mean_phase_delay)\n",
    "    mean_code_delay = np.mean(mean_code_delay)\n",
    "    std_phase = np.mean(std_phase)\n",
    "    max_phase_delay = np.max(max_phase_delay)\n",
    "    min_phase_delay = np.min(min_phase_delay)\n",
    "    kurtosis_delay = np.mean(kurtosis_delay)\n",
    "    mean_elevation = np.mean(mean_elevation)\n",
    "    max_elevation = np.max(max_elevation)\n",
    "    min_elevation = np.min(min_elevation)\n",
    "    mse = np.mean(mse)\n",
    "    \n",
    "    kurtosis_grad = np.mean(kurtosis_grad)\n",
    "    mean_grad = np.mean(mean_grad)\n",
    "    max_grad = np.max(max_grad)\n",
    "    min_grad = np.min(min_grad)\n",
    "    std_grad = np.mean(std_grad)\n",
    "    \n",
    "    ### Get space weather data\n",
    "    A_index, K_index, radio_flux, sunsplot_number, sunspot_area, new_regions, C_flare, S_flare = get_space_data(network, str(doy), time_greatest, str(year))\n",
    "    \n",
    "    return {\"TIME\": time_greatest, \"prn\":prn,\n",
    "            \"N_PAIRS\":n_pairs, \"N_STATIONS\":n_stations, \n",
    "            \"STATIONS\": stations, \"PAIRS\": pairs,\n",
    "            \"mean_phase_delay\":mean_phase_delay,\"std_phase\":std_phase, \n",
    "            \"max_phase_delay\":max_phase_delay,\"min_phase_delay\":min_phase_delay, \n",
    "            \"mean_code_delay\":mean_code_delay, \"kurtosis_delay\":kurtosis_delay,\n",
    "           \"mean_elevation\": mean_elevation, \"max_elevation\":max_elevation,\n",
    "            \"min_elevation\":min_elevation, \"mse\":mse,\n",
    "           \"kurtosis_grad\":kurtosis_grad,\"mean_grad\":mean_grad,\n",
    "            \"max_grad\":max_grad,\"min_grad\":min_grad, \"std_grad\": std_grad,\n",
    "            \"DAY\":doy, \"YEAR\":year, \"ID\": id_group, \n",
    "            \"BIN_LABEL\" : bin_label, \"LABEL\":label,\n",
    "           \"A_index\":A_index,\"K_index\":K_index,\"radio_flux\":radio_flux,\n",
    "            \"sunsplot_number\":sunsplot_number,\"sunspot_area\":sunspot_area,\"new_regions\":new_regions,\n",
    "            \"C_flare\":C_flare,\"S_flare\":S_flare,\n",
    "            \"network\": network,\n",
    "           }"
   ]
  },
  {
   "cell_type": "code",
   "execution_count": 4,
   "metadata": {
    "collapsed": true
   },
   "outputs": [],
   "source": [
    "def get_data(network):\n",
    "    events_header = pd.read_csv(network+sep+\"events_labeled.txt\")\n",
    "    events_header = events_header.drop(events_header.columns[0], axis=1)\n",
    "    group_idevent = events_header.groupby(['ID', 'DAY','YEAR'])\n",
    "    dataset = pd.DataFrame()\n",
    "    for name, group in group_idevent:\n",
    "        temp = extract_features(network, group)\n",
    "        dataset = dataset.append([temp])\n",
    "    dataset = dataset.reset_index(drop=True)\n",
    "    return  dataset"
   ]
  },
  {
   "cell_type": "code",
   "execution_count": 5,
   "metadata": {
    "collapsed": false
   },
   "outputs": [
    {
     "data": {
      "text/plain": [
       "Index([u'A_index', u'BIN_LABEL', u'C_flare', u'DAY', u'ID', u'K_index',\n",
       "       u'LABEL', u'N_PAIRS', u'N_STATIONS', u'PAIRS', u'STATIONS', u'S_flare',\n",
       "       u'TIME', u'YEAR', u'kurtosis_delay', u'kurtosis_grad', u'max_elevation',\n",
       "       u'max_grad', u'max_phase_delay', u'mean_code_delay', u'mean_elevation',\n",
       "       u'mean_grad', u'mean_phase_delay', u'min_elevation', u'min_grad',\n",
       "       u'min_phase_delay', u'mse', u'network', u'new_regions', u'prn',\n",
       "       u'radio_flux', u'std_grad', u'std_phase', u'sunsplot_number',\n",
       "       u'sunspot_area'],\n",
       "      dtype='object')"
      ]
     },
     "execution_count": 5,
     "metadata": {},
     "output_type": "execute_result"
    }
   ],
   "source": [
    "conus = get_data(\"conus\")\n",
    "conus.columns"
   ]
  },
  {
   "cell_type": "code",
   "execution_count": 6,
   "metadata": {
    "collapsed": false
   },
   "outputs": [
    {
     "data": {
      "text/plain": [
       "(4, 35)"
      ]
     },
     "execution_count": 6,
     "metadata": {},
     "output_type": "execute_result"
    }
   ],
   "source": [
    "conus.shape"
   ]
  },
  {
   "cell_type": "code",
   "execution_count": 9,
   "metadata": {
    "collapsed": false
   },
   "outputs": [],
   "source": [
    "rap  = get_data(\"rap\")"
   ]
  },
  {
   "cell_type": "code",
   "execution_count": 10,
   "metadata": {
    "collapsed": false
   },
   "outputs": [],
   "source": [
    "regme = get_data(\"regme\")"
   ]
  },
  {
   "cell_type": "code",
   "execution_count": 11,
   "metadata": {
    "collapsed": false
   },
   "outputs": [
    {
     "name": "stdout",
     "output_type": "stream",
     "text": [
      "(1088, 35)\n"
     ]
    }
   ],
   "source": [
    "# stack data !\n",
    "print regme.shape\n",
    "frames = [conus, regme, rap]\n",
    "data_iono = pd.concat(frames)"
   ]
  },
  {
   "cell_type": "code",
   "execution_count": 12,
   "metadata": {
    "collapsed": true
   },
   "outputs": [],
   "source": [
    "data_iono.to_csv(\"events_original.txt\")"
   ]
  },
  {
   "cell_type": "code",
   "execution_count": 13,
   "metadata": {
    "collapsed": false
   },
   "outputs": [
    {
     "name": "stdout",
     "output_type": "stream",
     "text": [
      "(1108, 35)\n"
     ]
    }
   ],
   "source": [
    "print data_iono.shape "
   ]
  },
  {
   "cell_type": "code",
   "execution_count": null,
   "metadata": {
    "collapsed": true
   },
   "outputs": [],
   "source": []
  }
 ],
 "metadata": {
  "anaconda-cloud": {},
  "kernelspec": {
   "display_name": "Python 2",
   "language": "python",
   "name": "python2"
  },
  "language_info": {
   "codemirror_mode": {
    "name": "ipython",
    "version": 2
   },
   "file_extension": ".py",
   "mimetype": "text/x-python",
   "name": "python",
   "nbconvert_exporter": "python",
   "pygments_lexer": "ipython2",
   "version": "2.7.13"
  }
 },
 "nbformat": 4,
 "nbformat_minor": 2
}
