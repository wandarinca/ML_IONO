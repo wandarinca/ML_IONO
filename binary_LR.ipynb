{
 "cells": [
  {
   "cell_type": "code",
   "execution_count": 8,
   "metadata": {
    "collapsed": true
   },
   "outputs": [],
   "source": [
    "import time\n",
    "import pandas as pd\n",
    "from pandas import scatter_matrix\n",
    "import numpy as np\n",
    "import sklearn\n",
    "import matplotlib.pyplot as plt\n",
    "#import seaborn as sns\n",
    "\n",
    "from sklearn.model_selection import StratifiedKFold, GridSearchCV\n",
    "\n",
    "from sklearn.metrics import fbeta_score, make_scorer\n",
    "from sklearn.metrics import accuracy_score, recall_score, f1_score, precision_score\n",
    "from sklearn.metrics import confusion_matrix\n",
    "from sklearn.model_selection import train_test_split\n",
    "\n",
    "from sklearn.decomposition import PCA, FastICA\n",
    "\n",
    "from sklearn.linear_model import LogisticRegression\n",
    "\n",
    "from imblearn.over_sampling import SMOTE, ADASYN\n",
    "\n",
    "from random import randint\n",
    "\n",
    "%matplotlib inline"
   ]
  },
  {
   "cell_type": "markdown",
   "metadata": {},
   "source": [
    "### Original data"
   ]
  },
  {
   "cell_type": "code",
   "execution_count": 9,
   "metadata": {
    "collapsed": false
   },
   "outputs": [
    {
     "name": "stdout",
     "output_type": "stream",
     "text": [
      "(446, 41)\n"
     ]
    }
   ],
   "source": [
    "data_iono = pd.read_csv(\"/home/wanda/master_project/Data/spain_balance_data.csv\",index_col=0)\n",
    "print data_iono.shape"
   ]
  },
  {
   "cell_type": "code",
   "execution_count": 10,
   "metadata": {
    "collapsed": false
   },
   "outputs": [
    {
     "data": {
      "text/plain": [
       "Index([u'A_index', u'C_flare', u'K_index', u'N_PAIRS', u'N_STATIONS',\n",
       "       u'kurtosis_delay', u'kurtosis_grad', u'max_elevation', u'max_grad',\n",
       "       u'max_phase_delay', u'mean_code_delay', u'mean_elevation', u'mean_grad',\n",
       "       u'mean_phase_delay', u'min_elevation', u'min_grad', u'min_phase_delay',\n",
       "       u'mse', u'new_regions', u'radio_flux', u'std_grad', u'std_phase',\n",
       "       u'sunsplot_number', u'sunspot_area', u'bucket_grad',\n",
       "       u'bucket_grad_mean', u'k_index_bucket', u'elev_min_bucket',\n",
       "       u'elev_mean_bucket', u'elev_max_bucket', u'grad_elev', u'BIN_LABEL',\n",
       "       u'LABEL', u'prn', u'network', u'STATIONS', u'PAIRS', u'ID', u'YEAR',\n",
       "       u'DAY', u'TIME'],\n",
       "      dtype='object')"
      ]
     },
     "execution_count": 10,
     "metadata": {},
     "output_type": "execute_result"
    }
   ],
   "source": [
    "data_iono.columns"
   ]
  },
  {
   "cell_type": "code",
   "execution_count": 11,
   "metadata": {
    "collapsed": false
   },
   "outputs": [
    {
     "data": {
      "text/plain": [
       "<matplotlib.axes._subplots.AxesSubplot at 0x7ffb11296ed0>"
      ]
     },
     "execution_count": 11,
     "metadata": {},
     "output_type": "execute_result"
    },
    {
     "data": {
      "image/png": "[encoded data removed]",
      "text/plain": [
       "<matplotlib.figure.Figure at 0x7ffb10fc31d0>"
      ]
     },
     "metadata": {},
     "output_type": "display_data"
    }
   ],
   "source": [
    "purp = \"#b366ff\"\n",
    "blue = \"#9999ff\"\n",
    "cool_grey = \"#a3a3c2\"\n",
    "other_gray = \"#808080\"\n",
    "plt.figure(figsize=(5,5))\n",
    "plt.figtext(.5,.9,\"Classes  Proportion\", fontsize=15, ha='center')\n",
    "data_iono.BIN_LABEL.value_counts().plot(kind='pie',autopct='%1.1f%%', fontsize=15, colors=[other_gray,blue]) "
   ]
  },
  {
   "cell_type": "markdown",
   "metadata": {},
   "source": [
    "In our study data is splitted in four parts. 3  Folds or 75% of the data are used to train the algorithms, and will be oversampled since data of class \"1\" or \"True ionospheric event\" is less common. The other part is conserved original to test."
   ]
  },
  {
   "cell_type": "code",
   "execution_count": 12,
   "metadata": {
    "collapsed": false
   },
   "outputs": [
    {
     "name": "stdout",
     "output_type": "stream",
     "text": [
      "Each fold has  111.5  elements.\n",
      "Elements of class 1 or True Event:  47.25\n",
      "Elements of class 0 or False Event:  64.25\n"
     ]
    }
   ],
   "source": [
    "print \"Each fold has \",data_iono.shape[0]/4.,\" elements.\"\n",
    "print \"Elements of class 1 or True Event: \",data_iono[data_iono.BIN_LABEL==1].shape[0]/4.\n",
    "print \"Elements of class 0 or False Event: \",data_iono[data_iono.BIN_LABEL==0].shape[0]/4."
   ]
  },
  {
   "cell_type": "code",
   "execution_count": 13,
   "metadata": {
    "collapsed": false
   },
   "outputs": [
    {
     "name": "stdout",
     "output_type": "stream",
     "text": [
      "Train set has aprox  334.5  elements.\n",
      "Elements of class 1 or True Event:  35.4375\n",
      "Elements of class 0 or False Event:  48.1875\n"
     ]
    }
   ],
   "source": [
    "train_size = 0.75\n",
    "cv_size =train_size*0.25\n",
    "print \"Train set has aprox \",data_iono.shape[0]*train_size,\" elements.\"\n",
    "print \"Elements of class 1 or True Event: \",data_iono[data_iono.BIN_LABEL==1].shape[0]*cv_size\n",
    "print \"Elements of class 0 or False Event: \",data_iono[data_iono.BIN_LABEL==0].shape[0]*cv_size"
   ]
  },
  {
   "cell_type": "code",
   "execution_count": 14,
   "metadata": {
    "collapsed": false
   },
   "outputs": [
    {
     "name": "stdout",
     "output_type": "stream",
     "text": [
      "Dataset shape:  (430, 31)\n",
      "Dataset (Spain) shape:  (16, 31)\n"
     ]
    }
   ],
   "source": [
    "data_spain = data_iono[data_iono.network=='rap']\n",
    "data_iono = data_iono[data_iono.network!='rap']\n",
    "\n",
    "metadata = ['prn','network','STATIONS','PAIRS', 'ID','YEAR', 'DAY','TIME' ]\n",
    "labels = ['BIN_LABEL' 'LABEL']\n",
    "columns = ['A_index', 'C_flare', 'K_index', 'N_PAIRS', 'N_STATIONS',\n",
    "       'kurtosis_delay', 'kurtosis_grad', 'max_elevation', 'max_grad',\n",
    "       'max_phase_delay', 'mean_code_delay', 'mean_elevation', 'mean_grad',\n",
    "       'mean_phase_delay', 'min_elevation', 'min_grad', 'min_phase_delay',\n",
    "       'mse', 'new_regions', 'radio_flux', 'std_grad', 'std_phase',\n",
    "       'sunsplot_number', 'sunspot_area', 'bucket_grad',\n",
    "       'bucket_grad_mean', 'k_index_bucket', 'elev_min_bucket',\n",
    "       'elev_mean_bucket', 'elev_max_bucket', 'grad_elev']\n",
    "\n",
    "X = data_iono[columns]\n",
    "X_spain = data_spain[columns]\n",
    "\n",
    "print \"Dataset shape: \",X.shape\n",
    "print \"Dataset (Spain) shape: \",X_spain.shape\n",
    "y_bin, y_classes = data_iono.BIN_LABEL, data_iono.LABEL\n",
    "y_spain = data_spain.BIN_LABEL"
   ]
  },
  {
   "cell_type": "markdown",
   "metadata": {},
   "source": [
    "\n",
    "## Train with 75% --> Use oversampling techiques (Smote and Adasyn)  and cross-validation\n",
    "\n",
    "## Test 25% --> original data"
   ]
  },
  {
   "cell_type": "markdown",
   "metadata": {},
   "source": [
    "# Binary Classification: True or False Ionospheric Event"
   ]
  },
  {
   "cell_type": "markdown",
   "metadata": {},
   "source": [
    "\n",
    "- FP --> Non Ionospheric Event, Labeled as event\n",
    "- FN --> True Ionospheric Event, Labeled as not events\n",
    "- TP --> True Ionospheric Event, Labeled as events\n",
    "- TN --> Non Ionospheric Event, Labeled as not events"
   ]
  },
  {
   "cell_type": "raw",
   "metadata": {},
   "source": [
    "                         Condition:Iono         Not Iono \n",
    "\n",
    "  Test says “Iono”       True positive   |   False positive\n",
    "                      ----------------------------------\n",
    "  Test says “Not Iono”   False negative  |    True negative\n"
   ]
  },
  {
   "cell_type": "markdown",
   "metadata": {},
   "source": [
    "# <a href = \"https://en.wikipedia.org/wiki/F1_score\">Metrics</a>\n",
    "\n",
    "\n",
    "What is more valuable?\n",
    "\n",
    "<a href=\"https://stats.stackexchange.com/questions/61829/relation-between-true-positive-false-positive-false-negative-and-true-negative\">**TPR**, FNR, ACC, PRES, F2, F1.   High,  **FNR**, FP low.</a>\n",
    "\n",
    "*The most important metrics for our case are: TPR, FNR, F2, ACC*\n",
    "\n",
    "#### TPR\n",
    "\n",
    "True Positive Rate or Sensitivity or Recall\n",
    "\n",
    "$${\\displaystyle {\\mathit {TPR}}={\\mathit {TP}}/P={\\mathit {TP}}/({\\mathit {TP}}+{\\mathit {FN}})}$$\n",
    "\n",
    "#### FNR\n",
    "False Negative Rate \n",
    "\n",
    "$$FNR = \\frac{FN}{TP+FN}$$\n",
    "\n",
    "\n",
    "####  TNR\n",
    "\n",
    "True Negative Rate  or Specificity (SPC)\n",
    "\n",
    "\n",
    "$${\\displaystyle {\\mathit {SPC}}={\\mathit {TN}}/N={\\mathit {TN}}/({\\mathit {TN}}+{\\mathit {FP}})} {\\mathit {SPC}}={\\mathit {TN}}/N={\\mathit {TN}}/({\\mathit {TN}}+{\\mathit {FP}})$$\n",
    "\n",
    "#### ACC\n",
    "\n",
    "Accuracy\n",
    "\n",
    "$${\\displaystyle \\mathrm {ACC} ={\\frac {\\mathrm {TP} +\\mathrm {TN} }{P+N}}={\\frac {\\mathrm {TP} +\\mathrm {TN} }{\\mathrm {TP} +\\mathrm {FP}+\\mathrm {TN}  +\\mathrm {FN} }}}$$\n",
    "\n",
    "\n",
    "#### F1 \n",
    "\n",
    "Is the harmonic mean of precision and sensitivity(TPR)\n",
    "$${\\displaystyle {\\mathit {F1}}=2{\\mathit {TP}}/(2{\\mathit {TP}}+{\\mathit {FP}}+{\\mathit {FN}})}$$\n",
    "\n",
    "\n",
    "#### F2 , $F_\\beta$ \n",
    "\n",
    "Weighs recall higher than precision (by placing more emphasis on false negatives). -->sklearn.metrics.fbeta_score\n",
    "\n",
    "$$F_\\beta= \\frac{(1+\\beta^2).TP}{(1+\\beta^2).TP+\\beta^2-FN+FP}$$\n",
    "\n",
    "\n",
    "#### FOR\n",
    "False omission Rate\n",
    "\n",
    "$$FOR = 1 - NPV = \\frac{FN}{TN+FN}$$\n",
    "\n",
    "* -------------------------------------------------------\n",
    "# Other metrics\n",
    "\n",
    "#### FPR\n",
    "\n",
    "False Positive Rate \n",
    "\n",
    "$${\\displaystyle {\\frac {FP}{N}}={\\frac {FP}{FP+TN}}} {\\displaystyle {\\frac {FP}{N}}={\\frac {FP}{FP+TN}}}$$\n",
    "\n",
    "\n",
    "In scikit learn with cv fuction : scoring : string, callable or None, optional, default: None\n",
    "    A string (see model evaluation documentation) or\n",
    "    a scorer callable object / function with signature\n",
    "    ``scorer(estimator, X, y)``\n",
    "\n",
    "\n",
    "#### PRE \n",
    "\n",
    "The precision is intuitively the ability of the classifier not to label as positive a sample that is negative.\n",
    "\n",
    "$${\\displaystyle {\\text{Precision}}={\\frac {TP}{TP+FP}}\\,}$$\n",
    "\n",
    "\n"
   ]
  },
  {
   "cell_type": "code",
   "execution_count": 15,
   "metadata": {
    "collapsed": false
   },
   "outputs": [],
   "source": [
    "f2_scorer = make_scorer(fbeta_score, beta=2)\n",
    "\n",
    "#http://www.dataschool.io/simple-guide-to-confusion-matrix-terminology/\n",
    "\n",
    "def fnr_score(y, y_pred):\n",
    "    cm = confusion_matrix(y, y_pred)\n",
    "    tp = cm[1][1]*1.\n",
    "    fn = cm[1][0]*1.\n",
    "    tn = cm[0][0]*1.\n",
    "    fp = cm[0][1]*1.\n",
    "    fnr = fn/(tp+fn)\n",
    "    return fnr\n",
    "\n",
    "def fpr_score(y, y_pred):\n",
    "    cm = confusion_matrix(y, y_pred)\n",
    "    tp = cm[1][1]*1.\n",
    "    fn = cm[1][0]*1.\n",
    "    tn = cm[0][0]*1.\n",
    "    fp = cm[0][1]*1.\n",
    "    fpr = fp/(tn+fp)\n",
    "    return fpr\n",
    "\n",
    "def for_score(y, y_pred):\n",
    "    #false omission rate\n",
    "    cm = confusion_matrix(y, y_pred)\n",
    "    tp = cm[1][1]*1.\n",
    "    fn = cm[1][0]*1.\n",
    "    tn = cm[0][0]*1.\n",
    "    fp = cm[0][1]*1.\n",
    "    fpr = fn/(tn+fn)\n",
    "    return fpr\n",
    "\n",
    "fnr_scorer = make_scorer(fnr_score)\n",
    "fpr_scorer = make_scorer(fpr_score)\n",
    "for_scorer = make_scorer(for_score)"
   ]
  },
  {
   "cell_type": "code",
   "execution_count": 16,
   "metadata": {
    "collapsed": false
   },
   "outputs": [],
   "source": [
    "def learning_curve_scores(clf,X_train,y_train, X_test,y_test, score,train_sizes = np.linspace(.1, 1.0, 5),beta=None):\n",
    "    #Scores for a model when experience increases.\n",
    "    lc_score_train, lc_score_test = [], []\n",
    "    for size in train_sizes:\n",
    "        # Get random section from train data, stratified.\n",
    "        if size!=1.0:\n",
    "            X_t,__, y_t, __ = train_test_split(X_train, y_train, train_size=size, random_state=randint(1,100), stratify= y_train)\n",
    "        else:\n",
    "            X_t, y_t = X_train, y_train  \n",
    "            \n",
    "        # Fit with train\n",
    "        clf.fit(X_t,y_t)\n",
    "        # Predict on Train\n",
    "        y_pred_train = clf.predict(X_t)\n",
    "        # Predict on Test\n",
    "        y_pred_test = clf.predict(X_test)\n",
    "        # Save scores\n",
    "        if beta!= None:\n",
    "            lc_score_train.append(score(y_t, y_pred_train,beta))\n",
    "            lc_score_test.append(score(y_test, y_pred_test,beta))     \n",
    "        else:\n",
    "            lc_score_train.append(score(y_t, y_pred_train))\n",
    "            lc_score_test.append(score(y_test, y_pred_test))     \n",
    "    \n",
    "    return lc_score_train, lc_score_test"
   ]
  },
  {
   "cell_type": "code",
   "execution_count": 17,
   "metadata": {
    "collapsed": true
   },
   "outputs": [],
   "source": [
    "def plot_lc(title, scores,mask):\n",
    "    metrics = ['F2','PRE','TPR']\n",
    "    for metric in metrics:\n",
    "        plt.figure()\n",
    "        plt.title(title+\" \"+metric)\n",
    "        #if ylim is not None:\n",
    "            #plt.ylim(*ylim)\n",
    "        plt.xlabel(\"Training examples\")\n",
    "        plt.ylabel(\"Score\")\n",
    "        train_sizes = np.linspace(.1, 1.0, 5)\n",
    "        train_scores_mean = np.mean(np.array(scores[metric+'_train'])[mask],axis=0)\n",
    "        train_scores_std =np.std(np.array(scores[metric+'_train'])[mask],axis=0)\n",
    "        test_scores_mean = np.mean(np.array(scores[metric+'_test'])[mask],axis=0)\n",
    "        test_scores_std = np.std(np.array(scores[metric+'_test'])[mask],axis=0)\n",
    "        plt.grid()\n",
    "\n",
    "        plt.fill_between(train_sizes, train_scores_mean - train_scores_std,\n",
    "                         train_scores_mean + train_scores_std, alpha=0.1,\n",
    "                         color=\"r\")\n",
    "        plt.fill_between(train_sizes, test_scores_mean - test_scores_std,\n",
    "                         test_scores_mean + test_scores_std, alpha=0.1, color=\"g\")\n",
    "        plt.plot(train_sizes, train_scores_mean, 'o-', color=\"r\",\n",
    "                 label=\"Training score\")\n",
    "        plt.plot(train_sizes, test_scores_mean, 'o-', color=\"g\",\n",
    "                 label=\"Test score\")#label=\"Cross-validation score\"\n",
    "\n",
    "        plt.legend(loc=\"best\")\n",
    "    return plt"
   ]
  },
  {
   "cell_type": "markdown",
   "metadata": {},
   "source": [
    "*-----------------------------------------------------------------------------------*\n",
    "# Classifier: Logistic Regression (logit or maximum entropy)\n",
    "\n",
    "- **Newton Solver: ** L2 Penalty More quicker. Multiclass can be multinomial or one vs all ('ovr'). The first is always better clasifier.\n",
    "\n",
    "- **Lbfgs Solver: **quasi newton. L2 Penalty More quicker. Multiclass can be multinomial or one vs all ('ovr'). The first is always better clasifier.\n",
    "\n",
    "- **Stochastic Average Gradient descent (sag) solver: **L2 Penalty More quicker with a big number of features and elements. Multiclass can be multinomial or one vs all ('ovr'). The first is always better clasifier.\n",
    "\n",
    "- **Coordinate system (liblinear) solver: **L1 Penalty .One vs the rest. Not multinomial."
   ]
  },
  {
   "cell_type": "markdown",
   "metadata": {},
   "source": [
    "### Model selection with train data\n",
    "\n",
    "- Split data with stratified split (75% Train, 25% Test)\n",
    "- Cross validation on train (oversampling option) using many metrics, using an algorithm with different hyperparameters to find the best model. \n",
    "- Repeat to prove stability."
   ]
  },
  {
   "cell_type": "code",
   "execution_count": 18,
   "metadata": {
    "collapsed": false
   },
   "outputs": [],
   "source": [
    "def model_selection(X,y,iters,folds_cv, clf,params,n_proc,use_oversampling=True):\n",
    "    best = [] #list of index (id) of best estimator on each iteration\n",
    "    scores_test = [] # performance on unseen data for the best estimator. Trainig 75% and then testin 25%\n",
    "    #Diccionary with learning curve scores for the best estimator for each iteration on train and test\n",
    "    lc_scores = {'PRE_train':[],'PRE_test':[], 'ACC_train':[],'ACC_test':[],\n",
    "                 'TPR_train':[],'TPR_test':[],'FPR_train':[],'FPR_test':[],\n",
    "                 'FOR_train':[], 'FOR_test':[],'FNR_train':[],'FNR_test':[],\n",
    "                 'F2_train': [],'F2_test': []\n",
    "                 }\n",
    "    ada = ADASYN()\n",
    "    #fbeta_score(y_test, y_pred, beta=2) \n",
    "    for i in range(iters):\n",
    "        #print \"i = \", i\n",
    "        #Split data with statified 25% Test, 75% Train\n",
    "        #this preservs the % of samples for each class.\n",
    "        X_train, X_test, y_train, y_test = train_test_split(X, y,train_size=0.25, test_size=0.25, random_state=randint(1,100), stratify= y)\n",
    "\n",
    "        #Oversample using ADASYN algorithm\n",
    "        if use_oversampling==True:\n",
    "            X_train, y_train = ada.fit_sample(X_train, y_train)\n",
    "\n",
    "        #Cross validation object with stratified  folds.\n",
    "        cv = StratifiedKFold(n_splits = folds_cv, random_state = randint(1,100), shuffle=True)\n",
    "\n",
    "        #Select best model Tuning hyperparameters using GridSearch on parameters space\n",
    "        ##refit score is the metric that chooses the model\n",
    "        \n",
    "        scoring = {'FNR': fnr_scorer,'FPR':fpr_scorer,'F2':f2_scorer,\n",
    "                  'TPR':'recall', 'ACC':'accuracy', 'PRES':'precision',\n",
    "                  'FOR': for_scorer} \n",
    "        \n",
    "        grid = GridSearchCV(estimator=clf, param_grid = params,\n",
    "                            scoring=scoring, n_jobs=n_proc, refit='F2', \n",
    "                            cv=cv,verbose=0)\n",
    "\n",
    "        grid.fit(X_train, y_train) \n",
    "\n",
    "        #Best model on training data\n",
    "        #results = grid.cv_results_\n",
    "        best.append(grid.best_index_ )\n",
    "\n",
    "        #Save performance on unseen (test) data (25%)\n",
    "        y_pred = grid.predict(X_test) #run estimator with the best found parameters\n",
    "        score_test = {'PRE':precision_score(y_test, y_pred), 'ACC':accuracy_score(y_test, y_pred),\n",
    "                     'TPR':recall_score(y_test, y_pred), 'FPR':fpr_score(y_test, y_pred),\n",
    "                     'FOR':for_score(y_test, y_pred), 'FNR':fnr_score(y_test, y_pred),\n",
    "                      'F2': fbeta_score(y_test, y_pred, beta=2), 'PREDICTOR_INDEX':grid.best_index_}\n",
    "        scores_test.append(score_test)\n",
    "\n",
    "        #Save learning curve information Train/Test for the best estimator in this iteration.\n",
    "        ## This scores are generated increasing the training size, the test size is always the same.\n",
    "        ## Cross validationis not used in  this step \n",
    "        pre_scores_iter_0, pre_scores_iter_1 = learning_curve_scores(clf=grid.best_estimator_,X_train=X_train,y_train=y_train, X_test=X_test,y_test=y_test, score = precision_score)\n",
    "        acc_scores_iter_0, acc_scores_iter_1 = learning_curve_scores(clf=grid.best_estimator_,X_train=X_train,y_train=y_train, X_test=X_test,y_test=y_test, score = accuracy_score)\n",
    "        tpr_scores_iter_0, tpr_scores_iter_1 = learning_curve_scores(clf=grid.best_estimator_,X_train=X_train,y_train=y_train, X_test=X_test,y_test=y_test, score = recall_score)\n",
    "        fpr_scores_iter_0, fpr_scores_iter_1 = learning_curve_scores(clf=grid.best_estimator_,X_train=X_train,y_train=y_train, X_test=X_test,y_test=y_test, score = fpr_score)\n",
    "        for_scores_iter_0, for_scores_iter_1 = learning_curve_scores(clf=grid.best_estimator_,X_train=X_train,y_train=y_train, X_test=X_test,y_test=y_test, score = for_score)\n",
    "        fnr_scores_iter_0, fnr_scores_iter_1 = learning_curve_scores(clf=grid.best_estimator_,X_train=X_train,y_train=y_train, X_test=X_test,y_test=y_test, score = fnr_score)\n",
    "        f2_scores_iter_0, f2_scores_iter_1 = learning_curve_scores(clf=grid.best_estimator_,X_train=X_train,y_train=y_train, X_test=X_test,y_test=y_test, score = fbeta_score,beta=2)\n",
    "        \n",
    "        \n",
    "        lc_scores['PRE_train'].append(pre_scores_iter_0)\n",
    "        lc_scores['PRE_test'].append(pre_scores_iter_1)\n",
    "        lc_scores['ACC_train'].append(acc_scores_iter_0)\n",
    "        lc_scores['ACC_test'].append(acc_scores_iter_1)\n",
    "        lc_scores['TPR_train'].append(tpr_scores_iter_0)\n",
    "        lc_scores['TPR_test'].append(tpr_scores_iter_1)\n",
    "        lc_scores['FPR_train'].append(fpr_scores_iter_0)\n",
    "        lc_scores['FPR_test'].append(fpr_scores_iter_1)\n",
    "        lc_scores['FOR_train'].append(for_scores_iter_0)\n",
    "        lc_scores['FOR_test'].append(for_scores_iter_1)\n",
    "        lc_scores['FNR_train'].append(fnr_scores_iter_0)\n",
    "        lc_scores['FNR_test'].append(fnr_scores_iter_1)\n",
    "        lc_scores['F2_train'].append(f2_scores_iter_0)\n",
    "        lc_scores['F2_test'].append(f2_scores_iter_1)\n",
    "    \n",
    "    results = grid.cv_results_\n",
    "    return best, scores_test,  lc_scores, results\n"
   ]
  },
  {
   "cell_type": "code",
   "execution_count": 19,
   "metadata": {
    "collapsed": false,
    "scrolled": true
   },
   "outputs": [
    {
     "name": "stderr",
     "output_type": "stream",
     "text": [
      "/home/wanda/anaconda3/envs/py27/lib/python2.7/site-packages/sklearn/linear_model/sag.py:326: ConvergenceWarning: The max_iter was reached which means the coef_ did not converge\n",
      "  \"the coef_ did not converge\", ConvergenceWarning)\n",
      "/home/wanda/anaconda3/envs/py27/lib/python2.7/site-packages/sklearn/model_selection/_split.py:2010: FutureWarning: From version 0.21, test_size will always complement train_size unless both are specified.\n",
      "  FutureWarning)\n",
      "/home/wanda/anaconda3/envs/py27/lib/python2.7/site-packages/sklearn/utils/optimize.py:203: ConvergenceWarning: newton-cg failed to converge. Increase the number of iterations.\n",
      "  \"number of iterations.\", ConvergenceWarning)\n"
     ]
    }
   ],
   "source": [
    "nproc = 1\n",
    "params = {'C':np.arange(0.1,1,0.1),\n",
    "          'solver':['newton-cg','lbfgs','sag', 'liblinear']}\n",
    "best, scores_test,  lc_scores, results = model_selection(X=X,y=y_bin,iters=100,folds_cv = 3, clf = LogisticRegression(),params = params,n_proc=nproc,use_oversampling=False)\n",
    "best_o, scores_test_o,  lc_scores_o, results_o = model_selection(X=X,y=y_bin,iters=100,folds_cv = 3, clf = LogisticRegression(),params = params,n_proc=nproc,use_oversampling=True)"
   ]
  },
  {
   "cell_type": "markdown",
   "metadata": {},
   "source": [
    "## Select model with best performance and plot learning curve"
   ]
  },
  {
   "cell_type": "code",
   "execution_count": 20,
   "metadata": {
    "collapsed": false,
    "scrolled": true
   },
   "outputs": [
    {
     "name": "stdout",
     "output_type": "stream",
     "text": [
      "Axes(0.125,0.125;0.775x0.755)\n",
      "1     14\n",
      "13     9\n",
      "3      8\n",
      "9      8\n",
      "0      6\n",
      "29     6\n",
      "5      6\n",
      "33     6\n",
      "25     4\n",
      "19     4\n",
      "15     4\n",
      "4      3\n",
      "7      3\n",
      "21     3\n",
      "11     2\n",
      "16     2\n",
      "17     2\n",
      "27     2\n",
      "12     1\n",
      "23     1\n",
      "24     1\n",
      "28     1\n",
      "31     1\n",
      "2      1\n",
      "32     1\n",
      "35     1\n",
      "Name: Best, dtype: int64\n"
     ]
    },
    {
     "data": {
      "image/png": "[encoded data removed]",
      "text/plain": [
       "<matplotlib.figure.Figure at 0x7ffb11042490>"
      ]
     },
     "metadata": {},
     "output_type": "display_data"
    }
   ],
   "source": [
    "df_best = pd.DataFrame(best, columns= ['Best'])\n",
    "print df_best.Best.hist(bins=len(df_best.Best.unique()) )\n",
    "print df_best.Best.value_counts()"
   ]
  },
  {
   "cell_type": "code",
   "execution_count": 21,
   "metadata": {
    "collapsed": false
   },
   "outputs": [
    {
     "name": "stdout",
     "output_type": "stream",
     "text": [
      "Axes(0.125,0.125;0.775x0.755)\n",
      "0     13\n",
      "1      9\n",
      "2      9\n",
      "5      7\n",
      "3      6\n",
      "7      6\n",
      "4      5\n",
      "9      4\n",
      "20     4\n",
      "13     4\n",
      "29     3\n",
      "6      3\n",
      "33     3\n",
      "15     3\n",
      "32     2\n",
      "28     2\n",
      "21     2\n",
      "17     2\n",
      "8      2\n",
      "35     1\n",
      "11     1\n",
      "12     1\n",
      "19     1\n",
      "23     1\n",
      "24     1\n",
      "25     1\n",
      "27     1\n",
      "30     1\n",
      "31     1\n",
      "16     1\n",
      "Name: Best, dtype: int64\n"
     ]
    },
    {
     "data": {
      "image/png": "[encoded data removed]",
      "text/plain": [
       "<matplotlib.figure.Figure at 0x7ffb0a368650>"
      ]
     },
     "metadata": {},
     "output_type": "display_data"
    }
   ],
   "source": [
    "df_best_o = pd.DataFrame(best_o, columns= ['Best'])\n",
    "print df_best_o.Best.hist(bins=len(df_best_o.Best.unique()) )\n",
    "print df_best_o.Best.value_counts()"
   ]
  },
  {
   "cell_type": "code",
   "execution_count": 22,
   "metadata": {
    "collapsed": false
   },
   "outputs": [],
   "source": [
    "best_model = 1\n",
    "best_model_o = 0\n",
    "#dfresults_exam.loc[best_model,:] #best\n",
    "#para todos no solo el mejor"
   ]
  },
  {
   "cell_type": "code",
   "execution_count": 23,
   "metadata": {
    "collapsed": false
   },
   "outputs": [
    {
     "data": {
      "text/plain": [
       "param_solver    lbfgs\n",
       "param_C           0.1\n",
       "Name: 1, dtype: object"
      ]
     },
     "execution_count": 23,
     "metadata": {},
     "output_type": "execute_result"
    }
   ],
   "source": [
    "dfr = pd.DataFrame(results)\n",
    "dfr.loc[best_model,['param_solver','param_C']]"
   ]
  },
  {
   "cell_type": "code",
   "execution_count": 24,
   "metadata": {
    "collapsed": false
   },
   "outputs": [
    {
     "data": {
      "text/plain": [
       "param_solver    newton-cg\n",
       "param_C               0.1\n",
       "Name: 0, dtype: object"
      ]
     },
     "execution_count": 24,
     "metadata": {},
     "output_type": "execute_result"
    }
   ],
   "source": [
    "dfr_o = pd.DataFrame(results_o)\n",
    "dfr_o.loc[best_model_o,['param_solver','param_C']]"
   ]
  },
  {
   "cell_type": "code",
   "execution_count": 25,
   "metadata": {
    "collapsed": false
   },
   "outputs": [
    {
     "name": "stdout",
     "output_type": "stream",
     "text": [
      "(14,)\n",
      "(13,)\n"
     ]
    }
   ],
   "source": [
    "mask_best = np.array(df_best[df_best.Best==best_model].index)\n",
    "print mask_best.shape\n",
    "mask_best_o = np.array(df_best[df_best_o.Best==best_model_o].index)\n",
    "print mask_best_o.shape"
   ]
  },
  {
   "cell_type": "markdown",
   "metadata": {},
   "source": [
    "## Learning curves on train data for selected model"
   ]
  },
  {
   "cell_type": "code",
   "execution_count": 26,
   "metadata": {
    "collapsed": false
   },
   "outputs": [
    {
     "data": {
      "text/plain": [
       "<module 'matplotlib.pyplot' from '/home/wanda/anaconda3/envs/py27/lib/python2.7/site-packages/matplotlib/pyplot.pyc'>"
      ]
     },
     "execution_count": 26,
     "metadata": {},
     "output_type": "execute_result"
    },
    {
     "data": {
      "image/png": "[encoded data removed]",
      "text/plain": [
       "<matplotlib.figure.Figure at 0x7ffb0a23e590>"
      ]
     },
     "metadata": {},
     "output_type": "display_data"
    },
    {
     "data": {
      "image/png": "[encoded data removed]",
      "text/plain": [
       "<matplotlib.figure.Figure at 0x7ffb0a3903d0>"
      ]
     },
     "metadata": {},
     "output_type": "display_data"
    },
    {
     "data": {
      "image/png": "[encoded data removed]",
      "text/plain": [
       "<matplotlib.figure.Figure at 0x7ffb0a1c1110>"
      ]
     },
     "metadata": {},
     "output_type": "display_data"
    }
   ],
   "source": [
    "plot_lc(title= \"Logistic regression\", scores = lc_scores,mask = mask_best)"
   ]
  },
  {
   "cell_type": "code",
   "execution_count": 28,
   "metadata": {
    "collapsed": false
   },
   "outputs": [
    {
     "data": {
      "text/plain": [
       "<module 'matplotlib.pyplot' from '/home/wanda/anaconda3/envs/py27/lib/python2.7/site-packages/matplotlib/pyplot.pyc'>"
      ]
     },
     "execution_count": 28,
     "metadata": {},
     "output_type": "execute_result"
    },
    {
     "data": {
      "image/png": "[encoded data removed]",
      "text/plain": [
       "<matplotlib.figure.Figure at 0x7ffb09e1d1d0>"
      ]
     },
     "metadata": {},
     "output_type": "display_data"
    },
    {
     "data": {
      "image/png": "[encoded data removed]",
      "text/plain": [
       "<matplotlib.figure.Figure at 0x7ffb09d65490>"
      ]
     },
     "metadata": {},
     "output_type": "display_data"
    },
    {
     "data": {
      "image/png": "[encoded data removed]",
      "text/plain": [
       "<matplotlib.figure.Figure at 0x7ffb09c7d5d0>"
      ]
     },
     "metadata": {},
     "output_type": "display_data"
    }
   ],
   "source": [
    " plot_lc(title= \"Logistic regression oversample\", scores = lc_scores_o,mask = mask_best_o)"
   ]
  },
  {
   "cell_type": "markdown",
   "metadata": {},
   "source": [
    "# Test Model Performance"
   ]
  },
  {
   "cell_type": "code",
   "execution_count": 29,
   "metadata": {
    "collapsed": false
   },
   "outputs": [
    {
     "data": {
      "text/html": [
       "<div>\n",
       "<table border=\"1\" class=\"dataframe\">\n",
       "  <thead>\n",
       "    <tr style=\"text-align: right;\">\n",
       "      <th></th>\n",
       "      <th>ACC</th>\n",
       "      <th>F2</th>\n",
       "      <th>FNR</th>\n",
       "      <th>FOR</th>\n",
       "      <th>FPR</th>\n",
       "      <th>PRE</th>\n",
       "      <th>PREDICTOR_INDEX</th>\n",
       "      <th>TPR</th>\n",
       "    </tr>\n",
       "  </thead>\n",
       "  <tbody>\n",
       "    <tr>\n",
       "      <th>count</th>\n",
       "      <td>14.000000</td>\n",
       "      <td>14.000000</td>\n",
       "      <td>14.000000</td>\n",
       "      <td>14.000000</td>\n",
       "      <td>14.000000</td>\n",
       "      <td>14.000000</td>\n",
       "      <td>14.0</td>\n",
       "      <td>14.000000</td>\n",
       "    </tr>\n",
       "    <tr>\n",
       "      <th>mean</th>\n",
       "      <td>0.828042</td>\n",
       "      <td>0.796763</td>\n",
       "      <td>0.196013</td>\n",
       "      <td>0.131057</td>\n",
       "      <td>0.156044</td>\n",
       "      <td>0.775520</td>\n",
       "      <td>1.0</td>\n",
       "      <td>0.803987</td>\n",
       "    </tr>\n",
       "    <tr>\n",
       "      <th>std</th>\n",
       "      <td>0.050548</td>\n",
       "      <td>0.076152</td>\n",
       "      <td>0.086879</td>\n",
       "      <td>0.050914</td>\n",
       "      <td>0.054928</td>\n",
       "      <td>0.066528</td>\n",
       "      <td>0.0</td>\n",
       "      <td>0.086879</td>\n",
       "    </tr>\n",
       "    <tr>\n",
       "      <th>min</th>\n",
       "      <td>0.777778</td>\n",
       "      <td>0.669856</td>\n",
       "      <td>0.093023</td>\n",
       "      <td>0.059701</td>\n",
       "      <td>0.030769</td>\n",
       "      <td>0.696429</td>\n",
       "      <td>1.0</td>\n",
       "      <td>0.651163</td>\n",
       "    </tr>\n",
       "    <tr>\n",
       "      <th>25%</th>\n",
       "      <td>0.789352</td>\n",
       "      <td>0.760369</td>\n",
       "      <td>0.110465</td>\n",
       "      <td>0.085470</td>\n",
       "      <td>0.138462</td>\n",
       "      <td>0.733333</td>\n",
       "      <td>1.0</td>\n",
       "      <td>0.767442</td>\n",
       "    </tr>\n",
       "    <tr>\n",
       "      <th>50%</th>\n",
       "      <td>0.810185</td>\n",
       "      <td>0.779882</td>\n",
       "      <td>0.209302</td>\n",
       "      <td>0.145313</td>\n",
       "      <td>0.138462</td>\n",
       "      <td>0.764742</td>\n",
       "      <td>1.0</td>\n",
       "      <td>0.790698</td>\n",
       "    </tr>\n",
       "    <tr>\n",
       "      <th>75%</th>\n",
       "      <td>0.851852</td>\n",
       "      <td>0.848821</td>\n",
       "      <td>0.232558</td>\n",
       "      <td>0.158730</td>\n",
       "      <td>0.184615</td>\n",
       "      <td>0.800000</td>\n",
       "      <td>1.0</td>\n",
       "      <td>0.889535</td>\n",
       "    </tr>\n",
       "    <tr>\n",
       "      <th>max</th>\n",
       "      <td>0.944444</td>\n",
       "      <td>0.915493</td>\n",
       "      <td>0.348837</td>\n",
       "      <td>0.211268</td>\n",
       "      <td>0.261538</td>\n",
       "      <td>0.951220</td>\n",
       "      <td>1.0</td>\n",
       "      <td>0.906977</td>\n",
       "    </tr>\n",
       "  </tbody>\n",
       "</table>\n",
       "</div>"
      ],
      "text/plain": [
       "             ACC         F2        FNR        FOR        FPR        PRE  \\\n",
       "count  14.000000  14.000000  14.000000  14.000000  14.000000  14.000000   \n",
       "mean    0.828042   0.796763   0.196013   0.131057   0.156044   0.775520   \n",
       "std     0.050548   0.076152   0.086879   0.050914   0.054928   0.066528   \n",
       "min     0.777778   0.669856   0.093023   0.059701   0.030769   0.696429   \n",
       "25%     0.789352   0.760369   0.110465   0.085470   0.138462   0.733333   \n",
       "50%     0.810185   0.779882   0.209302   0.145313   0.138462   0.764742   \n",
       "75%     0.851852   0.848821   0.232558   0.158730   0.184615   0.800000   \n",
       "max     0.944444   0.915493   0.348837   0.211268   0.261538   0.951220   \n",
       "\n",
       "       PREDICTOR_INDEX        TPR  \n",
       "count             14.0  14.000000  \n",
       "mean               1.0   0.803987  \n",
       "std                0.0   0.086879  \n",
       "min                1.0   0.651163  \n",
       "25%                1.0   0.767442  \n",
       "50%                1.0   0.790698  \n",
       "75%                1.0   0.889535  \n",
       "max                1.0   0.906977  "
      ]
     },
     "execution_count": 29,
     "metadata": {},
     "output_type": "execute_result"
    }
   ],
   "source": [
    "test_scores = pd.DataFrame(scores_test)\n",
    "test_scores_best = test_scores[test_scores.PREDICTOR_INDEX==best_model]\n",
    "test_scores_best.describe()\n",
    "#ojo for alta "
   ]
  },
  {
   "cell_type": "code",
   "execution_count": 30,
   "metadata": {
    "collapsed": false
   },
   "outputs": [
    {
     "data": {
      "text/html": [
       "<div>\n",
       "<table border=\"1\" class=\"dataframe\">\n",
       "  <thead>\n",
       "    <tr style=\"text-align: right;\">\n",
       "      <th></th>\n",
       "      <th>ACC</th>\n",
       "      <th>F2</th>\n",
       "      <th>FNR</th>\n",
       "      <th>FOR</th>\n",
       "      <th>FPR</th>\n",
       "      <th>PRE</th>\n",
       "      <th>PREDICTOR_INDEX</th>\n",
       "      <th>TPR</th>\n",
       "    </tr>\n",
       "  </thead>\n",
       "  <tbody>\n",
       "    <tr>\n",
       "      <th>count</th>\n",
       "      <td>9.000000</td>\n",
       "      <td>9.000000</td>\n",
       "      <td>9.000000</td>\n",
       "      <td>9.000000</td>\n",
       "      <td>9.000000</td>\n",
       "      <td>9.000000</td>\n",
       "      <td>9.000000</td>\n",
       "      <td>9.000000</td>\n",
       "    </tr>\n",
       "    <tr>\n",
       "      <th>mean</th>\n",
       "      <td>0.849794</td>\n",
       "      <td>0.812939</td>\n",
       "      <td>0.186047</td>\n",
       "      <td>0.123097</td>\n",
       "      <td>0.126496</td>\n",
       "      <td>0.811482</td>\n",
       "      <td>8.666667</td>\n",
       "      <td>0.813953</td>\n",
       "    </tr>\n",
       "    <tr>\n",
       "      <th>std</th>\n",
       "      <td>0.047163</td>\n",
       "      <td>0.060695</td>\n",
       "      <td>0.063689</td>\n",
       "      <td>0.039326</td>\n",
       "      <td>0.047901</td>\n",
       "      <td>0.065834</td>\n",
       "      <td>8.689074</td>\n",
       "      <td>0.063689</td>\n",
       "    </tr>\n",
       "    <tr>\n",
       "      <th>min</th>\n",
       "      <td>0.796296</td>\n",
       "      <td>0.727700</td>\n",
       "      <td>0.093023</td>\n",
       "      <td>0.059701</td>\n",
       "      <td>0.030769</td>\n",
       "      <td>0.723404</td>\n",
       "      <td>1.000000</td>\n",
       "      <td>0.720930</td>\n",
       "    </tr>\n",
       "    <tr>\n",
       "      <th>25%</th>\n",
       "      <td>0.824074</td>\n",
       "      <td>0.776256</td>\n",
       "      <td>0.162791</td>\n",
       "      <td>0.109375</td>\n",
       "      <td>0.107692</td>\n",
       "      <td>0.760870</td>\n",
       "      <td>3.000000</td>\n",
       "      <td>0.790698</td>\n",
       "    </tr>\n",
       "    <tr>\n",
       "      <th>50%</th>\n",
       "      <td>0.851852</td>\n",
       "      <td>0.817757</td>\n",
       "      <td>0.186047</td>\n",
       "      <td>0.121212</td>\n",
       "      <td>0.123077</td>\n",
       "      <td>0.815789</td>\n",
       "      <td>5.000000</td>\n",
       "      <td>0.813953</td>\n",
       "    </tr>\n",
       "    <tr>\n",
       "      <th>75%</th>\n",
       "      <td>0.861111</td>\n",
       "      <td>0.833333</td>\n",
       "      <td>0.209302</td>\n",
       "      <td>0.147541</td>\n",
       "      <td>0.153846</td>\n",
       "      <td>0.833333</td>\n",
       "      <td>9.000000</td>\n",
       "      <td>0.837209</td>\n",
       "    </tr>\n",
       "    <tr>\n",
       "      <th>max</th>\n",
       "      <td>0.944444</td>\n",
       "      <td>0.915493</td>\n",
       "      <td>0.279070</td>\n",
       "      <td>0.179104</td>\n",
       "      <td>0.200000</td>\n",
       "      <td>0.951220</td>\n",
       "      <td>27.000000</td>\n",
       "      <td>0.906977</td>\n",
       "    </tr>\n",
       "  </tbody>\n",
       "</table>\n",
       "</div>"
      ],
      "text/plain": [
       "            ACC        F2       FNR       FOR       FPR       PRE  \\\n",
       "count  9.000000  9.000000  9.000000  9.000000  9.000000  9.000000   \n",
       "mean   0.849794  0.812939  0.186047  0.123097  0.126496  0.811482   \n",
       "std    0.047163  0.060695  0.063689  0.039326  0.047901  0.065834   \n",
       "min    0.796296  0.727700  0.093023  0.059701  0.030769  0.723404   \n",
       "25%    0.824074  0.776256  0.162791  0.109375  0.107692  0.760870   \n",
       "50%    0.851852  0.817757  0.186047  0.121212  0.123077  0.815789   \n",
       "75%    0.861111  0.833333  0.209302  0.147541  0.153846  0.833333   \n",
       "max    0.944444  0.915493  0.279070  0.179104  0.200000  0.951220   \n",
       "\n",
       "       PREDICTOR_INDEX       TPR  \n",
       "count         9.000000  9.000000  \n",
       "mean          8.666667  0.813953  \n",
       "std           8.689074  0.063689  \n",
       "min           1.000000  0.720930  \n",
       "25%           3.000000  0.790698  \n",
       "50%           5.000000  0.813953  \n",
       "75%           9.000000  0.837209  \n",
       "max          27.000000  0.906977  "
      ]
     },
     "execution_count": 30,
     "metadata": {},
     "output_type": "execute_result"
    }
   ],
   "source": [
    "test_scores_o = pd.DataFrame(scores_test_o)\n",
    "test_scores_best_o = test_scores[test_scores_o.PREDICTOR_INDEX==best_model]\n",
    "test_scores_best_o.describe()"
   ]
  },
  {
   "cell_type": "code",
   "execution_count": 31,
   "metadata": {
    "collapsed": true
   },
   "outputs": [],
   "source": [
    "folder_results = 'Results_Spain/'\n",
    "str_clf = 'LR'\n",
    "\n",
    "test_scores.to_csv(folder_results+str_clf+\"_test.csv\")\n",
    "test_scores_o.to_csv(folder_results+str_clf+\"_o_test.csv\")"
   ]
  },
  {
   "cell_type": "code",
   "execution_count": 32,
   "metadata": {
    "collapsed": false
   },
   "outputs": [
    {
     "data": {
      "text/html": [
       "<div>\n",
       "<table border=\"1\" class=\"dataframe\">\n",
       "  <thead>\n",
       "    <tr style=\"text-align: right;\">\n",
       "      <th></th>\n",
       "      <th>param_C</th>\n",
       "      <th>param_solver</th>\n",
       "      <th>params</th>\n",
       "    </tr>\n",
       "  </thead>\n",
       "  <tbody>\n",
       "    <tr>\n",
       "      <th>0</th>\n",
       "      <td>0.1</td>\n",
       "      <td>newton-cg</td>\n",
       "      <td>{u'C': 0.1, u'solver': u'newton-cg'}</td>\n",
       "    </tr>\n",
       "    <tr>\n",
       "      <th>1</th>\n",
       "      <td>0.1</td>\n",
       "      <td>lbfgs</td>\n",
       "      <td>{u'C': 0.1, u'solver': u'lbfgs'}</td>\n",
       "    </tr>\n",
       "    <tr>\n",
       "      <th>2</th>\n",
       "      <td>0.1</td>\n",
       "      <td>sag</td>\n",
       "      <td>{u'C': 0.1, u'solver': u'sag'}</td>\n",
       "    </tr>\n",
       "    <tr>\n",
       "      <th>3</th>\n",
       "      <td>0.1</td>\n",
       "      <td>liblinear</td>\n",
       "      <td>{u'C': 0.1, u'solver': u'liblinear'}</td>\n",
       "    </tr>\n",
       "    <tr>\n",
       "      <th>4</th>\n",
       "      <td>0.2</td>\n",
       "      <td>newton-cg</td>\n",
       "      <td>{u'C': 0.2, u'solver': u'newton-cg'}</td>\n",
       "    </tr>\n",
       "  </tbody>\n",
       "</table>\n",
       "</div>"
      ],
      "text/plain": [
       "  param_C param_solver                                params\n",
       "0     0.1    newton-cg  {u'C': 0.1, u'solver': u'newton-cg'}\n",
       "1     0.1        lbfgs      {u'C': 0.1, u'solver': u'lbfgs'}\n",
       "2     0.1          sag        {u'C': 0.1, u'solver': u'sag'}\n",
       "3     0.1    liblinear  {u'C': 0.1, u'solver': u'liblinear'}\n",
       "4     0.2    newton-cg  {u'C': 0.2, u'solver': u'newton-cg'}"
      ]
     },
     "execution_count": 32,
     "metadata": {},
     "output_type": "execute_result"
    }
   ],
   "source": [
    "cols = pd.DataFrame(results).columns\n",
    "params_df = [ i for i in cols if 'param' in i]\n",
    "pd.DataFrame(results)[params_df].to_csv(folder_results+str_clf+'_algorithms_params.csv')\n",
    "pd.DataFrame(results)[params_df].head()"
   ]
  },
  {
   "cell_type": "code",
   "execution_count": 33,
   "metadata": {
    "collapsed": false
   },
   "outputs": [
    {
     "data": {
      "text/html": [
       "<div>\n",
       "<table border=\"1\" class=\"dataframe\">\n",
       "  <thead>\n",
       "    <tr style=\"text-align: right;\">\n",
       "      <th></th>\n",
       "      <th>param_C</th>\n",
       "      <th>param_solver</th>\n",
       "      <th>params</th>\n",
       "    </tr>\n",
       "  </thead>\n",
       "  <tbody>\n",
       "    <tr>\n",
       "      <th>0</th>\n",
       "      <td>0.1</td>\n",
       "      <td>newton-cg</td>\n",
       "      <td>{u'C': 0.1, u'solver': u'newton-cg'}</td>\n",
       "    </tr>\n",
       "    <tr>\n",
       "      <th>1</th>\n",
       "      <td>0.1</td>\n",
       "      <td>lbfgs</td>\n",
       "      <td>{u'C': 0.1, u'solver': u'lbfgs'}</td>\n",
       "    </tr>\n",
       "    <tr>\n",
       "      <th>2</th>\n",
       "      <td>0.1</td>\n",
       "      <td>sag</td>\n",
       "      <td>{u'C': 0.1, u'solver': u'sag'}</td>\n",
       "    </tr>\n",
       "    <tr>\n",
       "      <th>3</th>\n",
       "      <td>0.1</td>\n",
       "      <td>liblinear</td>\n",
       "      <td>{u'C': 0.1, u'solver': u'liblinear'}</td>\n",
       "    </tr>\n",
       "    <tr>\n",
       "      <th>4</th>\n",
       "      <td>0.2</td>\n",
       "      <td>newton-cg</td>\n",
       "      <td>{u'C': 0.2, u'solver': u'newton-cg'}</td>\n",
       "    </tr>\n",
       "  </tbody>\n",
       "</table>\n",
       "</div>"
      ],
      "text/plain": [
       "  param_C param_solver                                params\n",
       "0     0.1    newton-cg  {u'C': 0.1, u'solver': u'newton-cg'}\n",
       "1     0.1        lbfgs      {u'C': 0.1, u'solver': u'lbfgs'}\n",
       "2     0.1          sag        {u'C': 0.1, u'solver': u'sag'}\n",
       "3     0.1    liblinear  {u'C': 0.1, u'solver': u'liblinear'}\n",
       "4     0.2    newton-cg  {u'C': 0.2, u'solver': u'newton-cg'}"
      ]
     },
     "execution_count": 33,
     "metadata": {},
     "output_type": "execute_result"
    }
   ],
   "source": [
    "cols_o = pd.DataFrame(results_o).columns\n",
    "params_df_o = [ i for i in cols_o if 'param' in i]\n",
    "pd.DataFrame(results_o)[params_df_o].to_csv(folder_results+str_clf+'_algorithms_params_o.csv')\n",
    "pd.DataFrame(results_o)[params_df_o].head()"
   ]
  },
  {
   "cell_type": "markdown",
   "metadata": {},
   "source": [
    "# Dataset info \n",
    "\n",
    "**Metadata** \n",
    "\n",
    "- Day\n",
    "- Year\n",
    "- event ID\n",
    "\n",
    "----------------------\n",
    "### Predictor variables\n",
    "\n",
    "- number of stations  **Cuantitativo**\n",
    "- number of pairs  **Cuantitativo**\n",
    "- mean elevation **Cuantitativo**\n",
    "- lowest elevation **Cuantitativo**\n",
    "- biggest elevation **Cuantitativo**\n",
    "\n",
    "** Double frequency phase_delay signal information **\n",
    "\n",
    "- Phase Delay mean **for each station** **Cuantitativo**\n",
    "- Phase Delay standar deviation **Cuantitativo**\n",
    "- Phase Delay max **Cuantitativo**\n",
    "- Phase Delay min **Cuantitativo**\n",
    "- Phase Delay std **Cuantitativo**\n",
    "- Phase Delay kurtosis **Cuantitativo**\n",
    "- Code Delay mean **Cuantitativo**\n",
    "- Mean squared error between code and phase **Cuantitativo**\n",
    "\n",
    "\n",
    "**Gradient signal information**\n",
    "\n",
    "\n",
    "- Kurtosis mean **Cuantitativo**\n",
    "- Gradient mean **Cuantitativo**\n",
    "- Gradient max **Cuantitativo**\n",
    "- Gradient min **Cuantitativo**\n",
    "- **Outliers detected** \n",
    "-  **Segments descriptor ? **\n",
    "\n",
    "\n",
    "**Space weather data**\n",
    "\n",
    "\n",
    "- Kp index (Every 3 hours) **Cuantitativo**\n",
    "- A index (Daily) **Cuantitativo**\n",
    "- Sunspot number **Cuantitativo**\n",
    "- Sunspot area **Cuantitativo**\n",
    "- Radio Flux Penticton 10.7 cm   **Cuantitativo**\n",
    "-  X-Ray flux flares c y s **Cuantitativo**\n",
    "-------------------------------\n",
    "\n",
    "### Original Classes\n",
    "**True**\n",
    "- Gradients with few peaks (conus). **(1)**\n",
    "- Gradients for scintillation (regme) are very varying. **(2)**\n",
    "\n",
    "**False**\n",
    "- Short arcs that create high variations on the substraction.**(3)**\n",
    "- Outliers in one station (faulty for some reason) creating false gradient with all the neighbours.**(4)**\n",
    "- Outliers in all stations at some time.**(5)**\n",
    "\n",
    "There's very few elements on classes 4, 5 so we can add them to class 3."
   ]
  },
  {
   "cell_type": "code",
   "execution_count": null,
   "metadata": {
    "collapsed": true
   },
   "outputs": [],
   "source": [
    "#https://stats.stackexchange.com/questions/95797/how-to-split-the-dataset-for-cross-validation-learning-curve-and-final-evaluat"
   ]
  }
 ],
 "metadata": {
  "anaconda-cloud": {},
  "kernelspec": {
   "display_name": "Python 2",
   "language": "python",
   "name": "python2"
  },
  "language_info": {
   "codemirror_mode": {
    "name": "ipython",
    "version": 2
   },
   "file_extension": ".py",
   "mimetype": "text/x-python",
   "name": "python",
   "nbconvert_exporter": "python",
   "pygments_lexer": "ipython2",
   "version": "2.7.13"
  }
 },
 "nbformat": 4,
 "nbformat_minor": 2
}
